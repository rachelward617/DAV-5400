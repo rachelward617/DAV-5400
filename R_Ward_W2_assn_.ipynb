{
 "cells": [
  {
   "cell_type": "markdown",
   "metadata": {},
   "source": [
    "# Rachel Ward\n",
    "## DAV 5400 - Assignment 2\n",
    "\n",
    "Importing **cars-sample35.txt** as a csvfile. "
   ]
  },
  {
   "cell_type": "code",
   "execution_count": 3,
   "metadata": {},
   "outputs": [
    {
     "name": "stdout",
     "output_type": "stream",
     "text": [
      "['high', 'high', '2', '4', 'med', 'low', 'unacc']\n",
      "['high', 'high', '4', 'more', 'small', 'high', 'acc']\n",
      "['high', 'high', '4', 'more', 'big', 'low', 'unacc']\n",
      "['high', 'low', '2', 'more', 'big', 'high', 'acc']\n",
      "['vhigh', 'low', '3', '2', 'med', 'med', 'unacc']\n",
      "['low', 'high', '2', '2', 'small', 'low', 'unacc']\n",
      "['med', 'med', '4', 'more', 'med', 'high', 'vgood']\n",
      "['low', 'low', '3', '2', 'big', 'med', 'unacc']\n",
      "['vhigh', 'low', '2', '2', 'small', 'low', 'unacc']\n",
      "['vhigh', 'high', '4', '4', 'med', 'low', 'unacc']\n",
      "['low', 'low', '2', '2', 'med', 'med', 'unacc']\n",
      "['vhigh', 'low', '4', 'more', 'small', 'high', 'acc']\n",
      "['high', 'low', '2', '4', 'big', 'med', 'acc']\n",
      "['low', 'vhigh', '3', 'more', 'big', 'low', 'unacc']\n",
      "['high', 'low', '5more', '2', 'big', 'med', 'unacc']\n",
      "['vhigh', 'high', '2', 'more', 'med', 'high', 'unacc']\n",
      "['med', 'med', '2', '2', 'small', 'low', 'unacc']\n",
      "['high', 'low', '5more', '4', 'med', 'high', 'acc']\n",
      "['low', 'low', '3', 'more', 'med', 'high', 'vgood']\n",
      "['low', 'low', '2', '2', 'big', 'med', 'unacc']\n",
      "['med', 'high', '4', '2', 'big', 'high', 'unacc']\n",
      "['low', 'low', '2', '2', 'small', 'high', 'unacc']\n",
      "['vhigh', 'high', '5more', '4', 'med', 'med', 'unacc']\n",
      "['med', 'vhigh', '2', '2', 'big', 'low', 'unacc']\n",
      "['low', 'vhigh', '4', '4', 'big', 'low', 'unacc']\n",
      "['vhigh', 'low', '3', 'more', 'big', 'low', 'unacc']\n",
      "['med', 'vhigh', '3', '4', 'small', 'low', 'unacc']\n",
      "['high', 'high', '3', '4', 'med', 'med', 'unacc']\n",
      "['low', 'high', '5more', '2', 'big', 'low', 'unacc']\n",
      "['med', 'high', '5more', '2', 'med', 'med', 'unacc']\n",
      "['high', 'low', '3', '4', 'med', 'high', 'acc']\n",
      "['high', 'vhigh', '5more', '4', 'med', 'med', 'unacc']\n",
      "['low', 'low', '5more', '2', 'med', 'low', 'unacc']\n",
      "['vhigh', 'vhigh', '4', '2', 'big', 'high', 'unacc']\n",
      "['high', 'low', '3', '2', 'big', 'high', 'unacc']\n"
     ]
    }
   ],
   "source": [
    "import csv\n",
    "\n",
    "with open('C:/Users/Sheri/Downloads/cars-sample35.txt') as csvfile:\n",
    " readCSV = csv.reader(csvfile)\n",
    " for row in readCSV:\n",
    " # print each row as read by the csv.reader function\n",
    "     print(row)"
   ]
  },
  {
   "cell_type": "code",
   "execution_count": 4,
   "metadata": {},
   "outputs": [
    {
     "name": "stdout",
     "output_type": "stream",
     "text": [
      "price =  ['high', 'high', 'high', 'high', 'vhigh', 'low', 'med', 'low', 'vhigh', 'vhigh', 'low', 'vhigh', 'high', 'low', 'high', 'vhigh', 'med', 'high', 'low', 'low', 'med', 'low', 'vhigh', 'med', 'low', 'vhigh', 'med', 'high', 'low', 'med', 'high', 'high', 'low', 'vhigh', 'high']\n",
      "maintenance_cost =  ['high', 'high', 'high', 'low', 'low', 'high', 'med', 'low', 'low', 'high', 'low', 'low', 'low', 'vhigh', 'low', 'high', 'med', 'low', 'low', 'low', 'high', 'low', 'high', 'vhigh', 'vhigh', 'low', 'vhigh', 'high', 'high', 'high', 'low', 'vhigh', 'low', 'vhigh', 'low']\n",
      "number_of_doors =  ['2', '4', '4', '2', '3', '2', '4', '3', '2', '4', '2', '4', '2', '3', '5more', '2', '2', '5more', '3', '2', '4', '2', '5more', '2', '4', '3', '3', '3', '5more', '5more', '3', '5more', '5more', '4', '3']\n",
      "number_of_passengers =  ['4', 'more', 'more', 'more', '2', '2', 'more', '2', '2', '4', '2', 'more', '4', 'more', '2', 'more', '2', '4', 'more', '2', '2', '2', '4', '2', '4', 'more', '4', '4', '2', '2', '4', '4', '2', '2', '2']\n",
      "luggage_capacity =  ['med', 'small', 'big', 'big', 'med', 'small', 'med', 'big', 'small', 'med', 'med', 'small', 'big', 'big', 'big', 'med', 'small', 'med', 'med', 'big', 'big', 'small', 'med', 'big', 'big', 'big', 'small', 'med', 'big', 'med', 'med', 'med', 'med', 'big', 'big']\n",
      "safety_rating =  ['low', 'high', 'low', 'high', 'med', 'low', 'high', 'med', 'low', 'low', 'med', 'high', 'med', 'low', 'med', 'high', 'low', 'high', 'high', 'med', 'high', 'high', 'med', 'low', 'low', 'low', 'low', 'med', 'low', 'med', 'high', 'med', 'low', 'high', 'high']\n",
      "classification_of_vehicle =  ['unacc', 'acc', 'unacc', 'acc', 'unacc', 'unacc', 'vgood', 'unacc', 'unacc', 'unacc', 'unacc', 'acc', 'acc', 'unacc', 'unacc', 'unacc', 'unacc', 'acc', 'vgood', 'unacc', 'unacc', 'unacc', 'unacc', 'unacc', 'unacc', 'unacc', 'unacc', 'unacc', 'unacc', 'unacc', 'acc', 'unacc', 'unacc', 'unacc', 'unacc']\n"
     ]
    }
   ],
   "source": [
    "#Define all seven lists\n",
    "price = []\n",
    "maintenance_cost = []\n",
    "number_of_doors = []\n",
    "number_of_passengers = []\n",
    "luggage_capacity = []\n",
    "safety_rating = []\n",
    "classification_of_vehicle = []\n",
    "\n",
    "#Code to take the appropriate data from each row and add the appropriate data to the correct list as defined above.\n",
    "with open('C:/Users/Sheri/Downloads/cars-sample35.txt') as csvfile:\n",
    " readCSV = csv.reader(csvfile)\n",
    " for row in readCSV:\n",
    "        price.append(row[0]),\n",
    "        maintenance_cost.append(row[1]),\n",
    "        number_of_doors.append(row[2]),\n",
    "        number_of_passengers.append(row[3]),\n",
    "        luggage_capacity.append(row[4]),\n",
    "        safety_rating.append(row[5]),\n",
    "        classification_of_vehicle.append(row[6]);\n",
    "        \n",
    "#Return lists to check for accuracy\n",
    "print(\"price = \", price)\n",
    "print (\"maintenance_cost = \", maintenance_cost)\n",
    "print(\"number_of_doors = \", number_of_doors)\n",
    "print(\"number_of_passengers = \", number_of_passengers)\n",
    "print(\"luggage_capacity = \", luggage_capacity)\n",
    "print(\"safety_rating = \", safety_rating)\n",
    "print(\"classification_of_vehicle = \", classification_of_vehicle)"
   ]
  },
  {
   "cell_type": "markdown",
   "metadata": {},
   "source": [
    "### Second Task\n",
    "\"Your second task is to find the list index values of each automobile having a price rating of \"med\". Create a new list with\n",
    "your result. HINT: you can accomplish this task by searching the list of price values you created earlier. Be sure to print\n",
    "your results.\"\n",
    "\n",
    "For this task I researched list comprehension at [this link](https://www.datacamp.com/community/tutorials/python-list-index) because the only way I knew how to do it was using the .index function, which only returns the first index value. Said differently, I would only generate one result. I could have compiled this by using the for loop but I knew there had to be a simpler way to get the entire list of index values. "
   ]
  },
  {
   "cell_type": "code",
   "execution_count": 5,
   "metadata": {},
   "outputs": [
    {
     "name": "stdout",
     "output_type": "stream",
     "text": [
      "The index numbers for all 'med' price values are [6, 16, 20, 23, 26, 29]\n"
     ]
    }
   ],
   "source": [
    " #uses list comprehension to pull list of index values\n",
    "price_of_med_indexes = [i for i, n in enumerate(price) if n == 'med']\n",
    "\n",
    "#prints results generated above\n",
    "print(\"The index numbers for all 'med' price values are\", price_of_med_indexes)"
   ]
  },
  {
   "cell_type": "markdown",
   "metadata": {},
   "source": [
    "### Third Task\n",
    "\"Your third task is to find the \"number of passengers\" value for each auto having a \"price\" value of \"med\". Create a new\n",
    "list to store your findings and be sure to print your results.\""
   ]
  },
  {
   "cell_type": "code",
   "execution_count": 6,
   "metadata": {},
   "outputs": [
    {
     "name": "stdout",
     "output_type": "stream",
     "text": [
      "The related number of passengers values for each auto having a price value of 'med' are  ['more', '2', '2', '2', '4', '2']\n"
     ]
    }
   ],
   "source": [
    "#creates a list by pulling the indexed value out of the number_of_passengers list for every index listed in the price_of_med_indexes list created in the second task\n",
    "related_number_of_passengers = [number_of_passengers[i] for i in price_of_med_indexes]\n",
    "\n",
    "#prints the result generated above\n",
    "print(\"The related number of passengers values for each auto having a price value of 'med' are \", related_number_of_passengers)"
   ]
  },
  {
   "cell_type": "markdown",
   "metadata": {},
   "source": [
    "### Fourth Task\n",
    "\n",
    "\"Your fourth task is to find the index value for each automobile having a price value of \"high\" and a maintenance value\n",
    "that is not \"low\". Create a new list to store your findings and be sure to print your results.\""
   ]
  },
  {
   "cell_type": "code",
   "execution_count": 7,
   "metadata": {},
   "outputs": [
    {
     "name": "stdout",
     "output_type": "stream",
     "text": [
      "The indexes for each auto having a price value of 'high' and a maintenance value that is not low are  [0, 1, 2, 27, 31]\n"
     ]
    }
   ],
   "source": [
    "#use list comprehension to pull a list of all index values for prices of \"high\"\n",
    "price_of_high_indexes = [i for i, n in enumerate(price) if n =='high']\n",
    "\n",
    "#creates empty list in which we will store the values of the indexes after we get rid of the ones that have 'low' as the maintenance cost\n",
    "indexes =[]\n",
    "\n",
    "#loops through the maintenance cost list by index number and checks if that returns 'low', if it doesn't, it adds the index number to the list created directly above\n",
    "for i in price_of_high_indexes:\n",
    "    if maintenance_cost[i] != 'low':\n",
    "        indexes.append(i);\n",
    "\n",
    "#prints the results generated by our statements above\n",
    "print(\"The indexes for each auto having a price value of 'high' and a maintenance value that is not low are \", indexes)"
   ]
  },
  {
   "cell_type": "markdown",
   "metadata": {},
   "source": [
    "### Fifth Task\n",
    "\n",
    "\"Your fifth task is to find the index value for each auto having 2 doors and a luggage value of \"big\". Create a new list to\n",
    "store your findings and be sure to print your results.\""
   ]
  },
  {
   "cell_type": "code",
   "execution_count": 8,
   "metadata": {},
   "outputs": [
    {
     "name": "stdout",
     "output_type": "stream",
     "text": [
      "The index values for autos with 2 doors and a luggage value of 'big' are [3, 12, 19, 23]\n"
     ]
    }
   ],
   "source": [
    "#use list comprehension to pull a list of all index values for number of doors == 2.\n",
    "more_than_2_doors = [i for i, n in enumerate(number_of_doors) if n == '2']\n",
    "\n",
    "#creates empty list in which we will store the values of the indexes after we select only the indexes that have \"big\" as the luggage value\n",
    "luggage_indexes = []\n",
    "\n",
    "#loops through the luggage list by index number and checks if that returns \"big\", if so it is added to the list created directly above\n",
    "for i in more_than_2_doors:\n",
    "    if luggage_capacity[i] == 'big':\n",
    "        luggage_indexes.append(i);\n",
    "\n",
    "#prints the results generated by our statements above\n",
    "print(\"The index values for autos with 2 doors and a luggage value of 'big' are\", luggage_indexes)"
   ]
  },
  {
   "cell_type": "markdown",
   "metadata": {},
   "source": [
    "### FInal Task\n",
    "\n",
    "\"Finally, create a new list containing the only the integer equivalents of the doors values. Keep in mind that the lists you\n",
    "have created thus far are composed solely of strings. If you find any values of '5more' in your list, convert them to a '5'.\n",
    "After converting the '5more' values to '5', convert all of the items in your list to their numeric equivalent and calculate\n",
    "the average number of doors across all 35 autos using whichever of Python's built in functions you require. Print your\n",
    "result.\""
   ]
  },
  {
   "cell_type": "code",
   "execution_count": 9,
   "metadata": {},
   "outputs": [
    {
     "name": "stdout",
     "output_type": "stream",
     "text": [
      "After altering the '5more' values, the list of number of doors is now:  ['2', '4', '4', '2', '3', '2', '4', '3', '2', '4', '2', '4', '2', '3', '5', '2', '2', '5', '3', '2', '4', '2', '5', '2', '4', '3', '3', '3', '5', '5', '3', '5', '5', '4', '3']\n",
      "After converting them all to integers, the new list is:  [2, 4, 4, 2, 3, 2, 4, 3, 2, 4, 2, 4, 2, 3, 5, 2, 2, 5, 3, 2, 4, 2, 5, 2, 4, 3, 3, 3, 5, 5, 3, 5, 5, 4, 3]\n",
      "The average number of doors across the 35 autos is  3.3142857142857145\n"
     ]
    }
   ],
   "source": [
    "#creates new list where we will store the altered list values for number of doors\n",
    "new_number_of_doors = []\n",
    "\n",
    "#loops through number of doors list and changes '5more' to '5' and leaves everything else the same, adds to new list\n",
    "for i in number_of_doors:\n",
    "    if i == '5more':\n",
    "        new_number_of_doors.append('5')\n",
    "    else:\n",
    "        new_number_of_doors.append(i);\n",
    "\n",
    "#prints results generated above\n",
    "print(\"After altering the '5more' values, the list of number of doors is now: \",new_number_of_doors)\n",
    "\n",
    "#uses list comprehension to convert each string item in new_number_of_doors into an integer\n",
    "new_number_of_doors_int = [int(i) for i in new_number_of_doors]\n",
    "\n",
    "#prints results generated above\n",
    "print(\"After converting them all to integers, the new list is: \",new_number_of_doors_int)\n",
    "\n",
    "#creates new variables for sum and count with values of 0 so that we can calculate average\n",
    "sumofdoors = 0\n",
    "countofvalues = 0\n",
    "\n",
    "#loops through list of integers and adds them together and counts how many values there are\n",
    "for i in new_number_of_doors_int:\n",
    "    sumofdoors = sumofdoors + i;\n",
    "    countofvalues = countofvalues + 1;\n",
    "\n",
    "#creates new variable to hold average and calculates average by dividing sum by number of values\n",
    "average_number_of_doors = sumofdoors/countofvalues\n",
    "\n",
    "#prints final result\n",
    "print(\"The average number of doors across the 35 autos is \",average_number_of_doors)"
   ]
  },
  {
   "cell_type": "markdown",
   "metadata": {},
   "source": [
    "## End of Assignment"
   ]
  },
  {
   "cell_type": "code",
   "execution_count": null,
   "metadata": {},
   "outputs": [],
   "source": []
  }
 ],
 "metadata": {
  "kernelspec": {
   "display_name": "Python 3",
   "language": "python",
   "name": "python3"
  },
  "language_info": {
   "codemirror_mode": {
    "name": "ipython",
    "version": 3
   },
   "file_extension": ".py",
   "mimetype": "text/x-python",
   "name": "python",
   "nbconvert_exporter": "python",
   "pygments_lexer": "ipython3",
   "version": "3.7.3"
  }
 },
 "nbformat": 4,
 "nbformat_minor": 2
}
