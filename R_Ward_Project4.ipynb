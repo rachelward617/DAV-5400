{
 "cells": [
  {
   "cell_type": "markdown",
   "metadata": {},
   "source": [
    "# Rachel Ward - DAV 5400 \n",
    "## Project 4 - Predictive Analysis using scikit-learn\n",
    "\n",
    "For this project I will be using the [UCI Mushroom Data Set](https://archive.ics.uci.edu/ml/datasets/mushroom) and scikit-learn to answer the following question:\n",
    "\n",
    "**“Which other attribute (i.e., aside from the poisonous/edible indicator) or attributes are the best predictors of\n",
    "whether a particular mushroom is poisonous or edible?”**\n",
    "\n",
    "This project will be separated into two phases. The first phase will consist of data acquisition, data preparation & exploratory data analysis. The second phase will consist of building predictive models to determine which attribute is the best predictor of whether a particular mushroom is poisonous or edible."
   ]
  },
  {
   "cell_type": "markdown",
   "metadata": {},
   "source": [
    "## Phase 1 - Data Acquisition, Data Preparation & Exploratory Data Analysis\n",
    "\n",
    "For this first phase of this project, I will be acquiring the data, preparing it to build a predictive model, and performing exploratory data analysis. \n",
    "\n",
    "First I studied the dataset and the associated description of the data from the UCI website.\n",
    "Then I will save the dataset to my github account, and read the file into a pandas dataframe. I will create a subset of this large dataframe that only includes variables I am interested in studied. I will also rename these columns to facilitate the analysis. \n",
    "\n",
    "I will perform exploratory data analysis on each column of this subset and show plots of the poisonous/edible variable vs. each of the other columns. To create these plots I will need to do transform the poisonous/edible column into an indicator column with 1 indicating poisonous and 0 indicating edible. \n",
    "\n",
    "After I perform my exploratory data analysis, I will create sets of dummy variables for each of the other variables since scikit-learn requires that values be stored as numeric values. \n",
    "\n",
    "I will provide preliminary conclusions throughout my exploratory analysis. I begin this phase immediately below with acquiring the data. "
   ]
  },
  {
   "cell_type": "markdown",
   "metadata": {},
   "source": [
    "### Phase 1: Data Acquisition\n",
    "\n",
    "I first downloaded the data from the UCI website and saved it to my github account. Now, to begin, I will first import pandas and numpy and then read in the file using pandas read_csv function."
   ]
  },
  {
   "cell_type": "code",
   "execution_count": 40,
   "metadata": {},
   "outputs": [
    {
     "data": {
      "text/html": [
       "<div>\n",
       "<style scoped>\n",
       "    .dataframe tbody tr th:only-of-type {\n",
       "        vertical-align: middle;\n",
       "    }\n",
       "\n",
       "    .dataframe tbody tr th {\n",
       "        vertical-align: top;\n",
       "    }\n",
       "\n",
       "    .dataframe thead th {\n",
       "        text-align: right;\n",
       "    }\n",
       "</style>\n",
       "<table border=\"1\" class=\"dataframe\">\n",
       "  <thead>\n",
       "    <tr style=\"text-align: right;\">\n",
       "      <th></th>\n",
       "      <th>0</th>\n",
       "      <th>1</th>\n",
       "      <th>2</th>\n",
       "      <th>3</th>\n",
       "      <th>4</th>\n",
       "      <th>5</th>\n",
       "      <th>6</th>\n",
       "      <th>7</th>\n",
       "      <th>8</th>\n",
       "      <th>9</th>\n",
       "      <th>...</th>\n",
       "      <th>13</th>\n",
       "      <th>14</th>\n",
       "      <th>15</th>\n",
       "      <th>16</th>\n",
       "      <th>17</th>\n",
       "      <th>18</th>\n",
       "      <th>19</th>\n",
       "      <th>20</th>\n",
       "      <th>21</th>\n",
       "      <th>22</th>\n",
       "    </tr>\n",
       "  </thead>\n",
       "  <tbody>\n",
       "    <tr>\n",
       "      <td>0</td>\n",
       "      <td>p</td>\n",
       "      <td>x</td>\n",
       "      <td>s</td>\n",
       "      <td>n</td>\n",
       "      <td>t</td>\n",
       "      <td>p</td>\n",
       "      <td>f</td>\n",
       "      <td>c</td>\n",
       "      <td>n</td>\n",
       "      <td>k</td>\n",
       "      <td>...</td>\n",
       "      <td>s</td>\n",
       "      <td>w</td>\n",
       "      <td>w</td>\n",
       "      <td>p</td>\n",
       "      <td>w</td>\n",
       "      <td>o</td>\n",
       "      <td>p</td>\n",
       "      <td>k</td>\n",
       "      <td>s</td>\n",
       "      <td>u</td>\n",
       "    </tr>\n",
       "    <tr>\n",
       "      <td>1</td>\n",
       "      <td>e</td>\n",
       "      <td>x</td>\n",
       "      <td>s</td>\n",
       "      <td>y</td>\n",
       "      <td>t</td>\n",
       "      <td>a</td>\n",
       "      <td>f</td>\n",
       "      <td>c</td>\n",
       "      <td>b</td>\n",
       "      <td>k</td>\n",
       "      <td>...</td>\n",
       "      <td>s</td>\n",
       "      <td>w</td>\n",
       "      <td>w</td>\n",
       "      <td>p</td>\n",
       "      <td>w</td>\n",
       "      <td>o</td>\n",
       "      <td>p</td>\n",
       "      <td>n</td>\n",
       "      <td>n</td>\n",
       "      <td>g</td>\n",
       "    </tr>\n",
       "    <tr>\n",
       "      <td>2</td>\n",
       "      <td>e</td>\n",
       "      <td>b</td>\n",
       "      <td>s</td>\n",
       "      <td>w</td>\n",
       "      <td>t</td>\n",
       "      <td>l</td>\n",
       "      <td>f</td>\n",
       "      <td>c</td>\n",
       "      <td>b</td>\n",
       "      <td>n</td>\n",
       "      <td>...</td>\n",
       "      <td>s</td>\n",
       "      <td>w</td>\n",
       "      <td>w</td>\n",
       "      <td>p</td>\n",
       "      <td>w</td>\n",
       "      <td>o</td>\n",
       "      <td>p</td>\n",
       "      <td>n</td>\n",
       "      <td>n</td>\n",
       "      <td>m</td>\n",
       "    </tr>\n",
       "    <tr>\n",
       "      <td>3</td>\n",
       "      <td>p</td>\n",
       "      <td>x</td>\n",
       "      <td>y</td>\n",
       "      <td>w</td>\n",
       "      <td>t</td>\n",
       "      <td>p</td>\n",
       "      <td>f</td>\n",
       "      <td>c</td>\n",
       "      <td>n</td>\n",
       "      <td>n</td>\n",
       "      <td>...</td>\n",
       "      <td>s</td>\n",
       "      <td>w</td>\n",
       "      <td>w</td>\n",
       "      <td>p</td>\n",
       "      <td>w</td>\n",
       "      <td>o</td>\n",
       "      <td>p</td>\n",
       "      <td>k</td>\n",
       "      <td>s</td>\n",
       "      <td>u</td>\n",
       "    </tr>\n",
       "    <tr>\n",
       "      <td>4</td>\n",
       "      <td>e</td>\n",
       "      <td>x</td>\n",
       "      <td>s</td>\n",
       "      <td>g</td>\n",
       "      <td>f</td>\n",
       "      <td>n</td>\n",
       "      <td>f</td>\n",
       "      <td>w</td>\n",
       "      <td>b</td>\n",
       "      <td>k</td>\n",
       "      <td>...</td>\n",
       "      <td>s</td>\n",
       "      <td>w</td>\n",
       "      <td>w</td>\n",
       "      <td>p</td>\n",
       "      <td>w</td>\n",
       "      <td>o</td>\n",
       "      <td>e</td>\n",
       "      <td>n</td>\n",
       "      <td>a</td>\n",
       "      <td>g</td>\n",
       "    </tr>\n",
       "  </tbody>\n",
       "</table>\n",
       "<p>5 rows × 23 columns</p>\n",
       "</div>"
      ],
      "text/plain": [
       "  0  1  2  3  4  5  6  7  8  9   ... 13 14 15 16 17 18 19 20 21 22\n",
       "0  p  x  s  n  t  p  f  c  n  k  ...  s  w  w  p  w  o  p  k  s  u\n",
       "1  e  x  s  y  t  a  f  c  b  k  ...  s  w  w  p  w  o  p  n  n  g\n",
       "2  e  b  s  w  t  l  f  c  b  n  ...  s  w  w  p  w  o  p  n  n  m\n",
       "3  p  x  y  w  t  p  f  c  n  n  ...  s  w  w  p  w  o  p  k  s  u\n",
       "4  e  x  s  g  f  n  f  w  b  k  ...  s  w  w  p  w  o  e  n  a  g\n",
       "\n",
       "[5 rows x 23 columns]"
      ]
     },
     "execution_count": 40,
     "metadata": {},
     "output_type": "execute_result"
    }
   ],
   "source": [
    "#first import pandas\n",
    "import pandas as pd\n",
    "\n",
    "#also import numpy\n",
    "import numpy as np\n",
    "\n",
    "#now read in the file\n",
    "filename = \"https://raw.githubusercontent.com/rachelward617/DAV-5400/master/agaricus-lepiota.data\"\n",
    "mushrooms = pd.read_csv(filename, header = None)\n",
    "\n",
    "#check results\n",
    "mushrooms.head()"
   ]
  },
  {
   "cell_type": "markdown",
   "metadata": {},
   "source": [
    "Now that I have loaded the data into a dataframe I will create a smaller dataframe with a subset of these columns.\n",
    "\n",
    "I will include column 0 which indicates edible or poisonous, column 5 which indicates odor, column 3 which indicates cap color, column 8 which indicates gill-size, and column 22 which indicates habitat. While columns 0 and 5 were a requirement of the assignment, I chose column 3 after doing some research on [a website about wild food](https://www.wildfooduk.com/articles/how-to-tell-the-difference-between-poisonous-and-edible-mushrooms/) which says that mushrooms with red caps tend to be poisonous. Columns 8 and 22 were chosen because in the small data set in the cell directly above, both poisonous mushrooms have an \"n\" in column 8 while the edible mushrooms all have a \"b.\" Similarly in column 22, both poisonous mushrooms have a value of u while the edible mushrooms have different variables. \n",
    "\n",
    "I will also assign meaningful column names to this new data frame so that it is easier to analyze. "
   ]
  },
  {
   "cell_type": "code",
   "execution_count": 41,
   "metadata": {},
   "outputs": [
    {
     "data": {
      "text/html": [
       "<div>\n",
       "<style scoped>\n",
       "    .dataframe tbody tr th:only-of-type {\n",
       "        vertical-align: middle;\n",
       "    }\n",
       "\n",
       "    .dataframe tbody tr th {\n",
       "        vertical-align: top;\n",
       "    }\n",
       "\n",
       "    .dataframe thead th {\n",
       "        text-align: right;\n",
       "    }\n",
       "</style>\n",
       "<table border=\"1\" class=\"dataframe\">\n",
       "  <thead>\n",
       "    <tr style=\"text-align: right;\">\n",
       "      <th></th>\n",
       "      <th>Poisonous/Edible</th>\n",
       "      <th>Cap_Color</th>\n",
       "      <th>Odor</th>\n",
       "      <th>Gill_Size</th>\n",
       "      <th>Habitat</th>\n",
       "    </tr>\n",
       "  </thead>\n",
       "  <tbody>\n",
       "    <tr>\n",
       "      <td>0</td>\n",
       "      <td>p</td>\n",
       "      <td>n</td>\n",
       "      <td>p</td>\n",
       "      <td>n</td>\n",
       "      <td>u</td>\n",
       "    </tr>\n",
       "    <tr>\n",
       "      <td>1</td>\n",
       "      <td>e</td>\n",
       "      <td>y</td>\n",
       "      <td>a</td>\n",
       "      <td>b</td>\n",
       "      <td>g</td>\n",
       "    </tr>\n",
       "    <tr>\n",
       "      <td>2</td>\n",
       "      <td>e</td>\n",
       "      <td>w</td>\n",
       "      <td>l</td>\n",
       "      <td>b</td>\n",
       "      <td>m</td>\n",
       "    </tr>\n",
       "    <tr>\n",
       "      <td>3</td>\n",
       "      <td>p</td>\n",
       "      <td>w</td>\n",
       "      <td>p</td>\n",
       "      <td>n</td>\n",
       "      <td>u</td>\n",
       "    </tr>\n",
       "    <tr>\n",
       "      <td>4</td>\n",
       "      <td>e</td>\n",
       "      <td>g</td>\n",
       "      <td>n</td>\n",
       "      <td>b</td>\n",
       "      <td>g</td>\n",
       "    </tr>\n",
       "  </tbody>\n",
       "</table>\n",
       "</div>"
      ],
      "text/plain": [
       "  Poisonous/Edible Cap_Color Odor Gill_Size Habitat\n",
       "0                p         n    p         n       u\n",
       "1                e         y    a         b       g\n",
       "2                e         w    l         b       m\n",
       "3                p         w    p         n       u\n",
       "4                e         g    n         b       g"
      ]
     },
     "execution_count": 41,
     "metadata": {},
     "output_type": "execute_result"
    }
   ],
   "source": [
    "#create a smaller data frame with only columns 0,3,5,8, and 22.\n",
    "shrooms = mushrooms[[0,3,5,8,22]].copy()\n",
    "\n",
    "#rename the columns to meaningful names\n",
    "shrooms.rename(columns={0: \"Poisonous/Edible\", 3: \"Cap_Color\", 5: \"Odor\", 8: \"Gill_Size\", 22: \"Habitat\"}, inplace= True)\n",
    "\n",
    "#show results\n",
    "shrooms.head()"
   ]
  },
  {
   "cell_type": "markdown",
   "metadata": {},
   "source": [
    "### Phase 1 - Exploratory Data Analysis\n",
    "\n",
    "Now I will perform exploratory data analysis on the columns I selected in the shrooms data frame. I will show the distribution of data for each of the columns. I will also show plots for poisonous/edible vs. odor as well as the other columns that I selected."
   ]
  },
  {
   "cell_type": "markdown",
   "metadata": {},
   "source": [
    "First I will check the new dataset for null values and see how many records there are."
   ]
  },
  {
   "cell_type": "code",
   "execution_count": 42,
   "metadata": {},
   "outputs": [
    {
     "data": {
      "text/plain": [
       "Poisonous/Edible    0\n",
       "Cap_Color           0\n",
       "Odor                0\n",
       "Gill_Size           0\n",
       "Habitat             0\n",
       "dtype: int64"
      ]
     },
     "execution_count": 42,
     "metadata": {},
     "output_type": "execute_result"
    }
   ],
   "source": [
    "# check the dataset for null values\n",
    "shrooms.isnull().sum()"
   ]
  },
  {
   "cell_type": "code",
   "execution_count": 43,
   "metadata": {},
   "outputs": [
    {
     "data": {
      "text/plain": [
       "(8124, 5)"
      ]
     },
     "execution_count": 43,
     "metadata": {},
     "output_type": "execute_result"
    }
   ],
   "source": [
    "#check how many records are in the data set\n",
    "shrooms.shape"
   ]
  },
  {
   "cell_type": "markdown",
   "metadata": {},
   "source": [
    "### Exploratory Data Analysis - Poisonous/Edible\n",
    "\n",
    "I will begin by analyzing the poisonous/edible column. Since this is a categorical variable I will then graph the distribution using a countplot from seaborn."
   ]
  },
  {
   "cell_type": "code",
   "execution_count": 44,
   "metadata": {},
   "outputs": [
    {
     "data": {
      "text/plain": [
       "count     8124\n",
       "unique       2\n",
       "top          e\n",
       "freq      4208\n",
       "Name: Poisonous/Edible, dtype: object"
      ]
     },
     "execution_count": 44,
     "metadata": {},
     "output_type": "execute_result"
    }
   ],
   "source": [
    "#now that we know there are no null values I will begin by analyzing the attribute poisonous/edible\n",
    "#provide summary statistics for the attribute poisonous/edible\n",
    "shrooms['Poisonous/Edible'].describe()"
   ]
  },
  {
   "cell_type": "code",
   "execution_count": 45,
   "metadata": {},
   "outputs": [
    {
     "data": {
      "image/png": "[encoded data removed]",
      "text/plain": [
       "<Figure size 432x288 with 1 Axes>"
      ]
     },
     "metadata": {
      "needs_background": "light"
     },
     "output_type": "display_data"
    }
   ],
   "source": [
    "#first import seaborn as a visualization tool\n",
    "import seaborn as sns\n",
    "\n",
    "#next I will use Seaborn's built-in countplot feature to show the distribution of poisonous or edible\n",
    "edibleplot = sns.countplot(x=\"Poisonous/Edible\", data=shrooms)\n",
    "\n",
    "#show the bar/count plot\n",
    "edibleplot;"
   ]
  },
  {
   "cell_type": "markdown",
   "metadata": {},
   "source": [
    "### Exploratory Data Analysis - Poisonous/Edible: Results\n",
    "\n",
    "Based on the above count plot and summary statistics, there are only two different values present in this column, 'e' and 'p' which stand for edible and poisonous. From looking at the countplot and the statistics we also know that e is the most common, occuring 4208 out of the total 8124 records. This means more than half of the records in this dataset are for edible mushrooms. The distribution is fairly unimodal. "
   ]
  },
  {
   "cell_type": "markdown",
   "metadata": {},
   "source": [
    "### Exploratory Data Analysis - Cap Color\n",
    "\n",
    "Next I will analyze the cap_color column. Since this is also a categorical variable I will then graph the distribution using a countplot from seaborn."
   ]
  },
  {
   "cell_type": "code",
   "execution_count": 46,
   "metadata": {},
   "outputs": [
    {
     "data": {
      "text/plain": [
       "count     8124\n",
       "unique      10\n",
       "top          n\n",
       "freq      2284\n",
       "Name: Cap_Color, dtype: object"
      ]
     },
     "execution_count": 46,
     "metadata": {},
     "output_type": "execute_result"
    }
   ],
   "source": [
    "#provide summary statistics for the attribute cap_color\n",
    "shrooms['Cap_Color'].describe()"
   ]
  },
  {
   "cell_type": "code",
   "execution_count": 47,
   "metadata": {},
   "outputs": [
    {
     "data": {
      "image/png": "[encoded data removed]",
      "text/plain": [
       "<Figure size 432x288 with 1 Axes>"
      ]
     },
     "metadata": {
      "needs_background": "light"
     },
     "output_type": "display_data"
    }
   ],
   "source": [
    "#next I will use Seaborn's built-in countplot feature to show the distribution of cap color\n",
    "#use the order function to have it sort in descending order\n",
    "capcolorplot = sns.countplot(x=\"Cap_Color\", data=shrooms, order = shrooms['Cap_Color'].value_counts().index)\n",
    "\n",
    "#show the bar/count plot\n",
    "capcolorplot;"
   ]
  },
  {
   "cell_type": "markdown",
   "metadata": {},
   "source": [
    "### Exploratory Data Analysis - Cap_Color: Results\n",
    "\n",
    "Based on the above count plot and summary statistics, there are ten different values present in this column. From looking at the countplot and the statistics we also know that brown ('n') is the most common, occuring in 2284 out of the total 8124 records. The distribution is skewed right because I sorted in descending order. Had I sorted in ascending order it would have been skewed left. This means that there are a few values which do not occur very frequently.\n",
    "\n",
    "In addition to brown ('n'), the other cap colors with 1000 or more occurrences are gray ('g'), red ('e'), yellow ('r'), and white ('w'). The colors buff ('b'), pink ('p'), cinnamon ('c'), purple ('u'), and green ('r') do not occur very frequently in this dataset. "
   ]
  },
  {
   "cell_type": "markdown",
   "metadata": {},
   "source": [
    "### Exploratory Data Analysis - Odor\n",
    "\n",
    "Next I will analyze the odor column. Since this is also a categorical variable I will then graph the distribution using a countplot from seaborn."
   ]
  },
  {
   "cell_type": "code",
   "execution_count": 48,
   "metadata": {},
   "outputs": [
    {
     "data": {
      "text/plain": [
       "count     8124\n",
       "unique       9\n",
       "top          n\n",
       "freq      3528\n",
       "Name: Odor, dtype: object"
      ]
     },
     "execution_count": 48,
     "metadata": {},
     "output_type": "execute_result"
    }
   ],
   "source": [
    "#provide summary statistics for the attribute odor\n",
    "shrooms['Odor'].describe()"
   ]
  },
  {
   "cell_type": "code",
   "execution_count": 49,
   "metadata": {},
   "outputs": [
    {
     "data": {
      "image/png": "[encoded data removed]",
      "text/plain": [
       "<Figure size 432x288 with 1 Axes>"
      ]
     },
     "metadata": {
      "needs_background": "light"
     },
     "output_type": "display_data"
    }
   ],
   "source": [
    "#next I will use Seaborn's built-in countplot feature to show the distribution of odor\n",
    "#use the order function to have it sort in descending order\n",
    "odorplot = sns.countplot(x=\"Odor\", data=shrooms, order = shrooms['Odor'].value_counts().index)\n",
    "\n",
    "#show the bar/count plot\n",
    "odorplot;"
   ]
  },
  {
   "cell_type": "markdown",
   "metadata": {},
   "source": [
    "### Exploratory Data Analysis - Odor: Results\n",
    "\n",
    "Based on the above count plot and summary statistics, there are nine different values present in this column. From looking at the countplot and the statistics we also know that \"none\" ('n') is the most common odor, occuring in 3528 out of the total 8124 records. The distribution is skewed right because I sorted in descending order. Had I sorted in ascending order it would have been skewed left. Other than \"none\" the only other odor that occurs more than 1000 times is foul ('f'). The odors fishy ('y') and spicy ('s') each occur around 500 times, with odors of anise ('l') and almond ('a') occurring slightly less than 500 times each. The odors pungent ('p'), creosote ('c') and musty ('m') do not occur very frequently. "
   ]
  },
  {
   "cell_type": "markdown",
   "metadata": {},
   "source": [
    "### Exploratory Data Analysis - Gill Size\n",
    "Next I will analyze the gill size column. Since this is also a categorical variable I will then graph the distribution using a countplot from seaborn."
   ]
  },
  {
   "cell_type": "code",
   "execution_count": 50,
   "metadata": {},
   "outputs": [
    {
     "data": {
      "text/plain": [
       "count     8124\n",
       "unique       2\n",
       "top          b\n",
       "freq      5612\n",
       "Name: Gill_Size, dtype: object"
      ]
     },
     "execution_count": 50,
     "metadata": {},
     "output_type": "execute_result"
    }
   ],
   "source": [
    "#provide summary statistics for the attribute gill size\n",
    "shrooms['Gill_Size'].describe()"
   ]
  },
  {
   "cell_type": "code",
   "execution_count": 51,
   "metadata": {},
   "outputs": [
    {
     "data": {
      "image/png": "[encoded data removed]",
      "text/plain": [
       "<Figure size 432x288 with 1 Axes>"
      ]
     },
     "metadata": {
      "needs_background": "light"
     },
     "output_type": "display_data"
    }
   ],
   "source": [
    "#next I will use Seaborn's built-in countplot feature to show the distribution of gill size\n",
    "#use the order function to have it sort in descending order\n",
    "gillplot = sns.countplot(x=\"Gill_Size\", data=shrooms, order = shrooms['Gill_Size'].value_counts().index)\n",
    "\n",
    "#show the bar/count plot\n",
    "gillplot;"
   ]
  },
  {
   "cell_type": "markdown",
   "metadata": {},
   "source": [
    "### Exploratory Data Analysis - Gill Size: Results\n",
    "Based on the above count plot and summary statistics, there are only two different values present in this column. From looking at the countplot and the statistics we also know that broad ('b') is the most common gill size, occuring in 5612 out of the total 8124 records. We can also see that a broad gill size occurs almost twice as frequently as narrow ('n'). "
   ]
  },
  {
   "cell_type": "markdown",
   "metadata": {},
   "source": [
    "### Exploratory Data Analysis - Habitat\n",
    "\n",
    "Next I will analyze the habitat column. Since this is also a categorical variable I will then graph the distribution using a countplot from seaborn."
   ]
  },
  {
   "cell_type": "code",
   "execution_count": 52,
   "metadata": {},
   "outputs": [
    {
     "data": {
      "text/plain": [
       "count     8124\n",
       "unique       7\n",
       "top          d\n",
       "freq      3148\n",
       "Name: Habitat, dtype: object"
      ]
     },
     "execution_count": 52,
     "metadata": {},
     "output_type": "execute_result"
    }
   ],
   "source": [
    "#provide summary statistics for the attribute habitat\n",
    "shrooms['Habitat'].describe()"
   ]
  },
  {
   "cell_type": "code",
   "execution_count": 53,
   "metadata": {},
   "outputs": [
    {
     "data": {
      "image/png": "[encoded data removed]",
      "text/plain": [
       "<Figure size 432x288 with 1 Axes>"
      ]
     },
     "metadata": {
      "needs_background": "light"
     },
     "output_type": "display_data"
    }
   ],
   "source": [
    "#next I will use Seaborn's built-in countplot feature to show the distribution of habitat\n",
    "#use the order function to have it sort in descending order\n",
    "habitatplot = sns.countplot(x=\"Habitat\", data=shrooms, order = shrooms['Habitat'].value_counts().index)\n",
    "\n",
    "#show the bar/count plot\n",
    "habitatplot;"
   ]
  },
  {
   "cell_type": "markdown",
   "metadata": {},
   "source": [
    "### Exploratory Data Analysis - Habitat: Results\n",
    "\n",
    "Based on the above count plot and summary statistics, there are seven different values present in this column. From looking at the countplot and the statistics we also know that woods ('d') is the most common habitat, occuring in 3148 out of the total 8124 records. The distribution is skewed right because I sorted in descending order. Had I sorted in ascending order it would have been skewed left. Aside from the woods, other habitats that occur more than 1000 times within the dataset are grasses ('g') and paths ('p'). Leaves ('l') occurs almost 1000 times, and urban ('u'), meadows ('m') and waste ('w') occur less than 500 times each within the dataset. "
   ]
  },
  {
   "cell_type": "markdown",
   "metadata": {},
   "source": [
    "### Exploratory Data Analysis - Poisonous/Edible vs. Other Variables\n",
    "\n",
    "First, since we know from earlier that there are no null values, and that there are only two possible values for the poisonous column ('p' and 'e'), I will create an indicator variable for the poisonous/edible column. I will use 1 in place of p and 0 in place of e. Then I will create catplots using seaborn to show poisonous or edible versus each of the other columns."
   ]
  },
  {
   "cell_type": "code",
   "execution_count": 54,
   "metadata": {},
   "outputs": [
    {
     "data": {
      "text/html": [
       "<div>\n",
       "<style scoped>\n",
       "    .dataframe tbody tr th:only-of-type {\n",
       "        vertical-align: middle;\n",
       "    }\n",
       "\n",
       "    .dataframe tbody tr th {\n",
       "        vertical-align: top;\n",
       "    }\n",
       "\n",
       "    .dataframe thead th {\n",
       "        text-align: right;\n",
       "    }\n",
       "</style>\n",
       "<table border=\"1\" class=\"dataframe\">\n",
       "  <thead>\n",
       "    <tr style=\"text-align: right;\">\n",
       "      <th></th>\n",
       "      <th>Poisonous/Edible</th>\n",
       "      <th>Cap_Color</th>\n",
       "      <th>Odor</th>\n",
       "      <th>Gill_Size</th>\n",
       "      <th>Habitat</th>\n",
       "    </tr>\n",
       "  </thead>\n",
       "  <tbody>\n",
       "    <tr>\n",
       "      <td>0</td>\n",
       "      <td>1</td>\n",
       "      <td>n</td>\n",
       "      <td>p</td>\n",
       "      <td>n</td>\n",
       "      <td>u</td>\n",
       "    </tr>\n",
       "    <tr>\n",
       "      <td>1</td>\n",
       "      <td>0</td>\n",
       "      <td>y</td>\n",
       "      <td>a</td>\n",
       "      <td>b</td>\n",
       "      <td>g</td>\n",
       "    </tr>\n",
       "    <tr>\n",
       "      <td>2</td>\n",
       "      <td>0</td>\n",
       "      <td>w</td>\n",
       "      <td>l</td>\n",
       "      <td>b</td>\n",
       "      <td>m</td>\n",
       "    </tr>\n",
       "    <tr>\n",
       "      <td>3</td>\n",
       "      <td>1</td>\n",
       "      <td>w</td>\n",
       "      <td>p</td>\n",
       "      <td>n</td>\n",
       "      <td>u</td>\n",
       "    </tr>\n",
       "    <tr>\n",
       "      <td>4</td>\n",
       "      <td>0</td>\n",
       "      <td>g</td>\n",
       "      <td>n</td>\n",
       "      <td>b</td>\n",
       "      <td>g</td>\n",
       "    </tr>\n",
       "  </tbody>\n",
       "</table>\n",
       "</div>"
      ],
      "text/plain": [
       "   Poisonous/Edible Cap_Color Odor Gill_Size Habitat\n",
       "0                 1         n    p         n       u\n",
       "1                 0         y    a         b       g\n",
       "2                 0         w    l         b       m\n",
       "3                 1         w    p         n       u\n",
       "4                 0         g    n         b       g"
      ]
     },
     "execution_count": 54,
     "metadata": {},
     "output_type": "execute_result"
    }
   ],
   "source": [
    "#use list comprehensions to change the values in the poisonous/edible column to 1 if poisonous or 0 if edible\n",
    "shrooms['Poisonous/Edible'] = [1 if x == 'p' else 0 for x in shrooms['Poisonous/Edible']]\n",
    "\n",
    "#check results\n",
    "shrooms.head()"
   ]
  },
  {
   "cell_type": "markdown",
   "metadata": {},
   "source": [
    "### Exploratory Data Analysis - Poisonous/Edible vs. Cap Color\n",
    "\n",
    "Now that the poisonous/edible is in indicator form, I will use catplot from Seaborn to show the relationship between poisonous/edible and cap color."
   ]
  },
  {
   "cell_type": "code",
   "execution_count": 45,
   "metadata": {},
   "outputs": [
    {
     "data": {
      "image/png": "[encoded data removed]",
      "text/plain": [
       "<Figure size 360x360 with 1 Axes>"
      ]
     },
     "metadata": {
      "needs_background": "light"
     },
     "output_type": "display_data"
    }
   ],
   "source": [
    "# load the pyplot function from the matplotlib library\n",
    "import matplotlib.pyplot as plt\n",
    "\n",
    "#use the catplot function to graph cap color vs. poisonous/edible\n",
    "sns.catplot(x=\"Cap_Color\", y=\"Poisonous/Edible\", kind=\"bar\", data=shrooms);"
   ]
  },
  {
   "cell_type": "markdown",
   "metadata": {},
   "source": [
    "### Exploratory Data Analysis - Poisonous/Edible vs. Cap Color - Results\n",
    "\n",
    "Since 1 indicates poisonous, it appears that cap colors of buff ('b'), yellow ('y'), pink ('p'), and red ('e') tend to be poisonous as they all are greater than .5.\n",
    "\n",
    "Cap colors of brown, gray, white and cinnamon are less than .5 and greater than 0 which indicates that mushrooms with these cap colors are sometimes poisonous and sometimes edible. \n",
    "\n",
    "Two of the cap colors, purple and green, have 0. Since we know these cap colors appear in the dataset, this indicates that mushrooms in this dataset with these cap colors are edible. "
   ]
  },
  {
   "cell_type": "markdown",
   "metadata": {},
   "source": [
    "### Exploratory Data Analysis - Poisonous/Edible vs. Odor\n",
    "\n",
    "Next I will look at the relationship between the poisonous/edible indicator and the odor variable. I will use catplot from Seaborn to show the relationship between poisonous/edible and odor."
   ]
  },
  {
   "cell_type": "code",
   "execution_count": 11,
   "metadata": {},
   "outputs": [
    {
     "data": {
      "image/png": "[encoded data removed]",
      "text/plain": [
       "<Figure size 360x360 with 1 Axes>"
      ]
     },
     "metadata": {
      "needs_background": "light"
     },
     "output_type": "display_data"
    }
   ],
   "source": [
    "#use the catplot function to graph odor vs. poisonous/edible\n",
    "sns.catplot(x=\"Odor\", y=\"Poisonous/Edible\", kind=\"bar\", data=shrooms);"
   ]
  },
  {
   "cell_type": "markdown",
   "metadata": {},
   "source": [
    "### Exploratory Data Analysis - Poisonous/Edible vs. Odor - Results \n",
    "\n",
    "The catplot above shows that odor may be a very useful variable in helping to predict whether or not a certain mushroom is poisonous. Several of the odors are 1, which means that all the mushrooms in this dataset with those odors are poisonous. Based on the catplot, any mushroom with a pungent, foul, creosote, fishy, spicy, or musty odor is poisonous. \n",
    "\n",
    "Additionally, based on the catplot, it appears that mushrooms that have an odor of almond or anise are edible. Mushrooms with no odor appear to generally edible although there are a few mushrooms with no odor which are poisonous. "
   ]
  },
  {
   "cell_type": "markdown",
   "metadata": {},
   "source": [
    "### Exploratory Data Analysis - Poisonous/Edible vs. Gill Size\n",
    "\n",
    "Next I will look at the relationship between the poisonous/edible indicator and the gill size variable. I will use catplot from Seaborn to show the relationship between poisonous/edible and gill size."
   ]
  },
  {
   "cell_type": "code",
   "execution_count": 12,
   "metadata": {},
   "outputs": [
    {
     "data": {
      "image/png": "[encoded data removed]",
      "text/plain": [
       "<Figure size 360x360 with 1 Axes>"
      ]
     },
     "metadata": {
      "needs_background": "light"
     },
     "output_type": "display_data"
    }
   ],
   "source": [
    "#use the catplot function to graph gill size vs. poisonous/edible\n",
    "sns.catplot(x=\"Gill_Size\", y=\"Poisonous/Edible\", kind=\"bar\", data=shrooms);"
   ]
  },
  {
   "cell_type": "markdown",
   "metadata": {},
   "source": [
    "### Exploratory Data Analysis - Poisonous/Edible vs. Gill Size - Results \n",
    "\n",
    "The catplot above shows that mushrooms with a narrow gill size tend to be poisonous, as they trend towards 1 (which is poisonous). Mushrooms with a broad gill size can be either poisonous or edible, but more often appear to be edible. \n"
   ]
  },
  {
   "cell_type": "markdown",
   "metadata": {},
   "source": [
    "### Exploratory Data Analysis - Poisonous/Edible vs. Habitat\n",
    "\n",
    "Next I will look at the relationship between the poisonous/edible indicator and the habitat variable. I will use catplot from Seaborn to show the relationship between poisonous/edible and habitat."
   ]
  },
  {
   "cell_type": "code",
   "execution_count": 13,
   "metadata": {},
   "outputs": [
    {
     "data": {
      "image/png": "[encoded data removed]",
      "text/plain": [
       "<Figure size 360x360 with 1 Axes>"
      ]
     },
     "metadata": {
      "needs_background": "light"
     },
     "output_type": "display_data"
    }
   ],
   "source": [
    "#use the catplot function to graph habitat vs. poisonous/edible\n",
    "sns.catplot(x=\"Habitat\", y=\"Poisonous/Edible\", kind=\"bar\", data=shrooms);"
   ]
  },
  {
   "cell_type": "markdown",
   "metadata": {},
   "source": [
    "### Exploratory Data Analysis - Poisonous/Edible vs. Habitat - Results\n",
    "\n",
    "From the catplot above, it would appear that mushrooms found on paths, in urban habitats, and in leaves tend to be poisonous. Mushrooms found in the woods, in grasses, and in meadows are more often edible than poisonous. \n",
    "\n",
    "Additionally it would appear that the mushrooms in this dataset that were found in \"waste\" habitats are edible. From our earlier Exploratory Data Analysis on the habitat variable, we know there are fewer than 500 mushrooms found in waste environments in this dataset, so in a dataset with more mushrooms that live in waste habitats, there may be some which are poisonous. "
   ]
  },
  {
   "cell_type": "markdown",
   "metadata": {},
   "source": [
    "### Phase 1 - Data Preparation\n",
    "\n",
    "I already converted the poisonous/edible variable to an indicator variable. In order to build a predictive model, I must now convert all of the other categorical variables to dummy variables. \n",
    "\n",
    "From reading an article about dummy variables [here](https://stattrek.com/multiple-regression/dummy-variables.aspx), I know that for variables that have *k* number of values, I need to create only *k-1* dummy variables, otherwise I will have a multicollinearity effect which will impact the predictive model. \n",
    "\n",
    "Therefore, for the variables of cap color, odor, gill size and habitat I will create dummy variables using pandas get_dummies() function, using [this resource](https://www.ritchieng.com/pandas-creating-dummy-variables/) as a guide."
   ]
  },
  {
   "cell_type": "code",
   "execution_count": 63,
   "metadata": {},
   "outputs": [
    {
     "data": {
      "text/html": [
       "<div>\n",
       "<style scoped>\n",
       "    .dataframe tbody tr th:only-of-type {\n",
       "        vertical-align: middle;\n",
       "    }\n",
       "\n",
       "    .dataframe tbody tr th {\n",
       "        vertical-align: top;\n",
       "    }\n",
       "\n",
       "    .dataframe thead th {\n",
       "        text-align: right;\n",
       "    }\n",
       "</style>\n",
       "<table border=\"1\" class=\"dataframe\">\n",
       "  <thead>\n",
       "    <tr style=\"text-align: right;\">\n",
       "      <th></th>\n",
       "      <th>Poisonous/Edible</th>\n",
       "      <th>Cap_Color_c</th>\n",
       "      <th>Cap_Color_e</th>\n",
       "      <th>Cap_Color_g</th>\n",
       "      <th>Cap_Color_n</th>\n",
       "      <th>Cap_Color_p</th>\n",
       "      <th>Cap_Color_r</th>\n",
       "      <th>Cap_Color_u</th>\n",
       "      <th>Cap_Color_w</th>\n",
       "      <th>Cap_Color_y</th>\n",
       "      <th>...</th>\n",
       "      <th>Odor_p</th>\n",
       "      <th>Odor_s</th>\n",
       "      <th>Odor_y</th>\n",
       "      <th>Gill_Size_n</th>\n",
       "      <th>Habitat_g</th>\n",
       "      <th>Habitat_l</th>\n",
       "      <th>Habitat_m</th>\n",
       "      <th>Habitat_p</th>\n",
       "      <th>Habitat_u</th>\n",
       "      <th>Habitat_w</th>\n",
       "    </tr>\n",
       "  </thead>\n",
       "  <tbody>\n",
       "    <tr>\n",
       "      <td>0</td>\n",
       "      <td>1</td>\n",
       "      <td>0</td>\n",
       "      <td>0</td>\n",
       "      <td>0</td>\n",
       "      <td>1</td>\n",
       "      <td>0</td>\n",
       "      <td>0</td>\n",
       "      <td>0</td>\n",
       "      <td>0</td>\n",
       "      <td>0</td>\n",
       "      <td>...</td>\n",
       "      <td>1</td>\n",
       "      <td>0</td>\n",
       "      <td>0</td>\n",
       "      <td>1</td>\n",
       "      <td>0</td>\n",
       "      <td>0</td>\n",
       "      <td>0</td>\n",
       "      <td>0</td>\n",
       "      <td>1</td>\n",
       "      <td>0</td>\n",
       "    </tr>\n",
       "    <tr>\n",
       "      <td>1</td>\n",
       "      <td>0</td>\n",
       "      <td>0</td>\n",
       "      <td>0</td>\n",
       "      <td>0</td>\n",
       "      <td>0</td>\n",
       "      <td>0</td>\n",
       "      <td>0</td>\n",
       "      <td>0</td>\n",
       "      <td>0</td>\n",
       "      <td>1</td>\n",
       "      <td>...</td>\n",
       "      <td>0</td>\n",
       "      <td>0</td>\n",
       "      <td>0</td>\n",
       "      <td>0</td>\n",
       "      <td>1</td>\n",
       "      <td>0</td>\n",
       "      <td>0</td>\n",
       "      <td>0</td>\n",
       "      <td>0</td>\n",
       "      <td>0</td>\n",
       "    </tr>\n",
       "    <tr>\n",
       "      <td>2</td>\n",
       "      <td>0</td>\n",
       "      <td>0</td>\n",
       "      <td>0</td>\n",
       "      <td>0</td>\n",
       "      <td>0</td>\n",
       "      <td>0</td>\n",
       "      <td>0</td>\n",
       "      <td>0</td>\n",
       "      <td>1</td>\n",
       "      <td>0</td>\n",
       "      <td>...</td>\n",
       "      <td>0</td>\n",
       "      <td>0</td>\n",
       "      <td>0</td>\n",
       "      <td>0</td>\n",
       "      <td>0</td>\n",
       "      <td>0</td>\n",
       "      <td>1</td>\n",
       "      <td>0</td>\n",
       "      <td>0</td>\n",
       "      <td>0</td>\n",
       "    </tr>\n",
       "    <tr>\n",
       "      <td>3</td>\n",
       "      <td>1</td>\n",
       "      <td>0</td>\n",
       "      <td>0</td>\n",
       "      <td>0</td>\n",
       "      <td>0</td>\n",
       "      <td>0</td>\n",
       "      <td>0</td>\n",
       "      <td>0</td>\n",
       "      <td>1</td>\n",
       "      <td>0</td>\n",
       "      <td>...</td>\n",
       "      <td>1</td>\n",
       "      <td>0</td>\n",
       "      <td>0</td>\n",
       "      <td>1</td>\n",
       "      <td>0</td>\n",
       "      <td>0</td>\n",
       "      <td>0</td>\n",
       "      <td>0</td>\n",
       "      <td>1</td>\n",
       "      <td>0</td>\n",
       "    </tr>\n",
       "    <tr>\n",
       "      <td>4</td>\n",
       "      <td>0</td>\n",
       "      <td>0</td>\n",
       "      <td>0</td>\n",
       "      <td>1</td>\n",
       "      <td>0</td>\n",
       "      <td>0</td>\n",
       "      <td>0</td>\n",
       "      <td>0</td>\n",
       "      <td>0</td>\n",
       "      <td>0</td>\n",
       "      <td>...</td>\n",
       "      <td>0</td>\n",
       "      <td>0</td>\n",
       "      <td>0</td>\n",
       "      <td>0</td>\n",
       "      <td>1</td>\n",
       "      <td>0</td>\n",
       "      <td>0</td>\n",
       "      <td>0</td>\n",
       "      <td>0</td>\n",
       "      <td>0</td>\n",
       "    </tr>\n",
       "    <tr>\n",
       "      <td>...</td>\n",
       "      <td>...</td>\n",
       "      <td>...</td>\n",
       "      <td>...</td>\n",
       "      <td>...</td>\n",
       "      <td>...</td>\n",
       "      <td>...</td>\n",
       "      <td>...</td>\n",
       "      <td>...</td>\n",
       "      <td>...</td>\n",
       "      <td>...</td>\n",
       "      <td>...</td>\n",
       "      <td>...</td>\n",
       "      <td>...</td>\n",
       "      <td>...</td>\n",
       "      <td>...</td>\n",
       "      <td>...</td>\n",
       "      <td>...</td>\n",
       "      <td>...</td>\n",
       "      <td>...</td>\n",
       "      <td>...</td>\n",
       "      <td>...</td>\n",
       "    </tr>\n",
       "    <tr>\n",
       "      <td>8119</td>\n",
       "      <td>0</td>\n",
       "      <td>0</td>\n",
       "      <td>0</td>\n",
       "      <td>0</td>\n",
       "      <td>1</td>\n",
       "      <td>0</td>\n",
       "      <td>0</td>\n",
       "      <td>0</td>\n",
       "      <td>0</td>\n",
       "      <td>0</td>\n",
       "      <td>...</td>\n",
       "      <td>0</td>\n",
       "      <td>0</td>\n",
       "      <td>0</td>\n",
       "      <td>0</td>\n",
       "      <td>0</td>\n",
       "      <td>1</td>\n",
       "      <td>0</td>\n",
       "      <td>0</td>\n",
       "      <td>0</td>\n",
       "      <td>0</td>\n",
       "    </tr>\n",
       "    <tr>\n",
       "      <td>8120</td>\n",
       "      <td>0</td>\n",
       "      <td>0</td>\n",
       "      <td>0</td>\n",
       "      <td>0</td>\n",
       "      <td>1</td>\n",
       "      <td>0</td>\n",
       "      <td>0</td>\n",
       "      <td>0</td>\n",
       "      <td>0</td>\n",
       "      <td>0</td>\n",
       "      <td>...</td>\n",
       "      <td>0</td>\n",
       "      <td>0</td>\n",
       "      <td>0</td>\n",
       "      <td>0</td>\n",
       "      <td>0</td>\n",
       "      <td>1</td>\n",
       "      <td>0</td>\n",
       "      <td>0</td>\n",
       "      <td>0</td>\n",
       "      <td>0</td>\n",
       "    </tr>\n",
       "    <tr>\n",
       "      <td>8121</td>\n",
       "      <td>0</td>\n",
       "      <td>0</td>\n",
       "      <td>0</td>\n",
       "      <td>0</td>\n",
       "      <td>1</td>\n",
       "      <td>0</td>\n",
       "      <td>0</td>\n",
       "      <td>0</td>\n",
       "      <td>0</td>\n",
       "      <td>0</td>\n",
       "      <td>...</td>\n",
       "      <td>0</td>\n",
       "      <td>0</td>\n",
       "      <td>0</td>\n",
       "      <td>0</td>\n",
       "      <td>0</td>\n",
       "      <td>1</td>\n",
       "      <td>0</td>\n",
       "      <td>0</td>\n",
       "      <td>0</td>\n",
       "      <td>0</td>\n",
       "    </tr>\n",
       "    <tr>\n",
       "      <td>8122</td>\n",
       "      <td>1</td>\n",
       "      <td>0</td>\n",
       "      <td>0</td>\n",
       "      <td>0</td>\n",
       "      <td>1</td>\n",
       "      <td>0</td>\n",
       "      <td>0</td>\n",
       "      <td>0</td>\n",
       "      <td>0</td>\n",
       "      <td>0</td>\n",
       "      <td>...</td>\n",
       "      <td>0</td>\n",
       "      <td>0</td>\n",
       "      <td>1</td>\n",
       "      <td>1</td>\n",
       "      <td>0</td>\n",
       "      <td>1</td>\n",
       "      <td>0</td>\n",
       "      <td>0</td>\n",
       "      <td>0</td>\n",
       "      <td>0</td>\n",
       "    </tr>\n",
       "    <tr>\n",
       "      <td>8123</td>\n",
       "      <td>0</td>\n",
       "      <td>0</td>\n",
       "      <td>0</td>\n",
       "      <td>0</td>\n",
       "      <td>1</td>\n",
       "      <td>0</td>\n",
       "      <td>0</td>\n",
       "      <td>0</td>\n",
       "      <td>0</td>\n",
       "      <td>0</td>\n",
       "      <td>...</td>\n",
       "      <td>0</td>\n",
       "      <td>0</td>\n",
       "      <td>0</td>\n",
       "      <td>0</td>\n",
       "      <td>0</td>\n",
       "      <td>1</td>\n",
       "      <td>0</td>\n",
       "      <td>0</td>\n",
       "      <td>0</td>\n",
       "      <td>0</td>\n",
       "    </tr>\n",
       "  </tbody>\n",
       "</table>\n",
       "<p>8124 rows × 25 columns</p>\n",
       "</div>"
      ],
      "text/plain": [
       "      Poisonous/Edible  Cap_Color_c  Cap_Color_e  Cap_Color_g  Cap_Color_n  \\\n",
       "0                    1            0            0            0            1   \n",
       "1                    0            0            0            0            0   \n",
       "2                    0            0            0            0            0   \n",
       "3                    1            0            0            0            0   \n",
       "4                    0            0            0            1            0   \n",
       "...                ...          ...          ...          ...          ...   \n",
       "8119                 0            0            0            0            1   \n",
       "8120                 0            0            0            0            1   \n",
       "8121                 0            0            0            0            1   \n",
       "8122                 1            0            0            0            1   \n",
       "8123                 0            0            0            0            1   \n",
       "\n",
       "      Cap_Color_p  Cap_Color_r  Cap_Color_u  Cap_Color_w  Cap_Color_y  ...  \\\n",
       "0               0            0            0            0            0  ...   \n",
       "1               0            0            0            0            1  ...   \n",
       "2               0            0            0            1            0  ...   \n",
       "3               0            0            0            1            0  ...   \n",
       "4               0            0            0            0            0  ...   \n",
       "...           ...          ...          ...          ...          ...  ...   \n",
       "8119            0            0            0            0            0  ...   \n",
       "8120            0            0            0            0            0  ...   \n",
       "8121            0            0            0            0            0  ...   \n",
       "8122            0            0            0            0            0  ...   \n",
       "8123            0            0            0            0            0  ...   \n",
       "\n",
       "      Odor_p  Odor_s  Odor_y  Gill_Size_n  Habitat_g  Habitat_l  Habitat_m  \\\n",
       "0          1       0       0            1          0          0          0   \n",
       "1          0       0       0            0          1          0          0   \n",
       "2          0       0       0            0          0          0          1   \n",
       "3          1       0       0            1          0          0          0   \n",
       "4          0       0       0            0          1          0          0   \n",
       "...      ...     ...     ...          ...        ...        ...        ...   \n",
       "8119       0       0       0            0          0          1          0   \n",
       "8120       0       0       0            0          0          1          0   \n",
       "8121       0       0       0            0          0          1          0   \n",
       "8122       0       0       1            1          0          1          0   \n",
       "8123       0       0       0            0          0          1          0   \n",
       "\n",
       "      Habitat_p  Habitat_u  Habitat_w  \n",
       "0             0          1          0  \n",
       "1             0          0          0  \n",
       "2             0          0          0  \n",
       "3             0          1          0  \n",
       "4             0          0          0  \n",
       "...         ...        ...        ...  \n",
       "8119          0          0          0  \n",
       "8120          0          0          0  \n",
       "8121          0          0          0  \n",
       "8122          0          0          0  \n",
       "8123          0          0          0  \n",
       "\n",
       "[8124 rows x 25 columns]"
      ]
     },
     "execution_count": 63,
     "metadata": {},
     "output_type": "execute_result"
    }
   ],
   "source": [
    "#create a copy of our data frame\n",
    "withdummies = shrooms.copy()\n",
    "\n",
    "# create dummy variables for multiple categories, drop_first=True handles k - 1 \n",
    "withdummies = pd.get_dummies(withdummies, columns=['Cap_Color', 'Odor', 'Gill_Size', 'Habitat'], drop_first=True)\n",
    "\n",
    "#checkresults\n",
    "withdummies"
   ]
  },
  {
   "cell_type": "markdown",
   "metadata": {},
   "source": [
    "## Phase 1 - Wrap-Up\n",
    "\n",
    "As stated earlier, I acquired the data, created a subset of the data, performed exploratory data analysis, and then prepared the data to build a predictive model using sci-kit learn.\n",
    "\n",
    "Based on my exploratory data analysis, it appears that the columns based on odor will be strong predictors of whether or not a mushroom is poisonous. Certain cap colors will also be very useful in predicting whether or not a mushroom is poisonous. A gill size of narrow should be a helpful predictor that a mushroom is poisonous, and certain habitats should also prove helpful in this determination.\n",
    "\n",
    "Now I will move on to Phase 2, which is building the predictive model. "
   ]
  },
  {
   "cell_type": "markdown",
   "metadata": {},
   "source": [
    "## Phase 2 - Build Predictive Models\n",
    "\n",
    "In Phase 2 I will be using the dataframe that was prepared in order to determine which of the predictor columns that I selected (odor, cap color, gill size, and habitat) most accurately predicts whether or not a mushroom is poisonous. \n",
    "\n",
    "Based on [this article from Towards Data Science](https://towardsdatascience.com/a-comprehensive-study-of-linear-vs-logistic-regression-to-refresh-the-basics-7e526c1d3ebe) I will be using logistic regression because the outcomes are only 1 or 0, and because some of the variables have multiple categories. \n",
    "\n",
    "First I will split the data into test and train sets. I will first train the model, describe my findings, and then test the model and offer conclusions and ideas for further analysis. "
   ]
  },
  {
   "cell_type": "code",
   "execution_count": 65,
   "metadata": {},
   "outputs": [
    {
     "data": {
      "text/plain": [
       "array([[0, 0, 0, 1, 0, 0, 0, 0, 0, 0, 0, 0, 0, 0, 0, 1, 0, 1, 0, 0, 0, 0,\n",
       "        1, 0],\n",
       "       [0, 0, 0, 0, 0, 0, 0, 0, 1, 0, 0, 0, 0, 0, 0, 0, 0, 0, 1, 0, 0, 0,\n",
       "        0, 0],\n",
       "       [0, 0, 0, 0, 0, 0, 0, 1, 0, 1, 0, 0, 0, 0, 0, 0, 0, 0, 0, 0, 1, 0,\n",
       "        0, 0],\n",
       "       [0, 0, 0, 0, 0, 0, 0, 1, 0, 0, 0, 0, 0, 0, 0, 1, 0, 1, 0, 0, 0, 0,\n",
       "        1, 0],\n",
       "       [0, 0, 1, 0, 0, 0, 0, 0, 0, 0, 0, 0, 0, 0, 1, 0, 0, 0, 1, 0, 0, 0,\n",
       "        0, 0]], dtype=uint8)"
      ]
     },
     "execution_count": 65,
     "metadata": {},
     "output_type": "execute_result"
    }
   ],
   "source": [
    "# first I will define the predictor variables\n",
    "predict = ['Cap_Color_c','Cap_Color_e','Cap_Color_g','Cap_Color_n','Cap_Color_p','Cap_Color_r','Cap_Color_u','Cap_Color_w','Cap_Color_y','Odor_l', 'Odor_c', 'Odor_y', 'Odor_f', 'Odor_m', 'Odor_n', 'Odor_p', 'Odor_s','Gill_Size_n','Habitat_g', 'Habitat_l', 'Habitat_m', 'Habitat_p', 'Habitat_u', 'Habitat_w']\n",
    "\n",
    "# now I will create a subset of the data using ONLY the selected predictive variables\n",
    "x = withdummies[predict].values\n",
    "\n",
    "# create a subset that is only the poisonous/edible variable since that's the response variable\n",
    "y = withdummies['Poisonous/Edible'].values\n",
    "\n",
    "#Check data\n",
    "x[:5]"
   ]
  },
  {
   "cell_type": "code",
   "execution_count": 66,
   "metadata": {},
   "outputs": [
    {
     "data": {
      "text/plain": [
       "(8124, 24)"
      ]
     },
     "execution_count": 66,
     "metadata": {},
     "output_type": "execute_result"
    }
   ],
   "source": [
    "#check to make sure there are 24 columns - the withdummies dataframe had 25 but one was the poisonous/edible column\n",
    "x.shape"
   ]
  },
  {
   "cell_type": "code",
   "execution_count": 67,
   "metadata": {},
   "outputs": [
    {
     "data": {
      "text/plain": [
       "array([1, 0, 0, 1, 0], dtype=int64)"
      ]
     },
     "execution_count": 67,
     "metadata": {},
     "output_type": "execute_result"
    }
   ],
   "source": [
    "#also double check the response array\n",
    "y[:5]"
   ]
  },
  {
   "cell_type": "code",
   "execution_count": 77,
   "metadata": {},
   "outputs": [],
   "source": [
    "# load train_test_split, Linear Regression and metrics from scikit learn\n",
    "from sklearn.model_selection import train_test_split \n",
    "from sklearn.linear_model import LogisticRegression\n",
    "from sklearn import metrics\n",
    "\n",
    "#create training and testing variables, use 80% of the data to train\n",
    "x_train, x_test, y_train, y_test = train_test_split(x, y, test_size=0.2, random_state=0)"
   ]
  },
  {
   "cell_type": "markdown",
   "metadata": {},
   "source": [
    "Now that I have created a training and testing set, it is time to train the model using logistic regression"
   ]
  },
  {
   "cell_type": "code",
   "execution_count": 78,
   "metadata": {},
   "outputs": [
    {
     "name": "stderr",
     "output_type": "stream",
     "text": [
      "C:\\Users\\sheri\\Anaconda3\\lib\\site-packages\\sklearn\\linear_model\\logistic.py:432: FutureWarning: Default solver will be changed to 'lbfgs' in 0.22. Specify a solver to silence this warning.\n",
      "  FutureWarning)\n"
     ]
    },
    {
     "data": {
      "text/plain": [
       "LogisticRegression(C=1.0, class_weight=None, dual=False, fit_intercept=True,\n",
       "                   intercept_scaling=1, l1_ratio=None, max_iter=100,\n",
       "                   multi_class='warn', n_jobs=None, penalty='l2',\n",
       "                   random_state=None, solver='warn', tol=0.0001, verbose=0,\n",
       "                   warm_start=False)"
      ]
     },
     "execution_count": 78,
     "metadata": {},
     "output_type": "execute_result"
    }
   ],
   "source": [
    "#define the model type as logistic regression\n",
    "model = LogisticRegression()\n",
    "\n",
    "#train the algorithm\n",
    "model.fit(x_train, y_train)"
   ]
  },
  {
   "cell_type": "code",
   "execution_count": 79,
   "metadata": {},
   "outputs": [
    {
     "name": "stdout",
     "output_type": "stream",
     "text": [
      "[[-2.51038624 -1.6458752  -2.5129514  -2.10320918  1.7140165  -2.58328505\n",
      "  -2.5159296  -1.89602952 -1.91611835 -2.84719387  3.93866627  4.7653538\n",
      "   9.15893802  5.7975764  -0.32461448  4.82577481  4.73522724  3.74602314\n",
      "   0.86512593  0.15947416  2.3520565   0.45244621 -1.12226681 -2.20534002]]\n"
     ]
    }
   ],
   "source": [
    "#get the coefficients:\n",
    "print(model.coef_)"
   ]
  },
  {
   "cell_type": "code",
   "execution_count": 80,
   "metadata": {},
   "outputs": [
    {
     "data": {
      "text/plain": [
       "0.9873826742575781"
      ]
     },
     "execution_count": 80,
     "metadata": {},
     "output_type": "execute_result"
    }
   ],
   "source": [
    "# calculate the accuracy of the model relative to the training data set\n",
    "model.score(x_train, y_train)"
   ]
  },
  {
   "cell_type": "markdown",
   "metadata": {},
   "source": [
    "## Phase 2 - Model Training Results\n",
    "Note that we know from our Exploratory Data Analysis that there were 3,916 poisonous mushrooms (48.2%) in the data set.We could achieve an accuracy of 1-.482 = 51.8% by predicting \"edible\" for each mushroom. So our **null erorr rate** is 51.8%. Our model score is 98.7%, which is substantially higher. \n",
    "\n",
    "Additionally, since 1 indicates poisonous and 0 indicates edible, by matching the data frame columns and using the indices provided at the UCI websites, from the coefficients above we see the following:\n",
    "\n",
    "**Cap Color** \n",
    "- A cap color of cinnamon has a negative coefficient indicating it is more likely to be edible. \n",
    "- A cap color of red has a negative coefficient indicating it is more likely to be edible. \n",
    "- A cap color of gray has a negative coefficient indicating it is more likely to be edible.\n",
    "- A cap color of brown has a negative coefficient indicating it is more likely to be edible.\n",
    "- A cap color of pink has a positive coefficient indiicating it is more likely to be poisonous. \n",
    "- A cap color of green has a negative coefficient indicating it is more likely to be edible.\n",
    "- A cap color of purple has a negative coefficient indicating it is more likely to be edible.\n",
    "- A cap color of white has a negative coefficient indicating it is more likely to be edible.\n",
    "- A cap color of yellow has a negative coefficient indicating it is more likely to be edible.\n",
    "\n",
    "In our EDA  we stated the following:\n",
    "\"Since 1 indicates poisonous, it appears that cap colors of buff ('b'), yellow ('y'), pink ('p'), and red ('e') tend to be poisonous as they all are greater than .5.\n",
    "\n",
    "Cap colors of brown, gray, white and cinnamon are less than .5 and greater than 0 which indicates that mushrooms with these cap colors are sometimes poisonous and sometimes edible.\n",
    "\n",
    "Two of the cap colors, purple and green, have 0. Since we know these cap colors appear in the dataset, this indicates that mushrooms in this dataset with these cap colors are edible.\"\n",
    "\n",
    "Based on our coefficients, only a cap color of pink is likely to be poisonous, but this is not in line with what our Exploratory Data Analysis showed.\n",
    "\n",
    "**Odor**\n",
    "- An odor of creosote has a negative coefficient indicating it is more likely to be edible.\n",
    "- An odor of foul has a positive coefficient indicating it is more likely to be poisonous.\n",
    "- An odor of anise has a positive coefficient indicating it is more likely to be poisonous.\n",
    "- An odor of musty has a positive coefficient indicating it is more likely to be poisonous.\n",
    "- An odor of none has a positive coefficient indicating it is more likely to be poisonous.\n",
    "- An odor of pungent has a negative coefficient indicating it is more likely to be edible.\n",
    "- An odor of spicy has a positive coefficient indicating it is more likely to be poisonous.\n",
    "- An odor of fishy has a positive coefficient indicating it is more likely to be poisonous.\n",
    "\n",
    "In our EDA we stated the following:\n",
    "\"Several of the odors are 1, which means that all the mushrooms in this dataset with those odors are poisonous. Based on the catplot, any mushroom with a pungent, foul, creosote, fishy, spicy, or musty odor is poisonous.\n",
    "\n",
    "Additionally, based on the catplot, it appears that mushrooms that have an odor of almond or anise are edible. Mushrooms with no odor appear to generally edible although there are a few mushrooms with no odor which are poisonous.\"\n",
    "\n",
    "Our coefficients here do show that most of the odors indicate a poisonous mushroom. However the results for anise, creosote, and and pungent are inconsistent with our EDA findings.\n",
    "\n",
    "**Gill Size**\n",
    "- A narrow gill size has a positive coefficient indicating it is more likely to be poisonous.\n",
    "\n",
    "In our EDA we said the following:\n",
    "\"The catplot above shows that mushrooms with a narrow gill size tend to be poisonous, as they trend towards 1 (which is poisonous). Mushrooms with a broad gill size can be either poisonous or edible, but more often appear to be edible.\"\n",
    "\n",
    "For gill size, our EDA and model are consistent that a narrow gill size is a good indicator that a mushroom is poisonous.\n",
    "\n",
    "**Habitat**\n",
    "- A habitat of grasses has a positive coefficient indicating it is more likely to be poisonous.\n",
    "- A habitat of leaves has a positive coefficient indicating it is more likely to be poisonous.\n",
    "- A habitat of meadows has a positive coefficient indicating it is more likely to be poisonous.\n",
    "- A habitat of paths has a positive coefficient indicating it is more likely to be poisonous.\n",
    "- A habitat of urban has a negative coefficient indicating it is more likely to be edible.\n",
    "- A habitat of waste has a negative coefficient indicating it is more likely to be edible.\n",
    "\n",
    "In our EDA we stated the following:\n",
    "\"From the catplot above, it would appear that mushrooms found on paths, in urban habitats, and in leaves tend to be poisonous. Mushrooms found in the woods, in grasses, and in meadows are more often edible than poisonous.\n",
    "\n",
    "Additionally it would appear that the mushrooms in this dataset that were found in \"waste\" habitats are edible. From our earlier Exploratory Data Analysis on the habitat variable, we know there are fewer than 500 mushrooms found in waste environments in this dataset, so in a dataset with more mushrooms that live in waste habitats, there may be some which are poisonous.\"\n",
    "\n",
    "For habitat, our model and EDA are consistent that mushrooms found in paths and leaves habitats tend to be poisonous. Our model and EDA are also consistent in that mushrooms found in waste habitats tend to be edible. Our model and EDA are *inconsistent* with regards to mushrooms found in grasses, meadows, and urban habitats.\n",
    "\n",
    "Now that we have trained the model, we will test it by using the model.predict function."
   ]
  },
  {
   "cell_type": "code",
   "execution_count": 81,
   "metadata": {},
   "outputs": [
    {
     "data": {
      "text/plain": [
       "array([1, 0, 0, 0, 0, 0, 1, 1, 0, 1], dtype=int64)"
      ]
     },
     "execution_count": 81,
     "metadata": {},
     "output_type": "execute_result"
    }
   ],
   "source": [
    "# generate predictions for the test data using our new model\n",
    "y_predict = model.predict(x_test)\n",
    "y_predict[:10]"
   ]
  },
  {
   "cell_type": "code",
   "execution_count": 84,
   "metadata": {},
   "outputs": [
    {
     "data": {
      "text/html": [
       "<div>\n",
       "<style scoped>\n",
       "    .dataframe tbody tr th:only-of-type {\n",
       "        vertical-align: middle;\n",
       "    }\n",
       "\n",
       "    .dataframe tbody tr th {\n",
       "        vertical-align: top;\n",
       "    }\n",
       "\n",
       "    .dataframe thead th {\n",
       "        text-align: right;\n",
       "    }\n",
       "</style>\n",
       "<table border=\"1\" class=\"dataframe\">\n",
       "  <thead>\n",
       "    <tr style=\"text-align: right;\">\n",
       "      <th></th>\n",
       "      <th>Actual</th>\n",
       "      <th>Predicted</th>\n",
       "    </tr>\n",
       "  </thead>\n",
       "  <tbody>\n",
       "    <tr>\n",
       "      <td>0</td>\n",
       "      <td>1</td>\n",
       "      <td>1</td>\n",
       "    </tr>\n",
       "    <tr>\n",
       "      <td>1</td>\n",
       "      <td>0</td>\n",
       "      <td>0</td>\n",
       "    </tr>\n",
       "    <tr>\n",
       "      <td>2</td>\n",
       "      <td>0</td>\n",
       "      <td>0</td>\n",
       "    </tr>\n",
       "    <tr>\n",
       "      <td>3</td>\n",
       "      <td>0</td>\n",
       "      <td>0</td>\n",
       "    </tr>\n",
       "    <tr>\n",
       "      <td>4</td>\n",
       "      <td>0</td>\n",
       "      <td>0</td>\n",
       "    </tr>\n",
       "    <tr>\n",
       "      <td>...</td>\n",
       "      <td>...</td>\n",
       "      <td>...</td>\n",
       "    </tr>\n",
       "    <tr>\n",
       "      <td>1620</td>\n",
       "      <td>0</td>\n",
       "      <td>0</td>\n",
       "    </tr>\n",
       "    <tr>\n",
       "      <td>1621</td>\n",
       "      <td>0</td>\n",
       "      <td>0</td>\n",
       "    </tr>\n",
       "    <tr>\n",
       "      <td>1622</td>\n",
       "      <td>1</td>\n",
       "      <td>1</td>\n",
       "    </tr>\n",
       "    <tr>\n",
       "      <td>1623</td>\n",
       "      <td>0</td>\n",
       "      <td>0</td>\n",
       "    </tr>\n",
       "    <tr>\n",
       "      <td>1624</td>\n",
       "      <td>0</td>\n",
       "      <td>0</td>\n",
       "    </tr>\n",
       "  </tbody>\n",
       "</table>\n",
       "<p>1625 rows × 2 columns</p>\n",
       "</div>"
      ],
      "text/plain": [
       "      Actual  Predicted\n",
       "0          1          1\n",
       "1          0          0\n",
       "2          0          0\n",
       "3          0          0\n",
       "4          0          0\n",
       "...      ...        ...\n",
       "1620       0          0\n",
       "1621       0          0\n",
       "1622       1          1\n",
       "1623       0          0\n",
       "1624       0          0\n",
       "\n",
       "[1625 rows x 2 columns]"
      ]
     },
     "execution_count": 84,
     "metadata": {},
     "output_type": "execute_result"
    }
   ],
   "source": [
    "#create a new data frame that shows the actual results versus the results of our prediction\n",
    "testresults= pd.DataFrame({'Actual': y_test.flatten(), 'Predicted': y_predict.flatten()})\n",
    "\n",
    "#display results\n",
    "testresults"
   ]
  },
  {
   "cell_type": "markdown",
   "metadata": {},
   "source": [
    "Now we will check the performance of the model using accuracy, precision, and recall. Since accuracy is not always the best indicator, looking at these three metrics will give us a more robust picture of how our model performed."
   ]
  },
  {
   "cell_type": "code",
   "execution_count": 86,
   "metadata": {},
   "outputs": [
    {
     "name": "stdout",
     "output_type": "stream",
     "text": [
      "Accuracy: 0.9913846153846154\n",
      "Precision: 1.0\n",
      "Recall: 0.981888745148771\n"
     ]
    }
   ],
   "source": [
    "print('Accuracy:', metrics.accuracy_score(y_test, y_predict))  \n",
    "print('Precision:', metrics.precision_score(y_test, y_predict))\n",
    "print('Recall:', metrics.recall_score(y_test, y_predict)) "
   ]
  },
  {
   "cell_type": "markdown",
   "metadata": {},
   "source": [
    "## Phase 2 - Results & Conclusions\n",
    "\n",
    "Based on good accuracy, precision, and recall scores, it seems that the combination of attributes I chose (odor, gill size, cap color, and habitat) are a good way to predict whether or not a mushroom is poisonous.\n",
    "\n",
    "To further determine the best predictive model, it would be better, if possible, to get a larger dataset. It would also be helpful to have the species name in this data set, since there are 23 species. It would be interesting to know if, for example, one species overall was found to be either completely poisonous or completely edible.\n",
    "\n",
    "Since some of our coefficients did not perfectly align with what we saw in our Exploratory Data Analysis, it could also prove useful to try a different regression model to see if that yielded different results. "
   ]
  },
  {
   "cell_type": "code",
   "execution_count": null,
   "metadata": {},
   "outputs": [],
   "source": []
  }
 ],
 "metadata": {
  "kernelspec": {
   "display_name": "Python 3",
   "language": "python",
   "name": "python3"
  },
  "language_info": {
   "codemirror_mode": {
    "name": "ipython",
    "version": 3
   },
   "file_extension": ".py",
   "mimetype": "text/x-python",
   "name": "python",
   "nbconvert_exporter": "python",
   "pygments_lexer": "ipython3",
   "version": "3.7.4"
  }
 },
 "nbformat": 4,
 "nbformat_minor": 2
}
