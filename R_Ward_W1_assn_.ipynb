{
 "cells": [
  {
   "cell_type": "markdown",
   "metadata": {},
   "source": [
    "# Rachel Ward\n",
    "## DAV 5400 Week 1 Assignment\n",
    "\n",
    "The data I have chosen to analyze is a data set from the United Nations about the ratio of boys to girls in different school levels in different countries, over many years. The data can be located at my [github](https://github.com/rachelward617/DAV-5400/blob/master/UN%20Ratio%20of%20Boys%20to%20Girls%20in%20Education.xlsx). The original data can be found at the [UN website](http://data.un.org/) under the gender section in the leftmost column.\n",
    "\n",
    "In my free time, I've recently been reading *The Moment of Lift* by Melinda Gates. It's an interesting take on non-profit work with a focus on how Melinda had to figure out what metrics to use to determine whether the programs the Gates Foundation had been implementing were successful. In one chapter, she discusses the impact of sending girls to school, and says \n",
    ">When you send a girl to school, the good deed never dies. It goes on for generations advancing every public good, from health to economic gain to gender equity and national prosperity.\n",
    ">>(*The Moment of Lift* , Melinda Gates, 2019, p. 92)\n",
    "\n",
    "The book has inspired me to look for more ways that I could utilize data for positive societal change. This data set seemed like a natural place to start looking at the gender gap in education, and it's from a reputable source. From this data set you could gather if the gender gap is larger in any specific region, and then narrow down to specific countries, for example, to get a sense of where efforts are most needed. "
   ]
  },
  {
   "cell_type": "code",
   "execution_count": null,
   "metadata": {},
   "outputs": [],
   "source": []
  }
 ],
 "metadata": {
  "kernelspec": {
   "display_name": "Python 3",
   "language": "python",
   "name": "python3"
  },
  "language_info": {
   "codemirror_mode": {
    "name": "ipython",
    "version": 3
   },
   "file_extension": ".py",
   "mimetype": "text/x-python",
   "name": "python",
   "nbconvert_exporter": "python",
   "pygments_lexer": "ipython3",
   "version": "3.7.3"
  }
 },
 "nbformat": 4,
 "nbformat_minor": 2
}
