{
 "cells": [
  {
   "cell_type": "markdown",
   "metadata": {},
   "source": [
    "# Rachel Ward\n",
    "\n",
    "## DAV 5400 - Project 1\n",
    "\n",
    "For this project I will be utilizing a data set on flights out of Houston to answer research questions based on an invented business case.\n",
    "\n",
    "This data comes from the [US Bureau of Transportation Statistics.](https://www.transtats.bts.gov/DatabaseInfo.asp?DB_ID=120&Link=0) A description of the dataset can be found [here.](https://cran.r-project.org/web/packages/hflights/hflights.pdf)\n",
    "\n",
    "First I will import pandas and numpy. Next I will read the file into Jupyter by using the code provided in the assignment."
   ]
  },
  {
   "cell_type": "code",
   "execution_count": 1,
   "metadata": {},
   "outputs": [
    {
     "data": {
      "text/html": [
       "<div>\n",
       "<style scoped>\n",
       "    .dataframe tbody tr th:only-of-type {\n",
       "        vertical-align: middle;\n",
       "    }\n",
       "\n",
       "    .dataframe tbody tr th {\n",
       "        vertical-align: top;\n",
       "    }\n",
       "\n",
       "    .dataframe thead th {\n",
       "        text-align: right;\n",
       "    }\n",
       "</style>\n",
       "<table border=\"1\" class=\"dataframe\">\n",
       "  <thead>\n",
       "    <tr style=\"text-align: right;\">\n",
       "      <th></th>\n",
       "      <th>Year</th>\n",
       "      <th>Month</th>\n",
       "      <th>DayofMonth</th>\n",
       "      <th>DayOfWeek</th>\n",
       "      <th>DepTime</th>\n",
       "      <th>ArrTime</th>\n",
       "      <th>UniqueCarrier</th>\n",
       "      <th>FlightNum</th>\n",
       "      <th>TailNum</th>\n",
       "      <th>ActualElapsedTime</th>\n",
       "      <th>...</th>\n",
       "      <th>ArrDelay</th>\n",
       "      <th>DepDelay</th>\n",
       "      <th>Origin</th>\n",
       "      <th>Dest</th>\n",
       "      <th>Distance</th>\n",
       "      <th>TaxiIn</th>\n",
       "      <th>TaxiOut</th>\n",
       "      <th>Cancelled</th>\n",
       "      <th>CancellationCode</th>\n",
       "      <th>Diverted</th>\n",
       "    </tr>\n",
       "  </thead>\n",
       "  <tbody>\n",
       "    <tr>\n",
       "      <th>0</th>\n",
       "      <td>2011</td>\n",
       "      <td>1</td>\n",
       "      <td>1</td>\n",
       "      <td>6</td>\n",
       "      <td>1400.0</td>\n",
       "      <td>1500.0</td>\n",
       "      <td>AA</td>\n",
       "      <td>428</td>\n",
       "      <td>N576AA</td>\n",
       "      <td>60.0</td>\n",
       "      <td>...</td>\n",
       "      <td>-10.0</td>\n",
       "      <td>0.0</td>\n",
       "      <td>IAH</td>\n",
       "      <td>DFW</td>\n",
       "      <td>224</td>\n",
       "      <td>7.0</td>\n",
       "      <td>13.0</td>\n",
       "      <td>0</td>\n",
       "      <td>NaN</td>\n",
       "      <td>0</td>\n",
       "    </tr>\n",
       "    <tr>\n",
       "      <th>1</th>\n",
       "      <td>2011</td>\n",
       "      <td>1</td>\n",
       "      <td>2</td>\n",
       "      <td>7</td>\n",
       "      <td>1401.0</td>\n",
       "      <td>1501.0</td>\n",
       "      <td>AA</td>\n",
       "      <td>428</td>\n",
       "      <td>N557AA</td>\n",
       "      <td>60.0</td>\n",
       "      <td>...</td>\n",
       "      <td>-9.0</td>\n",
       "      <td>1.0</td>\n",
       "      <td>IAH</td>\n",
       "      <td>DFW</td>\n",
       "      <td>224</td>\n",
       "      <td>6.0</td>\n",
       "      <td>9.0</td>\n",
       "      <td>0</td>\n",
       "      <td>NaN</td>\n",
       "      <td>0</td>\n",
       "    </tr>\n",
       "    <tr>\n",
       "      <th>2</th>\n",
       "      <td>2011</td>\n",
       "      <td>1</td>\n",
       "      <td>3</td>\n",
       "      <td>1</td>\n",
       "      <td>1352.0</td>\n",
       "      <td>1502.0</td>\n",
       "      <td>AA</td>\n",
       "      <td>428</td>\n",
       "      <td>N541AA</td>\n",
       "      <td>70.0</td>\n",
       "      <td>...</td>\n",
       "      <td>-8.0</td>\n",
       "      <td>-8.0</td>\n",
       "      <td>IAH</td>\n",
       "      <td>DFW</td>\n",
       "      <td>224</td>\n",
       "      <td>5.0</td>\n",
       "      <td>17.0</td>\n",
       "      <td>0</td>\n",
       "      <td>NaN</td>\n",
       "      <td>0</td>\n",
       "    </tr>\n",
       "    <tr>\n",
       "      <th>3</th>\n",
       "      <td>2011</td>\n",
       "      <td>1</td>\n",
       "      <td>4</td>\n",
       "      <td>2</td>\n",
       "      <td>1403.0</td>\n",
       "      <td>1513.0</td>\n",
       "      <td>AA</td>\n",
       "      <td>428</td>\n",
       "      <td>N403AA</td>\n",
       "      <td>70.0</td>\n",
       "      <td>...</td>\n",
       "      <td>3.0</td>\n",
       "      <td>3.0</td>\n",
       "      <td>IAH</td>\n",
       "      <td>DFW</td>\n",
       "      <td>224</td>\n",
       "      <td>9.0</td>\n",
       "      <td>22.0</td>\n",
       "      <td>0</td>\n",
       "      <td>NaN</td>\n",
       "      <td>0</td>\n",
       "    </tr>\n",
       "    <tr>\n",
       "      <th>4</th>\n",
       "      <td>2011</td>\n",
       "      <td>1</td>\n",
       "      <td>5</td>\n",
       "      <td>3</td>\n",
       "      <td>1405.0</td>\n",
       "      <td>1507.0</td>\n",
       "      <td>AA</td>\n",
       "      <td>428</td>\n",
       "      <td>N492AA</td>\n",
       "      <td>62.0</td>\n",
       "      <td>...</td>\n",
       "      <td>-3.0</td>\n",
       "      <td>5.0</td>\n",
       "      <td>IAH</td>\n",
       "      <td>DFW</td>\n",
       "      <td>224</td>\n",
       "      <td>9.0</td>\n",
       "      <td>9.0</td>\n",
       "      <td>0</td>\n",
       "      <td>NaN</td>\n",
       "      <td>0</td>\n",
       "    </tr>\n",
       "  </tbody>\n",
       "</table>\n",
       "<p>5 rows × 21 columns</p>\n",
       "</div>"
      ],
      "text/plain": [
       "   Year  Month  DayofMonth  DayOfWeek  DepTime  ArrTime UniqueCarrier  \\\n",
       "0  2011      1           1          6   1400.0   1500.0            AA   \n",
       "1  2011      1           2          7   1401.0   1501.0            AA   \n",
       "2  2011      1           3          1   1352.0   1502.0            AA   \n",
       "3  2011      1           4          2   1403.0   1513.0            AA   \n",
       "4  2011      1           5          3   1405.0   1507.0            AA   \n",
       "\n",
       "   FlightNum TailNum  ActualElapsedTime  ...  ArrDelay  DepDelay  Origin Dest  \\\n",
       "0        428  N576AA               60.0  ...     -10.0       0.0     IAH  DFW   \n",
       "1        428  N557AA               60.0  ...      -9.0       1.0     IAH  DFW   \n",
       "2        428  N541AA               70.0  ...      -8.0      -8.0     IAH  DFW   \n",
       "3        428  N403AA               70.0  ...       3.0       3.0     IAH  DFW   \n",
       "4        428  N492AA               62.0  ...      -3.0       5.0     IAH  DFW   \n",
       "\n",
       "  Distance  TaxiIn  TaxiOut  Cancelled  CancellationCode Diverted  \n",
       "0      224     7.0     13.0          0               NaN        0  \n",
       "1      224     6.0      9.0          0               NaN        0  \n",
       "2      224     5.0     17.0          0               NaN        0  \n",
       "3      224     9.0     22.0          0               NaN        0  \n",
       "4      224     9.0      9.0          0               NaN        0  \n",
       "\n",
       "[5 rows x 21 columns]"
      ]
     },
     "execution_count": 1,
     "metadata": {},
     "output_type": "execute_result"
    }
   ],
   "source": [
    "#first import pandas\n",
    "import pandas as pd\n",
    "\n",
    "#also import numpy, just in case\n",
    "import numpy as np\n",
    "\n",
    "#use the code provided in the assignment to read the file\n",
    "filename = \"https://raw.githubusercontent.com/jtopor/DAV-5400/master/Project1/hflights.csv\"\n",
    "flights = pd.read_csv(filename)\n",
    "\n",
    "#use the head function to make sure the data loaded properly\n",
    "flights.head()"
   ]
  },
  {
   "cell_type": "markdown",
   "metadata": {},
   "source": [
    "### Task: Designate Research Questions\n",
    "\n",
    "For this task, I chose to view this dataset from the perspective of a person who has just moved to Houston who is deciding which carrier's credit card they should join to maximize their points. Their apartment is equidistant from both airports, and they want to choose the carrier that is the most reliable and on time. For this reason I chose the following questions.\n",
    "\n",
    "-  Which carrier had the shortest average arrival delay?\n",
    "-  Which carrier had the shortest average departure delay?\n",
    "-  Which carrier had the lowest percentage of cancelled flights?\n"
   ]
  },
  {
   "cell_type": "markdown",
   "metadata": {},
   "source": [
    "### Preliminary Data Transformation\n",
    "\n",
    "First I will limit the columns of the data set by creating a smaller data frame that only contains the information I need to answer my questions. This will also improve efficiency. Then I will check to see if there are any null values which could affect my results. \n",
    "\n",
    "#### Preliminary Data Transformation - Subset\n",
    "Here I will limit the columns of the data set by creating a smaller data frame containing only the information I need. I have removed year and date information from this as all the data comes from the same year, 2011. "
   ]
  },
  {
   "cell_type": "code",
   "execution_count": 2,
   "metadata": {},
   "outputs": [
    {
     "data": {
      "text/html": [
       "<div>\n",
       "<style scoped>\n",
       "    .dataframe tbody tr th:only-of-type {\n",
       "        vertical-align: middle;\n",
       "    }\n",
       "\n",
       "    .dataframe tbody tr th {\n",
       "        vertical-align: top;\n",
       "    }\n",
       "\n",
       "    .dataframe thead th {\n",
       "        text-align: right;\n",
       "    }\n",
       "</style>\n",
       "<table border=\"1\" class=\"dataframe\">\n",
       "  <thead>\n",
       "    <tr style=\"text-align: right;\">\n",
       "      <th></th>\n",
       "      <th>UniqueCarrier</th>\n",
       "      <th>ArrDelay</th>\n",
       "      <th>DepDelay</th>\n",
       "      <th>Cancelled</th>\n",
       "    </tr>\n",
       "  </thead>\n",
       "  <tbody>\n",
       "    <tr>\n",
       "      <th>0</th>\n",
       "      <td>AA</td>\n",
       "      <td>-10.0</td>\n",
       "      <td>0.0</td>\n",
       "      <td>0</td>\n",
       "    </tr>\n",
       "    <tr>\n",
       "      <th>1</th>\n",
       "      <td>AA</td>\n",
       "      <td>-9.0</td>\n",
       "      <td>1.0</td>\n",
       "      <td>0</td>\n",
       "    </tr>\n",
       "    <tr>\n",
       "      <th>2</th>\n",
       "      <td>AA</td>\n",
       "      <td>-8.0</td>\n",
       "      <td>-8.0</td>\n",
       "      <td>0</td>\n",
       "    </tr>\n",
       "    <tr>\n",
       "      <th>3</th>\n",
       "      <td>AA</td>\n",
       "      <td>3.0</td>\n",
       "      <td>3.0</td>\n",
       "      <td>0</td>\n",
       "    </tr>\n",
       "    <tr>\n",
       "      <th>4</th>\n",
       "      <td>AA</td>\n",
       "      <td>-3.0</td>\n",
       "      <td>5.0</td>\n",
       "      <td>0</td>\n",
       "    </tr>\n",
       "  </tbody>\n",
       "</table>\n",
       "</div>"
      ],
      "text/plain": [
       "  UniqueCarrier  ArrDelay  DepDelay  Cancelled\n",
       "0            AA     -10.0       0.0          0\n",
       "1            AA      -9.0       1.0          0\n",
       "2            AA      -8.0      -8.0          0\n",
       "3            AA       3.0       3.0          0\n",
       "4            AA      -3.0       5.0          0"
      ]
     },
     "execution_count": 2,
     "metadata": {},
     "output_type": "execute_result"
    }
   ],
   "source": [
    "#select a subset of the original flights dataframe\n",
    "flights_sub = flights[['UniqueCarrier','ArrDelay','DepDelay','Cancelled']].copy()\n",
    "\n",
    "#Check to make sure that the data I wanted pulled through correctly\n",
    "flights_sub.head()"
   ]
  },
  {
   "cell_type": "markdown",
   "metadata": {},
   "source": [
    "#### Preliminary Data Transformation - NULL values\n",
    "Next I will check to see if there are any null values present."
   ]
  },
  {
   "cell_type": "code",
   "execution_count": 3,
   "metadata": {},
   "outputs": [
    {
     "data": {
      "text/plain": [
       "UniqueCarrier      0\n",
       "ArrDelay         262\n",
       "DepDelay         215\n",
       "Cancelled          0\n",
       "dtype: int64"
      ]
     },
     "execution_count": 3,
     "metadata": {},
     "output_type": "execute_result"
    }
   ],
   "source": [
    "#See if there are any null values present as this will skew any results \n",
    "flights_sub.isnull().sum()"
   ]
  },
  {
   "cell_type": "code",
   "execution_count": 4,
   "metadata": {},
   "outputs": [
    {
     "name": "stdout",
     "output_type": "stream",
     "text": [
      "The number of rows including nulls is 20000\n"
     ]
    }
   ],
   "source": [
    "#count number of rows so we will know how many rows we should have sincer there are nulls that need to be removed\n",
    "x = flights_sub.shape[0]\n",
    "\n",
    "#return results that are easy to reference later\n",
    "print(\"The number of rows including nulls is\", x)"
   ]
  },
  {
   "cell_type": "markdown",
   "metadata": {},
   "source": [
    "### Data Transformation - Continued\n",
    "\n",
    "Since there are null values for arrival delay and departure delay, we will need to remove the rows with null values. Our questions are regarding the mean arrival delay and departure delay, so these answers will both be affected if we leave the null values in there.  To accomplish this, I researched the dropna function which is explained well [here.](https://pandas.pydata.org/pandas-docs/stable/reference/api/pandas.DataFrame.dropna.html)"
   ]
  },
  {
   "cell_type": "code",
   "execution_count": 5,
   "metadata": {},
   "outputs": [
    {
     "data": {
      "text/plain": [
       "UniqueCarrier    0\n",
       "ArrDelay         0\n",
       "DepDelay         0\n",
       "Cancelled        0\n",
       "dtype: int64"
      ]
     },
     "execution_count": 5,
     "metadata": {},
     "output_type": "execute_result"
    }
   ],
   "source": [
    "#create a copy of our dataframe from which we can remove the null values\n",
    "flights_subnonulls = flights_sub.copy()\n",
    "\n",
    "#drop rows where there are null values for arrival delay or departure delay\n",
    "flights_subnonulls.dropna(subset=['ArrDelay','DepDelay'],inplace=True)\n",
    "\n",
    "#check to see if this worked\n",
    "flights_subnonulls.isnull().sum()\n"
   ]
  },
  {
   "cell_type": "markdown",
   "metadata": {},
   "source": [
    "Next I will check my row count to make sure that I only deleted the number of rows that I was expecting to delete given my earlier results."
   ]
  },
  {
   "cell_type": "code",
   "execution_count": 6,
   "metadata": {},
   "outputs": [
    {
     "name": "stdout",
     "output_type": "stream",
     "text": [
      "The number of rows in our new data frame is 19738\n"
     ]
    }
   ],
   "source": [
    "#count the number of rows in our new data frame\n",
    "y = flights_subnonulls.shape[0]\n",
    "\n",
    "#print the results in a nice format\n",
    "print(\"The number of rows in our new data frame is\", y)"
   ]
  },
  {
   "cell_type": "markdown",
   "metadata": {},
   "source": [
    "### Exploratory Data Analysis\n",
    "Here I will perform explanatory data analysis on the new subset to see the distribution of arrival time delay, departure time delay, and cancelled flights amongst the different carriers. "
   ]
  },
  {
   "cell_type": "markdown",
   "metadata": {},
   "source": [
    "#### Exploratory Data Analysis - Arrival Time Delay\n",
    "\n",
    "First I will look at arrival time delay across carriers. "
   ]
  },
  {
   "cell_type": "code",
   "execution_count": 7,
   "metadata": {},
   "outputs": [
    {
     "data": {
      "text/plain": [
       "count    19738.000000\n",
       "mean         5.205340\n",
       "std         25.383494\n",
       "min        -49.000000\n",
       "25%         -8.000000\n",
       "50%          0.000000\n",
       "75%         11.000000\n",
       "max        775.000000\n",
       "Name: ArrDelay, dtype: float64"
      ]
     },
     "execution_count": 7,
     "metadata": {},
     "output_type": "execute_result"
    }
   ],
   "source": [
    "#show the mean, standard deviation, minimum, and quartiles for arrival delay across all flights with no null values\n",
    "flights_subnonulls['ArrDelay'].describe()"
   ]
  },
  {
   "cell_type": "code",
   "execution_count": 8,
   "metadata": {},
   "outputs": [],
   "source": [
    "ArrDelayHist = flights_subnonulls['ArrDelay'].plot(kind='hist')\n",
    "ArrDelayHist;"
   ]
  },
  {
   "cell_type": "markdown",
   "metadata": {},
   "source": [
    "The above histogram and descriptive statistics show that the overall distribution of arrival time delay is skewed to the right, with a mean of 5.2 minutes, a minimum of -49 minutes (or 49 minutes early), and a max of 775. The histogram indicates that the average arrival delay is very small and that there are many outliers, since three standard deviations above the mean is roughly 82 minutes delayed. Anything past 82 minutes could be considered an outlier. "
   ]
  },
  {
   "cell_type": "markdown",
   "metadata": {},
   "source": [
    "Next we will examine if this trend is present when spread amongst carriers to determine which carrier has the lowest average arrival delay. To do so I will first create a new data frame that only contains the mean of each unique carrier so that we can transform that data into a visualization. "
   ]
  },
  {
   "cell_type": "code",
   "execution_count": 9,
   "metadata": {},
   "outputs": [
    {
     "data": {
      "text/html": [
       "<div>\n",
       "<style scoped>\n",
       "    .dataframe tbody tr th:only-of-type {\n",
       "        vertical-align: middle;\n",
       "    }\n",
       "\n",
       "    .dataframe tbody tr th {\n",
       "        vertical-align: top;\n",
       "    }\n",
       "\n",
       "    .dataframe thead th {\n",
       "        text-align: right;\n",
       "    }\n",
       "</style>\n",
       "<table border=\"1\" class=\"dataframe\">\n",
       "  <thead>\n",
       "    <tr style=\"text-align: right;\">\n",
       "      <th></th>\n",
       "      <th>UniqueCarrier</th>\n",
       "      <th>ArrDelay</th>\n",
       "    </tr>\n",
       "  </thead>\n",
       "  <tbody>\n",
       "    <tr>\n",
       "      <th>0</th>\n",
       "      <td>AA</td>\n",
       "      <td>0.950397</td>\n",
       "    </tr>\n",
       "    <tr>\n",
       "      <th>1</th>\n",
       "      <td>AS</td>\n",
       "      <td>9.396552</td>\n",
       "    </tr>\n",
       "    <tr>\n",
       "      <th>2</th>\n",
       "      <td>B6</td>\n",
       "      <td>11.086022</td>\n",
       "    </tr>\n",
       "    <tr>\n",
       "      <th>3</th>\n",
       "      <td>CO</td>\n",
       "      <td>5.366780</td>\n",
       "    </tr>\n",
       "    <tr>\n",
       "      <th>4</th>\n",
       "      <td>DL</td>\n",
       "      <td>4.310924</td>\n",
       "    </tr>\n",
       "    <tr>\n",
       "      <th>5</th>\n",
       "      <td>EV</td>\n",
       "      <td>13.927083</td>\n",
       "    </tr>\n",
       "    <tr>\n",
       "      <th>6</th>\n",
       "      <td>F9</td>\n",
       "      <td>13.725806</td>\n",
       "    </tr>\n",
       "    <tr>\n",
       "      <th>7</th>\n",
       "      <td>FL</td>\n",
       "      <td>1.624060</td>\n",
       "    </tr>\n",
       "    <tr>\n",
       "      <th>8</th>\n",
       "      <td>MQ</td>\n",
       "      <td>7.144615</td>\n",
       "    </tr>\n",
       "    <tr>\n",
       "      <th>9</th>\n",
       "      <td>OO</td>\n",
       "      <td>5.743106</td>\n",
       "    </tr>\n",
       "    <tr>\n",
       "      <th>10</th>\n",
       "      <td>UA</td>\n",
       "      <td>-2.234694</td>\n",
       "    </tr>\n",
       "    <tr>\n",
       "      <th>11</th>\n",
       "      <td>US</td>\n",
       "      <td>-3.595960</td>\n",
       "    </tr>\n",
       "    <tr>\n",
       "      <th>12</th>\n",
       "      <td>WN</td>\n",
       "      <td>8.644941</td>\n",
       "    </tr>\n",
       "    <tr>\n",
       "      <th>13</th>\n",
       "      <td>XE</td>\n",
       "      <td>3.613172</td>\n",
       "    </tr>\n",
       "  </tbody>\n",
       "</table>\n",
       "</div>"
      ],
      "text/plain": [
       "   UniqueCarrier   ArrDelay\n",
       "0             AA   0.950397\n",
       "1             AS   9.396552\n",
       "2             B6  11.086022\n",
       "3             CO   5.366780\n",
       "4             DL   4.310924\n",
       "5             EV  13.927083\n",
       "6             F9  13.725806\n",
       "7             FL   1.624060\n",
       "8             MQ   7.144615\n",
       "9             OO   5.743106\n",
       "10            UA  -2.234694\n",
       "11            US  -3.595960\n",
       "12            WN   8.644941\n",
       "13            XE   3.613172"
      ]
     },
     "execution_count": 9,
     "metadata": {},
     "output_type": "execute_result"
    }
   ],
   "source": [
    "#Create a new Data Frame with the unique carriers and the mean of their arrival time\n",
    "ArrDelayFrame = flights_subnonulls.groupby('UniqueCarrier',as_index=False)['ArrDelay'].mean()\n",
    "\n",
    "#Display results\n",
    "ArrDelayFrame"
   ]
  },
  {
   "cell_type": "markdown",
   "metadata": {},
   "source": [
    "Now that we have the data frame created which contains only average arrival delay per carrier, I will create the visualization."
   ]
  },
  {
   "cell_type": "code",
   "execution_count": 10,
   "metadata": {},
   "outputs": [
    {
     "data": {
      "image/png": "[encoded data removed]",
      "text/plain": [
       "<Figure size 432x288 with 1 Axes>"
      ]
     },
     "metadata": {
      "needs_background": "light"
     },
     "output_type": "display_data"
    }
   ],
   "source": [
    "#graph a bar chart showing this data in a visualization\n",
    "ArrDelaybarchart = ArrDelayFrame.plot.bar(x='UniqueCarrier', y ='ArrDelay',rot=0)\n",
    "\n",
    "#return the results without the autogenerated code\n",
    "ArrDelaybarchart;"
   ]
  },
  {
   "cell_type": "markdown",
   "metadata": {},
   "source": [
    "The above bar chart indicates that two of the carriers, UA and US, arrive early on average, with US having the smallest average arrival delay. It also shows that there are five carriers who have an average arrival delay that is *greater* than the average arrival delay of the entire distribution. "
   ]
  },
  {
   "cell_type": "markdown",
   "metadata": {},
   "source": [
    "#### Exploratory Data Analysis - Departure Delays\n",
    "\n",
    "Here I will look at the distribution of departure delays across carriers. "
   ]
  },
  {
   "cell_type": "code",
   "execution_count": 11,
   "metadata": {},
   "outputs": [
    {
     "data": {
      "text/plain": [
       "count    19738.000000\n",
       "mean         8.271253\n",
       "std         23.861301\n",
       "min        -18.000000\n",
       "25%         -3.000000\n",
       "50%          1.000000\n",
       "75%         10.000000\n",
       "max        780.000000\n",
       "Name: DepDelay, dtype: float64"
      ]
     },
     "execution_count": 11,
     "metadata": {},
     "output_type": "execute_result"
    }
   ],
   "source": [
    "#find the mean, standard deviation, and quartiles for departure delay across all flights\n",
    "flights_subnonulls.describe()['DepDelay']"
   ]
  },
  {
   "cell_type": "code",
   "execution_count": 12,
   "metadata": {},
   "outputs": [
    {
     "data": {
      "image/png": "[encoded data removed]",
      "text/plain": [
       "<Figure size 432x288 with 1 Axes>"
      ]
     },
     "metadata": {
      "needs_background": "light"
     },
     "output_type": "display_data"
    }
   ],
   "source": [
    "#Create a histogram to display the departure delay distribution\n",
    "depdelaybar = flights_subnonulls['DepDelay'].plot(kind='hist')\n",
    "\n",
    "#Return the results without the autogenerated code\n",
    "depdelaybar;"
   ]
  },
  {
   "cell_type": "markdown",
   "metadata": {},
   "source": [
    "The descriptive statistics above and the histogram show that the average departure delay is roughly 8 minutes, with a minimum of 18 minutes early and a maximum of 780 minutes. The standard deviation of the distribution is 23 minutes. The histogram also shows us that, like arrival delay, departure delay is also skewed right. The maximum of 780 tells us that there are definitely outliers because the 75th percentile is 10, and 3 standard deviations above the mean would be 77."
   ]
  },
  {
   "cell_type": "markdown",
   "metadata": {},
   "source": [
    "Next I will look at the distribution among carriers.  To do so I will first create a separate dataframe which contains only information about the average departure delay for each carrier. "
   ]
  },
  {
   "cell_type": "code",
   "execution_count": 13,
   "metadata": {},
   "outputs": [
    {
     "data": {
      "text/html": [
       "<div>\n",
       "<style scoped>\n",
       "    .dataframe tbody tr th:only-of-type {\n",
       "        vertical-align: middle;\n",
       "    }\n",
       "\n",
       "    .dataframe tbody tr th {\n",
       "        vertical-align: top;\n",
       "    }\n",
       "\n",
       "    .dataframe thead th {\n",
       "        text-align: right;\n",
       "    }\n",
       "</style>\n",
       "<table border=\"1\" class=\"dataframe\">\n",
       "  <thead>\n",
       "    <tr style=\"text-align: right;\">\n",
       "      <th></th>\n",
       "      <th>UniqueCarrier</th>\n",
       "      <th>DepDelay</th>\n",
       "    </tr>\n",
       "  </thead>\n",
       "  <tbody>\n",
       "    <tr>\n",
       "      <th>0</th>\n",
       "      <td>AA</td>\n",
       "      <td>5.630952</td>\n",
       "    </tr>\n",
       "    <tr>\n",
       "      <th>1</th>\n",
       "      <td>AS</td>\n",
       "      <td>4.724138</td>\n",
       "    </tr>\n",
       "    <tr>\n",
       "      <th>2</th>\n",
       "      <td>B6</td>\n",
       "      <td>18.344086</td>\n",
       "    </tr>\n",
       "    <tr>\n",
       "      <th>3</th>\n",
       "      <td>CO</td>\n",
       "      <td>9.859613</td>\n",
       "    </tr>\n",
       "    <tr>\n",
       "      <th>4</th>\n",
       "      <td>DL</td>\n",
       "      <td>8.033613</td>\n",
       "    </tr>\n",
       "    <tr>\n",
       "      <th>5</th>\n",
       "      <td>EV</td>\n",
       "      <td>21.062500</td>\n",
       "    </tr>\n",
       "    <tr>\n",
       "      <th>6</th>\n",
       "      <td>F9</td>\n",
       "      <td>6.306452</td>\n",
       "    </tr>\n",
       "    <tr>\n",
       "      <th>7</th>\n",
       "      <td>FL</td>\n",
       "      <td>3.939850</td>\n",
       "    </tr>\n",
       "    <tr>\n",
       "      <th>8</th>\n",
       "      <td>MQ</td>\n",
       "      <td>9.901538</td>\n",
       "    </tr>\n",
       "    <tr>\n",
       "      <th>9</th>\n",
       "      <td>OO</td>\n",
       "      <td>6.738752</td>\n",
       "    </tr>\n",
       "    <tr>\n",
       "      <th>10</th>\n",
       "      <td>UA</td>\n",
       "      <td>3.989796</td>\n",
       "    </tr>\n",
       "    <tr>\n",
       "      <th>11</th>\n",
       "      <td>US</td>\n",
       "      <td>1.050505</td>\n",
       "    </tr>\n",
       "    <tr>\n",
       "      <th>12</th>\n",
       "      <td>WN</td>\n",
       "      <td>14.348241</td>\n",
       "    </tr>\n",
       "    <tr>\n",
       "      <th>13</th>\n",
       "      <td>XE</td>\n",
       "      <td>3.828342</td>\n",
       "    </tr>\n",
       "  </tbody>\n",
       "</table>\n",
       "</div>"
      ],
      "text/plain": [
       "   UniqueCarrier   DepDelay\n",
       "0             AA   5.630952\n",
       "1             AS   4.724138\n",
       "2             B6  18.344086\n",
       "3             CO   9.859613\n",
       "4             DL   8.033613\n",
       "5             EV  21.062500\n",
       "6             F9   6.306452\n",
       "7             FL   3.939850\n",
       "8             MQ   9.901538\n",
       "9             OO   6.738752\n",
       "10            UA   3.989796\n",
       "11            US   1.050505\n",
       "12            WN  14.348241\n",
       "13            XE   3.828342"
      ]
     },
     "execution_count": 13,
     "metadata": {},
     "output_type": "execute_result"
    }
   ],
   "source": [
    "#Create a new DataFrame with the mean departure delay per carrier\n",
    "DepDelayFrame = flights_subnonulls.groupby('UniqueCarrier',as_index=False)['DepDelay'].mean()\n",
    "\n",
    "#Display results\n",
    "DepDelayFrame"
   ]
  },
  {
   "cell_type": "markdown",
   "metadata": {},
   "source": [
    "Next I will create a bar chart for average departure delay per carrier."
   ]
  },
  {
   "cell_type": "code",
   "execution_count": 14,
   "metadata": {},
   "outputs": [
    {
     "data": {
      "image/png": "[encoded data removed]",
      "text/plain": [
       "<Figure size 432x288 with 1 Axes>"
      ]
     },
     "metadata": {
      "needs_background": "light"
     },
     "output_type": "display_data"
    }
   ],
   "source": [
    "#graph a bar chart showing this data in a visualization\n",
    "DepDelaybarchart = DepDelayFrame.plot.bar(x='UniqueCarrier', y ='DepDelay',rot=0)\n",
    "\n",
    "#return the results without the autogenerated code\n",
    "DepDelaybarchart;"
   ]
  },
  {
   "cell_type": "markdown",
   "metadata": {},
   "source": [
    "The above bar chart shows us that the carrier with the shortest average departure delay is US. We also see that there are five carriers with an average departure delay greater than the mean for all flights. "
   ]
  },
  {
   "cell_type": "markdown",
   "metadata": {},
   "source": [
    "#### Exploratory Data Analysis - Arrival Delay & Departure Delay side by side\n",
    "Because it is possible for a carrier to have a great arrival delay record but a poor departure delay record or vice versa, it would be helpful to compare these two metrics side by side. That is what I will explore here. I will first create another dataframe by concatenating two previously created dataframes on average arrival delay and average departure delay, and by creating a third dataframe with just the unique carrier names."
   ]
  },
  {
   "cell_type": "code",
   "execution_count": 15,
   "metadata": {},
   "outputs": [
    {
     "data": {
      "text/html": [
       "<div>\n",
       "<style scoped>\n",
       "    .dataframe tbody tr th:only-of-type {\n",
       "        vertical-align: middle;\n",
       "    }\n",
       "\n",
       "    .dataframe tbody tr th {\n",
       "        vertical-align: top;\n",
       "    }\n",
       "\n",
       "    .dataframe thead th {\n",
       "        text-align: right;\n",
       "    }\n",
       "</style>\n",
       "<table border=\"1\" class=\"dataframe\">\n",
       "  <thead>\n",
       "    <tr style=\"text-align: right;\">\n",
       "      <th></th>\n",
       "      <th>UniqueCarrier</th>\n",
       "      <th>ArrDelay</th>\n",
       "      <th>DepDelay</th>\n",
       "    </tr>\n",
       "  </thead>\n",
       "  <tbody>\n",
       "    <tr>\n",
       "      <th>0</th>\n",
       "      <td>AA</td>\n",
       "      <td>0.950397</td>\n",
       "      <td>5.630952</td>\n",
       "    </tr>\n",
       "    <tr>\n",
       "      <th>1</th>\n",
       "      <td>AS</td>\n",
       "      <td>9.396552</td>\n",
       "      <td>4.724138</td>\n",
       "    </tr>\n",
       "    <tr>\n",
       "      <th>2</th>\n",
       "      <td>B6</td>\n",
       "      <td>11.086022</td>\n",
       "      <td>18.344086</td>\n",
       "    </tr>\n",
       "    <tr>\n",
       "      <th>3</th>\n",
       "      <td>CO</td>\n",
       "      <td>5.366780</td>\n",
       "      <td>9.859613</td>\n",
       "    </tr>\n",
       "    <tr>\n",
       "      <th>4</th>\n",
       "      <td>DL</td>\n",
       "      <td>4.310924</td>\n",
       "      <td>8.033613</td>\n",
       "    </tr>\n",
       "    <tr>\n",
       "      <th>5</th>\n",
       "      <td>EV</td>\n",
       "      <td>13.927083</td>\n",
       "      <td>21.062500</td>\n",
       "    </tr>\n",
       "    <tr>\n",
       "      <th>6</th>\n",
       "      <td>F9</td>\n",
       "      <td>13.725806</td>\n",
       "      <td>6.306452</td>\n",
       "    </tr>\n",
       "    <tr>\n",
       "      <th>7</th>\n",
       "      <td>FL</td>\n",
       "      <td>1.624060</td>\n",
       "      <td>3.939850</td>\n",
       "    </tr>\n",
       "    <tr>\n",
       "      <th>8</th>\n",
       "      <td>MQ</td>\n",
       "      <td>7.144615</td>\n",
       "      <td>9.901538</td>\n",
       "    </tr>\n",
       "    <tr>\n",
       "      <th>9</th>\n",
       "      <td>OO</td>\n",
       "      <td>5.743106</td>\n",
       "      <td>6.738752</td>\n",
       "    </tr>\n",
       "    <tr>\n",
       "      <th>10</th>\n",
       "      <td>UA</td>\n",
       "      <td>-2.234694</td>\n",
       "      <td>3.989796</td>\n",
       "    </tr>\n",
       "    <tr>\n",
       "      <th>11</th>\n",
       "      <td>US</td>\n",
       "      <td>-3.595960</td>\n",
       "      <td>1.050505</td>\n",
       "    </tr>\n",
       "    <tr>\n",
       "      <th>12</th>\n",
       "      <td>WN</td>\n",
       "      <td>8.644941</td>\n",
       "      <td>14.348241</td>\n",
       "    </tr>\n",
       "    <tr>\n",
       "      <th>13</th>\n",
       "      <td>XE</td>\n",
       "      <td>3.613172</td>\n",
       "      <td>3.828342</td>\n",
       "    </tr>\n",
       "  </tbody>\n",
       "</table>\n",
       "</div>"
      ],
      "text/plain": [
       "   UniqueCarrier   ArrDelay   DepDelay\n",
       "0             AA   0.950397   5.630952\n",
       "1             AS   9.396552   4.724138\n",
       "2             B6  11.086022  18.344086\n",
       "3             CO   5.366780   9.859613\n",
       "4             DL   4.310924   8.033613\n",
       "5             EV  13.927083  21.062500\n",
       "6             F9  13.725806   6.306452\n",
       "7             FL   1.624060   3.939850\n",
       "8             MQ   7.144615   9.901538\n",
       "9             OO   5.743106   6.738752\n",
       "10            UA  -2.234694   3.989796\n",
       "11            US  -3.595960   1.050505\n",
       "12            WN   8.644941  14.348241\n",
       "13            XE   3.613172   3.828342"
      ]
     },
     "execution_count": 15,
     "metadata": {},
     "output_type": "execute_result"
    }
   ],
   "source": [
    "#First we need to get the unique carriers which we can do by slicing either of the frames we previously created\n",
    "Carriers = DepDelayFrame['UniqueCarrier']\n",
    "\n",
    "#Next I will get the mean Arrival Delay by slicing the ArrDelay Frame created earlier\n",
    "AvgArrivalDelay = ArrDelayFrame['ArrDelay']\n",
    "\n",
    "#Then I get the mean Departure Delay by slicing the DepDelay Frame created earlier\n",
    "AvgDepartureDelay = DepDelayFrame['DepDelay']\n",
    "\n",
    "#Lastly I create a combined frame using pandas concat function, concatenating by columns\n",
    "CombinedFrame = pd.concat([Carriers,AvgArrivalDelay,AvgDepartureDelay],1)\n",
    "\n",
    "#Display results to check for accuracy\n",
    "CombinedFrame"
   ]
  },
  {
   "cell_type": "markdown",
   "metadata": {},
   "source": [
    "Now that we have a combined data set by average we can graph the results using a side by side bar chart. "
   ]
  },
  {
   "cell_type": "code",
   "execution_count": 16,
   "metadata": {},
   "outputs": [
    {
     "data": {
      "image/png": "[encoded data removed]",
      "text/plain": [
       "<Figure size 432x288 with 1 Axes>"
      ]
     },
     "metadata": {
      "needs_background": "light"
     },
     "output_type": "display_data"
    }
   ],
   "source": [
    "#Create the bar chart with Carrier on the x axis\n",
    "Combinedbar= CombinedFrame.plot.bar(x='UniqueCarrier')\n",
    "\n",
    "#Return the chart without the autogenerated code\n",
    "Combinedbar;"
   ]
  },
  {
   "cell_type": "markdown",
   "metadata": {},
   "source": [
    "We see from the chart above that the carrier US has the smallest average arrival delay and departure delay. Other carriers that are below the mean for both variables (8.271253 for departure delay and 5.205340 for arrival delay) are AA, FL, DL, OO, UA, and XE. Since we are looking for reliable carriers, and the shorter the delay time means a more reliable carrier, we ideally want to choose a carrier who has a shorter than average delay time for both arrival and departure."
   ]
  },
  {
   "cell_type": "markdown",
   "metadata": {},
   "source": [
    "#### Exploratory Data Analysis - Cancelled Flights\n",
    "\n",
    "Next I will look at the percentage of cancelled flights by carrier. To do so I will need to use the original data subset because the flights removed in the previous part of my exploratory analysis were possibly lacking arrival and departure delay times because they were cancelled. I will create data frames for sum(since cancelled flights have an indicator of 1 the sum will tell me how many cancelled flights there were) and count (to get the total number of flights for that carrier) so that I can create a calculated percentage column for each carrier. I am not concerned with null values here because in the data transformation stage above I saw that there were no null values in the cancelled column."
   ]
  },
  {
   "cell_type": "code",
   "execution_count": 17,
   "metadata": {},
   "outputs": [
    {
     "data": {
      "text/html": [
       "<div>\n",
       "<style scoped>\n",
       "    .dataframe tbody tr th:only-of-type {\n",
       "        vertical-align: middle;\n",
       "    }\n",
       "\n",
       "    .dataframe tbody tr th {\n",
       "        vertical-align: top;\n",
       "    }\n",
       "\n",
       "    .dataframe thead th {\n",
       "        text-align: right;\n",
       "    }\n",
       "</style>\n",
       "<table border=\"1\" class=\"dataframe\">\n",
       "  <thead>\n",
       "    <tr style=\"text-align: right;\">\n",
       "      <th></th>\n",
       "      <th>UniqueCarrier</th>\n",
       "      <th>CountOfFlights</th>\n",
       "      <th>SumOfCancelled</th>\n",
       "      <th>PercentCancelled</th>\n",
       "    </tr>\n",
       "  </thead>\n",
       "  <tbody>\n",
       "    <tr>\n",
       "      <th>0</th>\n",
       "      <td>AA</td>\n",
       "      <td>519</td>\n",
       "      <td>14</td>\n",
       "      <td>2.697495</td>\n",
       "    </tr>\n",
       "    <tr>\n",
       "      <th>1</th>\n",
       "      <td>AS</td>\n",
       "      <td>59</td>\n",
       "      <td>0</td>\n",
       "      <td>0.000000</td>\n",
       "    </tr>\n",
       "    <tr>\n",
       "      <th>2</th>\n",
       "      <td>B6</td>\n",
       "      <td>100</td>\n",
       "      <td>6</td>\n",
       "      <td>6.000000</td>\n",
       "    </tr>\n",
       "    <tr>\n",
       "      <th>3</th>\n",
       "      <td>CO</td>\n",
       "      <td>6830</td>\n",
       "      <td>53</td>\n",
       "      <td>0.775988</td>\n",
       "    </tr>\n",
       "    <tr>\n",
       "      <th>4</th>\n",
       "      <td>DL</td>\n",
       "      <td>258</td>\n",
       "      <td>20</td>\n",
       "      <td>7.751938</td>\n",
       "    </tr>\n",
       "    <tr>\n",
       "      <th>5</th>\n",
       "      <td>EV</td>\n",
       "      <td>106</td>\n",
       "      <td>9</td>\n",
       "      <td>8.490566</td>\n",
       "    </tr>\n",
       "    <tr>\n",
       "      <th>6</th>\n",
       "      <td>F9</td>\n",
       "      <td>62</td>\n",
       "      <td>0</td>\n",
       "      <td>0.000000</td>\n",
       "    </tr>\n",
       "    <tr>\n",
       "      <th>7</th>\n",
       "      <td>FL</td>\n",
       "      <td>144</td>\n",
       "      <td>11</td>\n",
       "      <td>7.638889</td>\n",
       "    </tr>\n",
       "    <tr>\n",
       "      <th>8</th>\n",
       "      <td>MQ</td>\n",
       "      <td>331</td>\n",
       "      <td>6</td>\n",
       "      <td>1.812689</td>\n",
       "    </tr>\n",
       "    <tr>\n",
       "      <th>9</th>\n",
       "      <td>OO</td>\n",
       "      <td>699</td>\n",
       "      <td>7</td>\n",
       "      <td>1.001431</td>\n",
       "    </tr>\n",
       "    <tr>\n",
       "      <th>10</th>\n",
       "      <td>UA</td>\n",
       "      <td>101</td>\n",
       "      <td>3</td>\n",
       "      <td>2.970297</td>\n",
       "    </tr>\n",
       "    <tr>\n",
       "      <th>11</th>\n",
       "      <td>US</td>\n",
       "      <td>308</td>\n",
       "      <td>10</td>\n",
       "      <td>3.246753</td>\n",
       "    </tr>\n",
       "    <tr>\n",
       "      <th>12</th>\n",
       "      <td>WN</td>\n",
       "      <td>3708</td>\n",
       "      <td>37</td>\n",
       "      <td>0.997843</td>\n",
       "    </tr>\n",
       "    <tr>\n",
       "      <th>13</th>\n",
       "      <td>XE</td>\n",
       "      <td>6775</td>\n",
       "      <td>48</td>\n",
       "      <td>0.708487</td>\n",
       "    </tr>\n",
       "  </tbody>\n",
       "</table>\n",
       "</div>"
      ],
      "text/plain": [
       "   UniqueCarrier  CountOfFlights  SumOfCancelled  PercentCancelled\n",
       "0             AA             519              14          2.697495\n",
       "1             AS              59               0          0.000000\n",
       "2             B6             100               6          6.000000\n",
       "3             CO            6830              53          0.775988\n",
       "4             DL             258              20          7.751938\n",
       "5             EV             106               9          8.490566\n",
       "6             F9              62               0          0.000000\n",
       "7             FL             144              11          7.638889\n",
       "8             MQ             331               6          1.812689\n",
       "9             OO             699               7          1.001431\n",
       "10            UA             101               3          2.970297\n",
       "11            US             308              10          3.246753\n",
       "12            WN            3708              37          0.997843\n",
       "13            XE            6775              48          0.708487"
      ]
     },
     "execution_count": 17,
     "metadata": {},
     "output_type": "execute_result"
    }
   ],
   "source": [
    "#First create the data frame of unique carriers\n",
    "CancelledCarriers = DepDelayFrame['UniqueCarrier']\n",
    "\n",
    "#Next create the data frame of count of flights to get the total number of flights for that carrier\n",
    "CountCancelledFrame = flights_sub.groupby('UniqueCarrier',as_index=False)['Cancelled'].count()\n",
    "\n",
    "#Now rename the column to clarify what it is so when we join the frames we won't have multiple columns named Cancelled\n",
    "CountCancelledFrame.rename(columns={'Cancelled': 'CountOfFlights'},inplace=True)\n",
    "\n",
    "#Next create the data frame of sum to get the total number of cancelled flights for each carrier\n",
    "SumCancelledFrame = flights_sub.groupby('UniqueCarrier',as_index=False)['Cancelled'].sum()\n",
    "\n",
    "#Now rename the column to clarify what it is so when we join the frames we won't have multiple columns named Cancelled\n",
    "SumCancelledFrame.rename(columns={'Cancelled':'SumOfCancelled'},inplace=True)\n",
    "\n",
    "#Combine the above data frames into one new data frame\n",
    "CombinedCancelledFrame = pd.concat([CancelledCarriers,CountCancelledFrame['CountOfFlights'],SumCancelledFrame['SumOfCancelled']],1)\n",
    "\n",
    "#Create the calculated column of percent of cancelled flights\n",
    "CombinedCancelledFrame['PercentCancelled']=(CombinedCancelledFrame['SumOfCancelled']/CombinedCancelledFrame['CountOfFlights'])*100\n",
    "\n",
    "#Return the new data frame to check results\n",
    "CombinedCancelledFrame"
   ]
  },
  {
   "cell_type": "markdown",
   "metadata": {},
   "source": [
    "Now that we have properly created the data frame, we can gather descriptive statistics on the percentage of cancelled flights."
   ]
  },
  {
   "cell_type": "code",
   "execution_count": 18,
   "metadata": {},
   "outputs": [
    {
     "data": {
      "text/plain": [
       "count    14.000000\n",
       "mean      3.149455\n",
       "std       3.047028\n",
       "min       0.000000\n",
       "25%       0.831452\n",
       "50%       2.255092\n",
       "75%       5.311688\n",
       "max       8.490566\n",
       "Name: PercentCancelled, dtype: float64"
      ]
     },
     "execution_count": 18,
     "metadata": {},
     "output_type": "execute_result"
    }
   ],
   "source": [
    "#Get descriptive statistics on percentage of flights cancelled across all carriers.\n",
    "CombinedCancelledFrame.describe()['PercentCancelled']"
   ]
  },
  {
   "cell_type": "markdown",
   "metadata": {},
   "source": [
    "Next I will create a box and whisker plot to display these statistics in a visualization so that we can quickly identify the shape of the distribution."
   ]
  },
  {
   "cell_type": "code",
   "execution_count": 19,
   "metadata": {},
   "outputs": [
    {
     "data": {
      "image/png": "[encoded data removed]",
      "text/plain": [
       "<Figure size 432x288 with 1 Axes>"
      ]
     },
     "metadata": {
      "needs_background": "light"
     },
     "output_type": "display_data"
    }
   ],
   "source": [
    "#graph a box and whisker plot showing this data in a visualization\n",
    "Cancelledbox = CombinedCancelledFrame.plot.box(x='UniqueCarrier', y ='PercentCancelled',rot=0)\n",
    "\n",
    "#return the results without the autogenerated code\n",
    "Cancelledbox;"
   ]
  },
  {
   "cell_type": "markdown",
   "metadata": {},
   "source": [
    "We can see from the descriptive statistics that the distribution of percentage of cancelled flights per carrier is skewed right with a mean of 3.15%, a minimum of 0%, a max of 8.5%, and a standard deviation of 3.05. Based on this information as well as the box and whisker plot, there do not appear to be any outliers."
   ]
  },
  {
   "cell_type": "markdown",
   "metadata": {},
   "source": [
    "Lastly I will create a bar chart so we can see the percentage of cancelled flights per carrier."
   ]
  },
  {
   "cell_type": "code",
   "execution_count": 20,
   "metadata": {},
   "outputs": [
    {
     "data": {
      "image/png": "[encoded data removed]",
      "text/plain": [
       "<Figure size 432x288 with 1 Axes>"
      ]
     },
     "metadata": {
      "needs_background": "light"
     },
     "output_type": "display_data"
    }
   ],
   "source": [
    "#graph a bar chart showing the percentage of cancelled flights per carrier in a visualization\n",
    "Cancelledbar = CombinedCancelledFrame.plot.bar(x='UniqueCarrier', y ='PercentCancelled',rot=0)\n",
    "\n",
    "#return the results without the autogenerated code\n",
    "Cancelledbar;"
   ]
  },
  {
   "cell_type": "markdown",
   "metadata": {},
   "source": [
    "This chart shows us that there are ten carriers with a percentage of cancelled flights below the mean of 3.15%. The carriers AS and F9 have 0% cancelled flights. The carrier EV has the highest percentage of cancelled flights at over 8%."
   ]
  },
  {
   "cell_type": "markdown",
   "metadata": {},
   "source": [
    "### Research Questions - Answers\n",
    "As stated above my three questions were:\n",
    "- Which carrier had the shortest average arrival delay?\n",
    "- Which carrier had the shortest average departure delay?\n",
    "- Which carrier had the lowest percentage of cancelled flights?\n",
    "\n",
    "I will now take the information learned through my exploratory data analysis and answer these three questions. \n"
   ]
  },
  {
   "cell_type": "markdown",
   "metadata": {},
   "source": [
    "#### Which carrier had the shortest average arrival delay?\n",
    "\n",
    "Referencing the bar graph in cell 10 about average arrival delay, the carrier with the shortest average arrival delay is US. There were also five other airlines whose average arrival delay is less than the mean of 5 minutes, AA, DL, FL, UA and XE."
   ]
  },
  {
   "cell_type": "markdown",
   "metadata": {},
   "source": [
    "#### Which carrier had the shortest average departure delay?\n",
    "\n",
    "Referencing the bar graph in cell 14, we can see that the carrier with the shortest average departure delay is US. There are 8 other carriers with an average departure delay less than the mean: AA, AS, DL, F9, FL, OO, UA, and XE. \n"
   ]
  },
  {
   "cell_type": "markdown",
   "metadata": {},
   "source": [
    "#### Which carrier had the lowest percentage of cancelled flights?\n",
    "\n",
    "Referencing the bar graph generated by cell 20, we see that carriers AS and F9 had 0% of their flights cancelled. However, if we look further at the data, we can see that each of those carriers took less than 100 flights total.  When compared to carriers like CO and XE which took over 6000 flights, and still had less than 1% of total flights cancelled, the 0% of cancelled flights for AS and F9 seems less impressive. "
   ]
  },
  {
   "cell_type": "markdown",
   "metadata": {},
   "source": [
    "### Conclusion\n",
    "\n",
    "The overall goal of this research was to determine which carrier's credit card a recent Houston transplant should get based on reliability and timeliness of the carrier. Based on the three criteria above, I would recommend carrier XE. Although there are four carriers (AA, OO, UA, and XE) which scored below the mean for average arrival delay, average departure delay, and percentage of cancelled flights, XE had a much larger sample size at over 6000 flights. Since the sample size for this carrier was much larger than the sample size of the other carriers who fit this criteria, it indicates to me that XE is the most reliable carrier. "
   ]
  },
  {
   "cell_type": "code",
   "execution_count": null,
   "metadata": {},
   "outputs": [],
   "source": []
  }
 ],
 "metadata": {
  "kernelspec": {
   "display_name": "Python 3",
   "language": "python",
   "name": "python3"
  },
  "language_info": {
   "codemirror_mode": {
    "name": "ipython",
    "version": 3
   },
   "file_extension": ".py",
   "mimetype": "text/x-python",
   "name": "python",
   "nbconvert_exporter": "python",
   "pygments_lexer": "ipython3",
   "version": "3.7.3"
  }
 },
 "nbformat": 4,
 "nbformat_minor": 2
}
