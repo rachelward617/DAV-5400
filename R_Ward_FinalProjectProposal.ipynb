{
 "cells": [
  {
   "cell_type": "markdown",
   "metadata": {},
   "source": [
    "# Rachel Ward\n",
    "\n",
    "## DAV 5400 - Final Project Proposal\n"
   ]
  },
  {
   "cell_type": "markdown",
   "metadata": {},
   "source": [
    "## Introduction\n",
    "\n",
    "The primary goal of this project is to discover the effect (if any) on election results of donations made to independent-expenditure only committees, more popularly known as Super PACs, in Ohio.  Ohio is a \"swing state\" in presidential elections. It is important to understand the impact these committees had in the 2016 presidential elections prior to the next presidential election in 2020. \n",
    "\n",
    "Super PACs are political action committees that cannot donate to political campaigns or political parties but are allowed to spend unlimited amounts of money on independent advertising, communications, and marketing efforts on behalf of any candidate or party of their choosing. Since the money they raise does not go directly to a candidate, there is no legal limit to the amount of money they can receive in donations from individuals, corporations, unions, and groups. More information on Super PACs is available [here.](https://ballotpedia.org/Super_PAC) Since Super PACs did not exist until 2010, their funds are often referred to as \"dark money\" because they can collect and spend limitlessly with little oversight. The effect of these committees in swing states could be an extremely important factor when trying to plan the next presidential campaign."
   ]
  },
  {
   "cell_type": "markdown",
   "metadata": {},
   "source": [
    "## Research Questions\n",
    "\n",
    "1. Is there a correlation between which candidate won the county and the percentage of money within the county donated to Super PACs who support that candidate? \n",
    "2. Is there a correlation between average donation amount per individual per county and which candidate won the county?\n",
    "3. Which counties had the highest percentage of unique donors compared to total number of voters, and which candidate won these counties?\n",
    "\n",
    "Campaign analysts and analysts who work for Super PACs try to understand where their efforts could have the most impact.  Information on how Super PACs may have effected the 2016 presidential election could be helpful for both of these audiences. Super PAC analysts may see areas where their efforts clearly had an impact and may decide to reuse the strategy from 2016 which proved effective. Conversely, campaign analysts might spot areas where they did not perform well in 2016 but where there is a small enough margin that they could win these areas in 2020. \n"
   ]
  },
  {
   "cell_type": "markdown",
   "metadata": {},
   "source": [
    "## Data to be Used\n",
    "\n",
    "The data for this project will come from the following sources:\n",
    "1. [Fec.gov](https://www.fec.gov/data/receipts/individual-contributions/?recipient_committee_type=P&recipient_committee_type=O&two_year_transaction_period=2016&contributor_state=OH&contributor_state=PA) which is publicly available information on every individual donation made to any election. The FEC website has the ability to filter by state, by donation recipient type (PAC, Super PAC, candidate, etc.), for specific elections and for election cycles. I will download the information for Ohio donors to Super PACs for the 2015-2016 presidential election into a CSV file.\n",
    "2. [OpenSecrets.org](https://www.opensecrets.org/pacs/superpacs.php?cycle=2016) which keeps track of the views of the major Super PACs and lists who each Super PAC supports or opposes. I will need to use web scraping to obtain this list within python.\n",
    "3. [Politico.com](https://www.politico.com/2016-election/results/map/president/pennsylvania/) which contains information on how many voters voted for each candidate in the 2016 election, per county. I will need to use web scraping to get this information for Ohio. \n",
    "\n",
    "\n",
    " "
   ]
  },
  {
   "cell_type": "markdown",
   "metadata": {},
   "source": [
    "## Approach\n",
    "\n",
    "After gathering the data from the FEC, I will upload the csv file to my GitHub repository, and then read the information into Python using the Pandas library. Using the address data present in the dataset, I will use geopy to get the county for each donation. For the OpenSecrets and Politico data, I will use web scraping to gather the data I need and then also bring the data into a Python Pandas DataFrame. \n",
    "\n",
    "There is a lot of data present, particularly in the first data set, so I will do some preliminary data transformation to get rid of columns of data that I do not need. Then I will create a DataFrame with the donation data aggregated on a state level. I will then merge this DataFrame with both of the other dataframes - the politico dataframe based on county, and the opensecrets dataframe based on the name of the Super PAC. \n",
    "\n",
    "Once I have created this merged dataframe, I will do exploratory data analysis to find correlation. I also plan to use geoplots to help answer the questions regarding the difference in donations and which candidate won the election for each county. I will also need to count the number of unique donors from the FEC data to find the average donation per person for each county.  \n"
   ]
  },
  {
   "cell_type": "code",
   "execution_count": null,
   "metadata": {},
   "outputs": [],
   "source": []
  }
 ],
 "metadata": {
  "kernelspec": {
   "display_name": "Python 3",
   "language": "python",
   "name": "python3"
  },
  "language_info": {
   "codemirror_mode": {
    "name": "ipython",
    "version": 3
   },
   "file_extension": ".py",
   "mimetype": "text/x-python",
   "name": "python",
   "nbconvert_exporter": "python",
   "pygments_lexer": "ipython3",
   "version": "3.7.3"
  }
 },
 "nbformat": 4,
 "nbformat_minor": 2
}
