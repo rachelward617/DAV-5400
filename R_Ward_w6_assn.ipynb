{
 "cells": [
  {
   "cell_type": "markdown",
   "metadata": {},
   "source": [
    "# Rachel Ward\n",
    "## DAV 5400 - Week 6 Assignment"
   ]
  },
  {
   "cell_type": "markdown",
   "metadata": {},
   "source": [
    "This assignment looks at prices and other attributes of nearly 54,000 diamonds. A description of the attributes contained within the data set can be found [here:](https://ggplot2.tidyverse.org/reference/diamonds.html)\n",
    "First I will load the data file from Canvas into my GitHub repository and then I will read the\n",
    "data from the GitHub repository into a Pandas dataframe. \n"
   ]
  },
  {
   "cell_type": "code",
   "execution_count": 1,
   "metadata": {},
   "outputs": [
    {
     "data": {
      "text/html": [
       "<div>\n",
       "<style scoped>\n",
       "    .dataframe tbody tr th:only-of-type {\n",
       "        vertical-align: middle;\n",
       "    }\n",
       "\n",
       "    .dataframe tbody tr th {\n",
       "        vertical-align: top;\n",
       "    }\n",
       "\n",
       "    .dataframe thead th {\n",
       "        text-align: right;\n",
       "    }\n",
       "</style>\n",
       "<table border=\"1\" class=\"dataframe\">\n",
       "  <thead>\n",
       "    <tr style=\"text-align: right;\">\n",
       "      <th></th>\n",
       "      <th>carat</th>\n",
       "      <th>cut</th>\n",
       "      <th>color</th>\n",
       "      <th>clarity</th>\n",
       "      <th>depth</th>\n",
       "      <th>table</th>\n",
       "      <th>price</th>\n",
       "      <th>x</th>\n",
       "      <th>y</th>\n",
       "      <th>z</th>\n",
       "    </tr>\n",
       "  </thead>\n",
       "  <tbody>\n",
       "    <tr>\n",
       "      <th>0</th>\n",
       "      <td>0.23</td>\n",
       "      <td>Ideal</td>\n",
       "      <td>E</td>\n",
       "      <td>SI2</td>\n",
       "      <td>61.5</td>\n",
       "      <td>55.0</td>\n",
       "      <td>326</td>\n",
       "      <td>3.95</td>\n",
       "      <td>3.98</td>\n",
       "      <td>2.43</td>\n",
       "    </tr>\n",
       "    <tr>\n",
       "      <th>1</th>\n",
       "      <td>0.21</td>\n",
       "      <td>Premium</td>\n",
       "      <td>E</td>\n",
       "      <td>SI1</td>\n",
       "      <td>59.8</td>\n",
       "      <td>61.0</td>\n",
       "      <td>326</td>\n",
       "      <td>3.89</td>\n",
       "      <td>3.84</td>\n",
       "      <td>2.31</td>\n",
       "    </tr>\n",
       "    <tr>\n",
       "      <th>2</th>\n",
       "      <td>0.23</td>\n",
       "      <td>Good</td>\n",
       "      <td>E</td>\n",
       "      <td>VS1</td>\n",
       "      <td>56.9</td>\n",
       "      <td>65.0</td>\n",
       "      <td>327</td>\n",
       "      <td>4.05</td>\n",
       "      <td>4.07</td>\n",
       "      <td>2.31</td>\n",
       "    </tr>\n",
       "    <tr>\n",
       "      <th>3</th>\n",
       "      <td>0.29</td>\n",
       "      <td>Premium</td>\n",
       "      <td>I</td>\n",
       "      <td>VS2</td>\n",
       "      <td>62.4</td>\n",
       "      <td>58.0</td>\n",
       "      <td>334</td>\n",
       "      <td>4.20</td>\n",
       "      <td>4.23</td>\n",
       "      <td>2.63</td>\n",
       "    </tr>\n",
       "    <tr>\n",
       "      <th>4</th>\n",
       "      <td>0.31</td>\n",
       "      <td>Good</td>\n",
       "      <td>J</td>\n",
       "      <td>SI2</td>\n",
       "      <td>63.3</td>\n",
       "      <td>58.0</td>\n",
       "      <td>335</td>\n",
       "      <td>4.34</td>\n",
       "      <td>4.35</td>\n",
       "      <td>2.75</td>\n",
       "    </tr>\n",
       "  </tbody>\n",
       "</table>\n",
       "</div>"
      ],
      "text/plain": [
       "   carat      cut color clarity  depth  table  price     x     y     z\n",
       "0   0.23    Ideal     E     SI2   61.5   55.0    326  3.95  3.98  2.43\n",
       "1   0.21  Premium     E     SI1   59.8   61.0    326  3.89  3.84  2.31\n",
       "2   0.23     Good     E     VS1   56.9   65.0    327  4.05  4.07  2.31\n",
       "3   0.29  Premium     I     VS2   62.4   58.0    334  4.20  4.23  2.63\n",
       "4   0.31     Good     J     SI2   63.3   58.0    335  4.34  4.35  2.75"
      ]
     },
     "execution_count": 1,
     "metadata": {},
     "output_type": "execute_result"
    }
   ],
   "source": [
    "# First import pandas\n",
    "import pandas as pd\n",
    "\n",
    "#Next import numpy\n",
    "import numpy as np\n",
    "\n",
    "#Then read the file into a dataframe called diamonds\n",
    "diamonds = pd.read_csv('https://raw.githubusercontent.com/rachelward617/DAV-5400/9ddbbaf9f2fa2422c98cccf27bda20366967f2d4/diamonds.csv')\n",
    "\n",
    "#use the head function to make sure the data loaded properly\n",
    "diamonds.head()"
   ]
  },
  {
   "cell_type": "markdown",
   "metadata": {},
   "source": [
    "### Question 1: What proportion of diamonds are between .30 and 1.08 carats?\n",
    "\n",
    "To answer this question I will first check to see if there are any null values. Then I will count the number of rows that have a carat value between 0.30 and 1.08, count the total number of diamonds, and calculate the proportion."
   ]
  },
  {
   "cell_type": "code",
   "execution_count": 2,
   "metadata": {},
   "outputs": [
    {
     "data": {
      "text/plain": [
       "carat      0\n",
       "cut        0\n",
       "color      0\n",
       "clarity    0\n",
       "depth      0\n",
       "table      0\n",
       "price      0\n",
       "x          0\n",
       "y          0\n",
       "z          0\n",
       "dtype: int64"
      ]
     },
     "execution_count": 2,
     "metadata": {},
     "output_type": "execute_result"
    }
   ],
   "source": [
    "#use the isnull function and sum to see if there are any null values in the data set.\n",
    "diamonds.isnull().sum()"
   ]
  },
  {
   "cell_type": "code",
   "execution_count": 3,
   "metadata": {},
   "outputs": [
    {
     "name": "stdout",
     "output_type": "stream",
     "text": [
      "The number of diamonds that are between 0.30 and 1.08 carats is 40284\n",
      "The total number of diamonds is: 53940\n",
      "The proportion of diamonds between 0.30 and 1.08 is 0.7468298109010011\n"
     ]
    }
   ],
   "source": [
    "#Since there are no null values, use boolean logic and the count function to see how many rows have a carat value between 0.30 and 1.08\n",
    "numofcriteria= diamonds[(diamonds.carat >= 0.30) & (diamonds.carat <= 1.08)].count()['carat']\n",
    "\n",
    "#Print the number of diamonds that fit the criteria\n",
    "print(\"The number of diamonds that are between 0.30 and 1.08 carats is\", numofcriteria)\n",
    "\n",
    "#count the total number of diamonds \n",
    "totalnum = diamonds.count()['carat']\n",
    "\n",
    "#print the results\n",
    "print(\"The total number of diamonds is:\",totalnum)\n",
    "\n",
    "#calculate the proportion\n",
    "proportion = numofcriteria/totalnum\n",
    "\n",
    "#print the results\n",
    "print(\"The proportion of diamonds between 0.30 and 1.08 is\", proportion)"
   ]
  },
  {
   "cell_type": "markdown",
   "metadata": {},
   "source": [
    "### Question 2: How many of the diamonds have equal x and y dimensions?\n",
    "\n",
    "We know from earlier that there are no NULL values so we can use boolean logic and the count function to count only the rows where the x and y dimensions are equal. \n"
   ]
  },
  {
   "cell_type": "code",
   "execution_count": 4,
   "metadata": {},
   "outputs": [
    {
     "data": {
      "text/plain": [
       "17"
      ]
     },
     "execution_count": 4,
     "metadata": {},
     "output_type": "execute_result"
    }
   ],
   "source": [
    "#Use boolean logic and the count function to count only the rows where the x and y values are the same. \n",
    "#So that only one result is generated I sliced the answer by one column, carat, but I could have chosen any.\n",
    "\n",
    "diamonds[diamonds.x == diamonds.y].count()['carat']"
   ]
  },
  {
   "cell_type": "markdown",
   "metadata": {},
   "source": [
    "### Question 3: How many of the diamonds have a carat less than the mean carat value?\n",
    "\n",
    "We know there are no NULL values present. So, I can slice the data using boolean logic and then use the mean and count functions built into pandas to get the count of rows where the carat is less than the mean.\n"
   ]
  },
  {
   "cell_type": "code",
   "execution_count": 5,
   "metadata": {},
   "outputs": [
    {
     "data": {
      "text/plain": [
       "31127"
      ]
     },
     "execution_count": 5,
     "metadata": {},
     "output_type": "execute_result"
    }
   ],
   "source": [
    "#use boolean logic to first get the rows where the carat is less than the mean, then count those rows.\n",
    "diamonds[diamonds.carat < diamonds['carat'].mean()].count()['carat']"
   ]
  },
  {
   "cell_type": "markdown",
   "metadata": {},
   "source": [
    "### Question 4: How many diamonds have a Premium cut or better? Note that the possible values for the quality of a cut are ranked in ascending order as follows: Fair / Good / Very Good / Premium / Ideal\n",
    "\n",
    "To answer this I will slice the data frame using boolean logic and then count the number of rows that fit these criteria using the count function in pandas."
   ]
  },
  {
   "cell_type": "code",
   "execution_count": 6,
   "metadata": {},
   "outputs": [
    {
     "data": {
      "text/plain": [
       "35342"
      ]
     },
     "execution_count": 6,
     "metadata": {},
     "output_type": "execute_result"
    }
   ],
   "source": [
    "#Use boolean OR logic to count how many diamonds are premium or ideal.\n",
    "diamonds[(diamonds.cut == 'Premium') | (diamonds.cut == 'Ideal')].count()['cut']"
   ]
  },
  {
   "cell_type": "markdown",
   "metadata": {},
   "source": [
    "### Question 5: Which diamond has the highest price per carat? What is its value?\n",
    "\n",
    "To answer this I will first create a new, calculated column in the diamonds data frame called \"ppc\" or price per carat.\n",
    "To do this I will divide price by carat for each row. \n",
    "Next I will get the index number of the diamond with the highest price per carat. \n",
    "Last, I will return the max value of the highest price per carat.\n"
   ]
  },
  {
   "cell_type": "code",
   "execution_count": 7,
   "metadata": {},
   "outputs": [
    {
     "name": "stdout",
     "output_type": "stream",
     "text": [
      "The index of the diamond with the highest price per carat is 27635\n",
      "The highest price per carat is 17828.846153846152\n"
     ]
    }
   ],
   "source": [
    "#create new calculated column for price per carat by dividing price by carat\n",
    "diamonds['ppc'] = diamonds['price']/diamonds['carat']\n",
    "\n",
    "#get the index value for the diamond with the highest price per carat.\n",
    "indexmax = diamonds['ppc'].idxmax()\n",
    "\n",
    "#print the index value\n",
    "print(\"The index of the diamond with the highest price per carat is\", indexmax)\n",
    "\n",
    "#get the highest price per carat\n",
    "maxvalue = diamonds['ppc'].max()\n",
    "\n",
    "#print results\n",
    "print(\"The highest price per carat is\", maxvalue)"
   ]
  },
  {
   "cell_type": "markdown",
   "metadata": {},
   "source": [
    "### Question 6: Make a bar plot of the ‘cut’ data. What does it tell us about the frequencies of the individual cut values within the data set?\n",
    "\n",
    "To answer this I will use the .plot function in pandas with 'bar' as the type of graph. In order to get the frequency of the cut, I will use the .value_counts function paired with the cut to get the appropriate graph."
   ]
  },
  {
   "cell_type": "code",
   "execution_count": 9,
   "metadata": {},
   "outputs": [
    {
     "data": {
      "image/png": "[encoded data removed]",
      "text/plain": [
       "<Figure size 432x288 with 1 Axes>"
      ]
     },
     "metadata": {
      "needs_background": "light"
     },
     "output_type": "display_data"
    }
   ],
   "source": [
    "#create a bar chart fore frequency of cut using .value_counts and plot functions in pandas\n",
    "cutbar = diamonds['cut'].value_counts().plot(kind='bar')\n",
    "\n",
    "#show the results nicely\n",
    "cutbar;"
   ]
  },
  {
   "cell_type": "markdown",
   "metadata": {},
   "source": [
    "**Results:** The above frequency bar chart tells us that the most common cut value in this data set is \"Ideal\" with over 20,000 diamonds having this cut. From above we know that there is a total of 53,940 diamonds in the data set. This means that over 35% of the diamonds in this dataset have the cut value of \"Ideal.\" Furthermore we see that the cut value that is least common is \"Fair.\" There are less than 5,000 diamonds in the data set with a \"fair\" cut value. \n",
    "Also, we know from above that 35,342 diamonds had a cut value of either \"Premium\" or \"Ideal\" which are the two highest ranked cut values. This graph further illustrates that premium and ideal are the two most common cut values and together make up roughly 65% of the entire dataset."
   ]
  },
  {
   "cell_type": "markdown",
   "metadata": {},
   "source": [
    "### Question 7: Make boxplots of the diamond price for each cut and discuss any conclusions you can draw from the appearance of the boxplots\n",
    "\n",
    "To do this I will use the .boxplot built in pandas function by cut using the column price."
   ]
  },
  {
   "cell_type": "code",
   "execution_count": 10,
   "metadata": {},
   "outputs": [
    {
     "data": {
      "image/png": "[encoded data removed]",
      "text/plain": [
       "<Figure size 432x288 with 1 Axes>"
      ]
     },
     "metadata": {
      "needs_background": "light"
     },
     "output_type": "display_data"
    }
   ],
   "source": [
    "#use the .boxplot function to create boxplots for each cut by price.\n",
    "pricecutbox = diamonds.boxplot(by='cut', column = 'price', grid = False)\n",
    "\n",
    "#show results\n",
    "pricecutbox;"
   ]
  },
  {
   "cell_type": "markdown",
   "metadata": {},
   "source": [
    "**Conclusions:** The boxplots all seem to have a similar range (minimum to maximum) and each cut appears to have many outliers. \n",
    "Interestingly, the cut \"ideal\", which we learned above is the highest ranking cut value, has the lowest median, while fair, good, and premium cuts seem to have very similar median values. The premium cut has the largest interquartile range, while the fair cut has the shortest interquartile range. The distribution for each cut appears to be skewed to the right. \n",
    "\n",
    "After looking at the boxplots, and looking at the data, I do not think price vs cut is the most helpful analysis to perform, as the carat amount involved will change the results substantially. For example, a very small \"ideal\" cut diamond likely costs a similar amount to a much larger \"fair\" cut diamond. I would recommend looking at price per carat by cut rather than just price for a more helpful analysis."
   ]
  },
  {
   "cell_type": "markdown",
   "metadata": {},
   "source": [
    "### Question 8: Make histograms of the length, width, depth, and total depth attributes and discuss any conclusions you can draw from the shape of the resulting distributions.\n",
    "\n",
    "For each of these I will first use the .plot function in pandas using the histogram kind in order to get the histogram for each of the above variables."
   ]
  },
  {
   "cell_type": "code",
   "execution_count": 11,
   "metadata": {},
   "outputs": [
    {
     "data": {
      "image/png": "[encoded data removed]",
      "text/plain": [
       "<Figure size 432x288 with 1 Axes>"
      ]
     },
     "metadata": {
      "needs_background": "light"
     },
     "output_type": "display_data"
    }
   ],
   "source": [
    "#use the .plot function with histogram kind to generate the histogram for length, which is column 'x'.\n",
    "lengthhist = diamonds['x'].plot(kind='hist')\n",
    "\n",
    "#show results\n",
    "lengthhist;"
   ]
  },
  {
   "cell_type": "markdown",
   "metadata": {},
   "source": [
    "**Conclusions:** For length, the distribution seems to be centered around 5mm and appears to be slightly skewed to the right. The range of possible values is fairly small, with the maximum appearing to be close to 10mm."
   ]
  },
  {
   "cell_type": "code",
   "execution_count": 12,
   "metadata": {},
   "outputs": [
    {
     "data": {
      "image/png": "[encoded data removed]",
      "text/plain": [
       "<Figure size 432x288 with 1 Axes>"
      ]
     },
     "metadata": {
      "needs_background": "light"
     },
     "output_type": "display_data"
    }
   ],
   "source": [
    "#Use the .plot function with histogram kind to generate the histogram for width which is column 'y'\n",
    "widthhist = diamonds['y'].plot(kind = 'hist')\n",
    "\n",
    "#show results\n",
    "widthhist;"
   ]
  },
  {
   "cell_type": "markdown",
   "metadata": {},
   "source": [
    "**Conclusions:** The histogram of width shows that the distribution is tightly grouped together between 0 and 10mm, with some possible outliers higher than 10mm given the range of the histogram going up to 60mm. "
   ]
  },
  {
   "cell_type": "code",
   "execution_count": 13,
   "metadata": {},
   "outputs": [
    {
     "data": {
      "image/png": "[encoded data removed]",
      "text/plain": [
       "<Figure size 432x288 with 1 Axes>"
      ]
     },
     "metadata": {
      "needs_background": "light"
     },
     "output_type": "display_data"
    }
   ],
   "source": [
    "#use the .plot function to plot depth which is column z. \n",
    "depthhist = diamonds['z'].plot(kind = 'hist')\n",
    "\n",
    "#show results\n",
    "depthhist;"
   ]
  },
  {
   "cell_type": "markdown",
   "metadata": {},
   "source": [
    "**Conclusions:** The distribution of depth is highly concentrated and centered near 5mm. There appear to be a few outliers due to the histogram going up to 30. "
   ]
  },
  {
   "cell_type": "code",
   "execution_count": 14,
   "metadata": {},
   "outputs": [
    {
     "data": {
      "image/png": "[encoded data removed]",
      "text/plain": [
       "<Figure size 432x288 with 1 Axes>"
      ]
     },
     "metadata": {
      "needs_background": "light"
     },
     "output_type": "display_data"
    }
   ],
   "source": [
    "#use .plot to plot the histogram for total depth.\n",
    "totaldepthhist = diamonds['depth'].plot(kind = 'hist')\n",
    "\n",
    "#show results\n",
    "totaldepthhist;"
   ]
  },
  {
   "cell_type": "markdown",
   "metadata": {},
   "source": [
    "**Conclusions:** The distribution of depth percentage seems to be centered between 60 and 65 percent. The range goes from below 45% to about 80%."
   ]
  },
  {
   "cell_type": "markdown",
   "metadata": {},
   "source": [
    "### Question 9: Make a scatter plot of price vs. carat. What can we say about the relationship between those two attributes?\n",
    "\n",
    "To accomplish this I will use the .scatter function from pandas to create the scatter plot between carat and price."
   ]
  },
  {
   "cell_type": "code",
   "execution_count": 15,
   "metadata": {},
   "outputs": [
    {
     "data": {
      "image/png": "[encoded data removed]",
      "text/plain": [
       "<Figure size 432x288 with 1 Axes>"
      ]
     },
     "metadata": {
      "needs_background": "light"
     },
     "output_type": "display_data"
    }
   ],
   "source": [
    "#use .scatter to create a scatter plot with carat on the x axis and price on the y axis.\n",
    "scatter = diamonds.plot.scatter(x='carat',y='price')\n",
    "\n",
    "#show results\n",
    "scatter;"
   ]
  },
  {
   "cell_type": "markdown",
   "metadata": {},
   "source": [
    "**Conclusions:** There is a positive relationship between carat and price. There appear to be a few outliers towards 5 carats."
   ]
  },
  {
   "cell_type": "code",
   "execution_count": null,
   "metadata": {},
   "outputs": [],
   "source": []
  }
 ],
 "metadata": {
  "kernelspec": {
   "display_name": "Python 3",
   "language": "python",
   "name": "python3"
  },
  "language_info": {
   "codemirror_mode": {
    "name": "ipython",
    "version": 3
   },
   "file_extension": ".py",
   "mimetype": "text/x-python",
   "name": "python",
   "nbconvert_exporter": "python",
   "pygments_lexer": "ipython3",
   "version": "3.7.3"
  }
 },
 "nbformat": 4,
 "nbformat_minor": 2
}
