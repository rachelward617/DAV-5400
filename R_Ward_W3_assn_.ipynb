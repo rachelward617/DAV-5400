{
 "cells": [
  {
   "cell_type": "markdown",
   "metadata": {},
   "source": [
    "# Rachel Ward\n",
    "## DAV 5400 - Assignment 3"
   ]
  },
  {
   "cell_type": "markdown",
   "metadata": {},
   "source": [
    "\"Start by reading the cars-sample35.txt file and re-creating the seven distinct lists of automobile attributes (i.e., Price,\n",
    "Maintenance Cost, Number of Doors, Number of Passengers, Luggage Capacity, Safety Rating, Classification of Vehicle)\n",
    "we worked with last week. You should be able to do this via a simple cut + paste of your code from last week.\"\n",
    "\n",
    "Immediately below is the code used last week for this portion of the assignment. "
   ]
  },
  {
   "cell_type": "code",
   "execution_count": 53,
   "metadata": {},
   "outputs": [
    {
     "name": "stdout",
     "output_type": "stream",
     "text": [
      "price =  ['high', 'high', 'high', 'high', 'vhigh', 'low', 'med', 'low', 'vhigh', 'vhigh', 'low', 'vhigh', 'high', 'low', 'high', 'vhigh', 'med', 'high', 'low', 'low', 'med', 'low', 'vhigh', 'med', 'low', 'vhigh', 'med', 'high', 'low', 'med', 'high', 'high', 'low', 'vhigh', 'high']\n",
      "maintenance_cost =  ['high', 'high', 'high', 'low', 'low', 'high', 'med', 'low', 'low', 'high', 'low', 'low', 'low', 'vhigh', 'low', 'high', 'med', 'low', 'low', 'low', 'high', 'low', 'high', 'vhigh', 'vhigh', 'low', 'vhigh', 'high', 'high', 'high', 'low', 'vhigh', 'low', 'vhigh', 'low']\n",
      "number_of_doors =  ['2', '4', '4', '2', '3', '2', '4', '3', '2', '4', '2', '4', '2', '3', '5more', '2', '2', '5more', '3', '2', '4', '2', '5more', '2', '4', '3', '3', '3', '5more', '5more', '3', '5more', '5more', '4', '3']\n",
      "number_of_passengers =  ['4', 'more', 'more', 'more', '2', '2', 'more', '2', '2', '4', '2', 'more', '4', 'more', '2', 'more', '2', '4', 'more', '2', '2', '2', '4', '2', '4', 'more', '4', '4', '2', '2', '4', '4', '2', '2', '2']\n",
      "luggage_capacity =  ['med', 'small', 'big', 'big', 'med', 'small', 'med', 'big', 'small', 'med', 'med', 'small', 'big', 'big', 'big', 'med', 'small', 'med', 'med', 'big', 'big', 'small', 'med', 'big', 'big', 'big', 'small', 'med', 'big', 'med', 'med', 'med', 'med', 'big', 'big']\n",
      "safety_rating =  ['low', 'high', 'low', 'high', 'med', 'low', 'high', 'med', 'low', 'low', 'med', 'high', 'med', 'low', 'med', 'high', 'low', 'high', 'high', 'med', 'high', 'high', 'med', 'low', 'low', 'low', 'low', 'med', 'low', 'med', 'high', 'med', 'low', 'high', 'high']\n",
      "classification_of_vehicle =  ['unacc', 'acc', 'unacc', 'acc', 'unacc', 'unacc', 'vgood', 'unacc', 'unacc', 'unacc', 'unacc', 'acc', 'acc', 'unacc', 'unacc', 'unacc', 'unacc', 'acc', 'vgood', 'unacc', 'unacc', 'unacc', 'unacc', 'unacc', 'unacc', 'unacc', 'unacc', 'unacc', 'unacc', 'unacc', 'acc', 'unacc', 'unacc', 'unacc', 'unacc']\n"
     ]
    }
   ],
   "source": [
    "#imports csv and reads the file\n",
    "\n",
    "import csv\n",
    "\n",
    "with open('C:/Users/Sheri/Downloads/cars-sample35.txt') as csvfile:\n",
    " readCSV = csv.reader(csvfile)\n",
    "\n",
    "\n",
    "#Define all seven lists\n",
    "price = []\n",
    "maintenance_cost = []\n",
    "number_of_doors = []\n",
    "number_of_passengers = []\n",
    "luggage_capacity = []\n",
    "safety_rating = []\n",
    "classification_of_vehicle = []\n",
    "\n",
    "#Code to take the appropriate data from each row and add the appropriate data to the correct list as defined above.\n",
    "with open('C:/Users/Sheri/Downloads/cars-sample35.txt') as csvfile:\n",
    " readCSV = csv.reader(csvfile)\n",
    " for row in readCSV:\n",
    "        price.append(row[0]),\n",
    "        maintenance_cost.append(row[1]),\n",
    "        number_of_doors.append(row[2]),\n",
    "        number_of_passengers.append(row[3]),\n",
    "        luggage_capacity.append(row[4]),\n",
    "        safety_rating.append(row[5]),\n",
    "        classification_of_vehicle.append(row[6]);\n",
    "        \n",
    "#Return lists to check for accuracy\n",
    "print(\"price = \", price)\n",
    "print (\"maintenance_cost = \", maintenance_cost)\n",
    "print(\"number_of_doors = \", number_of_doors)\n",
    "print(\"number_of_passengers = \", number_of_passengers)\n",
    "print(\"luggage_capacity = \", luggage_capacity)\n",
    "print(\"safety_rating = \", safety_rating)\n",
    "print(\"classification_of_vehicle = \", classification_of_vehicle) "
   ]
  },
  {
   "cell_type": "markdown",
   "metadata": {},
   "source": [
    "## List Comprehensions\n",
    "### First task\n",
    "\"Your first task is to find the list index values of each automobile having a price rating of \"med\". However, you are\n",
    "required to do this using a list comprehension instead of a basic for or while loop. The list comprehension should\n",
    "create a new list containing your result. Be sure to print your results to the screen\"\n",
    "\n",
    "Last week I used an enumerate function within a list comprehension for this portion of the assignment, so I will re-use that code as it yielded the correct results. "
   ]
  },
  {
   "cell_type": "code",
   "execution_count": 54,
   "metadata": {},
   "outputs": [
    {
     "name": "stdout",
     "output_type": "stream",
     "text": [
      "The index numbers for all 'med' price values are [6, 16, 20, 23, 26, 29]\n"
     ]
    }
   ],
   "source": [
    "#uses list comprehension to pull list of index values\n",
    "price_of_med_indexes = [i for i, n in enumerate(price) if n == 'med']\n",
    "\n",
    "#prints results generated above\n",
    "print(\"The index numbers for all 'med' price values are\", price_of_med_indexes)"
   ]
  },
  {
   "cell_type": "markdown",
   "metadata": {},
   "source": [
    "### Second Task\n",
    "\n",
    "\"Your second task is to find the \"number of passengers\" value for each auto having a \"price\" value of \"med\" using a list\n",
    "comprehension instead of a basic for or while loop. The list comprehension should create a new list containing your\n",
    "findings. Be sure to print your results to the screen.\"\n",
    "\n",
    "This is also how I solved it last week, so I will re-use that code here as well. "
   ]
  },
  {
   "cell_type": "code",
   "execution_count": 55,
   "metadata": {},
   "outputs": [
    {
     "name": "stdout",
     "output_type": "stream",
     "text": [
      "The related number of passengers values for each auto having a price value of 'med' are  ['more', '2', '2', '2', '4', '2']\n"
     ]
    }
   ],
   "source": [
    "#creates a list by pulling the indexed value out of the number_of_passengers list for every index listed in the price_of_med_indexes list created in the second task\n",
    "related_number_of_passengers = [number_of_passengers[i] for i in price_of_med_indexes]\n",
    "\n",
    "#prints the result generated above\n",
    "print(\"The related number of passengers values for each auto having a price value of 'med' are \", related_number_of_passengers)"
   ]
  },
  {
   "cell_type": "markdown",
   "metadata": {},
   "source": [
    "### Third Task\n",
    "\n",
    "\"Your third task is to find the index value for each automobile having a price value of \"high\" and a maintenance value that\n",
    "is not \"low\" using a list comprehension. The list comprehension should create a new list containing your findings. Be\n",
    "sure to print your results to the screen.\"\n",
    "\n",
    "Here I will use a nested conditional statement within the list comprehension to give me only the index values where the price value is high but the maintenance value is not low. "
   ]
  },
  {
   "cell_type": "code",
   "execution_count": 56,
   "metadata": {},
   "outputs": [
    {
     "name": "stdout",
     "output_type": "stream",
     "text": [
      "The index values for automobiles with a price value of 'high' and a maintenace value that is not 'low' is:  [0, 1, 2, 27, 31]\n"
     ]
    }
   ],
   "source": [
    "#define new list and then use list comprehension with a nested conditional to get the list of index values\n",
    "new_index_values = [i for i, n in enumerate(price) if n =='high' if maintenance_cost[i] != 'low']\n",
    "\n",
    "#print the result generated above\n",
    "print (\"The index values for automobiles with a price value of 'high' and a maintenace value that is not 'low' is: \", new_index_values)"
   ]
  },
  {
   "cell_type": "markdown",
   "metadata": {},
   "source": [
    "## Nested List Comprehensions\n",
    "### Fourth Task\n",
    "\n",
    "\"Consider the following list of lists:\n",
    "nlist = [ [1, 2, 3], [‘A’, ‘B’, ‘C’], [4, 5], [‘D’, ‘E’] ]\n",
    "If we wanted to extract each individual element of the component lists contained within nlist and add them to a new\n",
    "list, we could use a nested for loop similar to this:\n",
    "flist = []\n",
    "for x in nlist:\n",
    " for y in x:\n",
    " flist.append(y)\n",
    "print(flist)\n",
    "\n",
    "For your fourth task, implement this same logic using a list comprehension. Apply your list comprehension to the nlist\n",
    "list of lists shown above. Be sure to print your newly created list to the screen.\"\n",
    "\n",
    "For this task I will first create the list mentioned above, then create a new list using list comprehension that cycles through the sublists selecting each value. Then I will print that newly created list. \n"
   ]
  },
  {
   "cell_type": "code",
   "execution_count": 57,
   "metadata": {},
   "outputs": [
    {
     "name": "stdout",
     "output_type": "stream",
     "text": [
      "Here is the list of every element:  [1, 2, 3, 'A', 'B', 'C', 4, 5, 'D', 'E']\n"
     ]
    }
   ],
   "source": [
    "#create nlist so that we can then extract each individual element from nlist\n",
    "nlist = [[1,2,3],['A','B','C'],[4,5],['D','E']]\n",
    "\n",
    "#create a new list using list comprehension to extract each element; x represents an element and y represents a sublist.\n",
    "newlist = [x for y in nlist for x in y]\n",
    "\n",
    "#prints the new list we created\n",
    "print(\"Here is the list of every element: \",newlist)"
   ]
  },
  {
   "cell_type": "markdown",
   "metadata": {},
   "source": [
    "## Write a Function That Converts a List to a Dict Object\n",
    "### Fifth Task\n",
    "\n",
    "\"Your fifth task is to create a user defined function that accepts as input one of the seven automobile attribute lists as\n",
    "well as an integer value and returns a Python dict object. Remember: a Python dict object is comprised of ‘key/value’\n",
    "pairs. The integer value accepted as a parameter by your function will represent the exact number of items you are to\n",
    "use from the list for purposes of creating the new dict object. So for example, if your function was defined as:\n",
    "def makedict(mylist, x):\n",
    "newdict = {}\n",
    "#your code goes here\n",
    "return(newdict)\n",
    "\n",
    "you would take the first x items from mylist to create the new dict object. The key values you assign to the elements of\n",
    "the dict object should all be comprised of a combination of the letter ‘A’ and the alphanumeric representation of the\n",
    "index value corresponding to the location of the item in the mylist object. So if you had 3 dict elements in total, the key\n",
    "values for those elements would be (‘A0’, ‘A1’, ‘A2’). If we apply this concept to the first 5 elements of our “Luggage” list\n",
    "we’d have a dict object that looks like this:\n",
    "First five elements of luggage list:\n",
    "['med', 'small', 'big', 'big', 'med']\n",
    "New dict Object:\n",
    "{‘A0’ : ‘med’, ‘A1’: ‘small’, ‘A2’: ‘big’, ‘A3’:‘big’, ‘A4’:’med’}\n",
    "Be sure to check that the integer value passed into your function does not exceed the length of the list parameter! \"\n",
    "\n",
    "For this task I will define a function called \"createdictionary\" that will take two inputs, a list and an integer. It will check the integer against the length of the list, and return a helpful statement if the integer is greater than the list. If the integer chosen is appropriate, it will use a for loop to concatenate the letter A with the number chosen and store that as a keyvalue. Then it will select an element based on the index value. Lastly it will update the dictionary with these new key and element pairs and print the results. "
   ]
  },
  {
   "cell_type": "code",
   "execution_count": 58,
   "metadata": {},
   "outputs": [
    {
     "data": {
      "text/plain": [
       "{'A0': 'med', 'A1': 'small', 'A2': 'big', 'A3': 'big', 'A4': 'med'}"
      ]
     },
     "execution_count": 58,
     "metadata": {},
     "output_type": "execute_result"
    }
   ],
   "source": [
    "\n",
    "#define function - see doc string for further detail\n",
    "def createdictionary(listname, x): \n",
    "    '''this function will take two inputs: a list and an integer\n",
    "    -it will then check to make sure the integer is less than or equal to the length of the list\n",
    "    -then it will create key values for the dictionary based on the letter A and the number in the for loop\n",
    "    -it will then create an element based on the indexed value of the list\n",
    "    -lastly it will add each key and element to a dictionary so that they can referenced later on and print the results'''\n",
    "    if x > len(listname):\n",
    "        print(\"Please select a number less than or equal to\", len(listname))\n",
    "        return\n",
    "    dictname = {}\n",
    "    for i in range(x):\n",
    "        keyvalue = 'A' + str(i)\n",
    "        element = listname[i]\n",
    "        dictname.update({keyvalue: element})\n",
    "    return dictname\n",
    " \n",
    "#test that function works as designed\n",
    "createdictionary(luggage_capacity,5)\n",
    "        "
   ]
  },
  {
   "cell_type": "markdown",
   "metadata": {},
   "source": [
    "### Using Your New Function\n",
    "\"Now that you have your reusable user-defined function, use it to create two new dict objects containing the first seven\n",
    "elements of the ‘Price’ and ‘Luggage’ lists, respectively. Then, use these dict objects to tell us the price and luggage\n",
    "capacity of the auto identified by the ‘A4’ key value.\"\n",
    "\n",
    "First I will call the function on the price list. I will assign the output of the function to price_dict so that I can then use the key value of 'A4' to get the element in the price list that is mapped to 'A4', which I will assign to the variable x.\n",
    "\n",
    "Then I will call the function on the luggage list and assign the output of the function to luggage_dict so that I can then use the key value of 'A4' to get the element in the luggage list that is mapped to 'A4', which I will assign to the variable y.\n",
    "\n",
    "Then I will print the combined results. "
   ]
  },
  {
   "cell_type": "code",
   "execution_count": 59,
   "metadata": {},
   "outputs": [
    {
     "name": "stdout",
     "output_type": "stream",
     "text": [
      "price_dict =  {'A0': 'high', 'A1': 'high', 'A2': 'high', 'A3': 'high', 'A4': 'vhigh', 'A5': 'low', 'A6': 'med'}\n",
      "luggage_dict =  {'A0': 'med', 'A1': 'small', 'A2': 'big', 'A3': 'big', 'A4': 'med', 'A5': 'small', 'A6': 'med'}\n",
      "The price of the auto in A4 is  vhigh and the luggage capacity of the auto in A4 is  med .\n"
     ]
    }
   ],
   "source": [
    "#call function and pass the price list to it with the integer of 7 to return the first seven elements\n",
    "price_dict = createdictionary(price, 7)\n",
    "\n",
    "#print this new dictionary\n",
    "print(\"price_dict = \",price_dict)\n",
    "\n",
    "#get the element that is mapped to 'A4' in the price list.\n",
    "x = price_dict['A4']\n",
    "\n",
    "#call function and pass the luggage_capacity list to it with the integer of 7 to return the first seven elements.\n",
    "luggage_dict = createdictionary(luggage_capacity,7)\n",
    "\n",
    "#print this new dictionary\n",
    "print(\"luggage_dict = \", luggage_dict)\n",
    "\n",
    "#get the element that is mapped to 'A4' in the luggage_capacity list\n",
    "y = luggage_dict['A4']\n",
    "\n",
    "#print the combined results for the elements mapped to 'A4' in both the price and luggage_capacity lists\n",
    "print(\"The price of the auto in A4 is \", x,\"and the luggage capacity of the auto in A4 is \", y, \".\")"
   ]
  },
  {
   "cell_type": "code",
   "execution_count": null,
   "metadata": {},
   "outputs": [],
   "source": []
  }
 ],
 "metadata": {
  "kernelspec": {
   "display_name": "Python 3",
   "language": "python",
   "name": "python3"
  },
  "language_info": {
   "codemirror_mode": {
    "name": "ipython",
    "version": 3
   },
   "file_extension": ".py",
   "mimetype": "text/x-python",
   "name": "python",
   "nbconvert_exporter": "python",
   "pygments_lexer": "ipython3",
   "version": "3.7.3"
  }
 },
 "nbformat": 4,
 "nbformat_minor": 2
}
