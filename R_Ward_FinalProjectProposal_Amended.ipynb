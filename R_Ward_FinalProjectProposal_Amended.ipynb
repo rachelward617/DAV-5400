{
 "cells": [
  {
   "cell_type": "markdown",
   "metadata": {},
   "source": [
    "# Rachel Ward\n",
    "## DAV 5400 - Final Project Proposal - Amended 12/18/19\n",
    "## Introduction\n",
    "The primary goal of this project is to discover the effect (if any) on election results of donations made to independent-expenditure only committees, more popularly known as Super PACs, in Ohio. Ohio is a \"swing state\" in presidential elections. It is important to understand the impact these committees had in the 2016 presidential elections prior to the next presidential election in 2020.\n",
    "\n",
    "Super PACs are political action committees that cannot donate to political campaigns or political parties but are allowed to spend unlimited amounts of money on independent advertising, communications, and marketing efforts on behalf of any candidate or party of their choosing. Since the money they raise does not go directly to a candidate, there is no legal limit to the amount of money they can receive in donations from individuals, corporations, unions, and groups. More information on Super PACs is available here. Since Super PACs did not exist until 2010, their funds are often referred to as \"dark money\" because they can collect and spend limitlessly with little oversight. The effect of these committees in swing states could be an extremely important factor when trying to plan the next presidential campaign."
   ]
  },
  {
   "cell_type": "markdown",
   "metadata": {},
   "source": [
    "## Research Questions\n",
    "1. Is there a relationship between which party won each county and the party affiliated with Super PACs who raised the most money from donations from individuals in that county?\n",
    "2. Is there a correlation between average donation amount per voter per county and which candidate won the county?\n",
    "\n",
    "Campaign analysts and analysts who work for Super PACs try to understand where their efforts could have the most impact. Information on how Super PACs may have effected the 2016 presidential election could be helpful for both of these audiences. Super PAC analysts may see areas where their efforts clearly had an impact and may decide to reuse the strategy from 2016 which proved effective. Conversely, campaign analysts might spot areas where they did not perform well in 2016 but where there is a small enough margin that they could win these areas in 2020."
   ]
  },
  {
   "cell_type": "markdown",
   "metadata": {},
   "source": [
    "## Data to be Used\n",
    "The data for this project will come from the following sources:\n",
    "\n",
    "1. [Fec.gov](https://www.fec.gov/data/receipts/individual-contributions/?two_year_transaction_period=2016&contributor_state=OH) which is publicly available information on every individual donation made to any election. The FEC website has the ability to filter by state, by donation recipient type (PAC, Super PAC, candidate, etc.), for specific elections and for election cycles. I will download the information for Ohio donors to Super PACs for the 2015-2016 presidential election into a CSV file.\n",
    "2. [OpenSecrets.org](https://www.opensecrets.org/pacs/superpacs.php?cycle=2016) which keeps track of the views of the major Super PACs and lists who each Super PAC supports or opposes. I will need to use web scraping to obtain this list within python.\n",
    "3. [Ohio Secretary of State](https://www.sos.state.oh.us/elections/election-results-and-data/2016-official-elections-results/#gref) which contains information on how many voters voted for each candidate in the 2016 election, per county. I will download this information in Excel.\n",
    "4. [United States Department of Agriculture](https://www.nrcs.usda.gov/wps/portal/nrcs/detail/national/home/?cid=nrcs143_013697) contains FIPS codes for each county in the United States. I will web-scrape these in order to get the FIPS codes for geo-mapping.\n",
    "5. [GeoJSON file](https://github.com/plotly/datasets/blob/master/geojson-counties-fips.json) from another user's public GitHub account which contains the coordinates information for each county. This dataset was referenced on the [plotly website](https://plot.ly/python/mapbox-county-choropleth/)."
   ]
  },
  {
   "cell_type": "markdown",
   "metadata": {},
   "source": [
    "## Approach\n",
    "After gathering the data from the FEC and the Ohio Secretary of State, I will upload the csv files to my GitHub repository, and then read the information into Python using the Pandas library. Using the address data present in the FEC dataset, I will use the uszipcode library to get the county for each donation. For the OpenSecrets data, I will use web scraping to gather the data I need and then also bring the data into a Python Pandas DataFrame.\n",
    "\n",
    "There is a lot of data present, particularly in the first data set, so I will do some preliminary data transformation to get rid of columns of data that I do not need. Then I will create a DataFrame with the donation data aggregated on a county level. I will then merge this DataFrame with both of the other dataframes - the Ohio Secretary of State dataframe based on county, and the opensecrets dataframe based on the name of the Super PAC.\n",
    "\n",
    "Once I have created this merged dataframe, I will do exploratory data analysis to find correlation. I also plan to use geoplots to help answer the questions regarding the difference in donations and which candidate won the election for each county. To graph these geoplots I will get the unique county coordinates code from the Department of Agriculture's website through webscraping. Once I have these unique codes ('FIPS'), I will get the coordinates from a JSON file which is publicly available on GitHub, the link to which is available in the data section above.  "
   ]
  },
  {
   "cell_type": "markdown",
   "metadata": {},
   "source": []
  }
 ],
 "metadata": {
  "kernelspec": {
   "display_name": "Python 3",
   "language": "python",
   "name": "python3"
  },
  "language_info": {
   "codemirror_mode": {
    "name": "ipython",
    "version": 3
   },
   "file_extension": ".py",
   "mimetype": "text/x-python",
   "name": "python",
   "nbconvert_exporter": "python",
   "pygments_lexer": "ipython3",
   "version": "3.7.4"
  }
 },
 "nbformat": 4,
 "nbformat_minor": 2
}
