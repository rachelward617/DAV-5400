{
 "cells": [
  {
   "cell_type": "markdown",
   "metadata": {},
   "source": [
    "# Rachel Ward\n",
    "\n",
    "## DAV 5400 Assignment 4\n"
   ]
  },
  {
   "cell_type": "markdown",
   "metadata": {},
   "source": [
    "### Task 1\n",
    "\n",
    "\"1. Write a Python/NumPy code block that finds the distinct/unique common items between these two arrays:\n",
    "a = np.array([1, 2, 3, 2, 3, 4, 3, 4, 5, 6])\n",
    "b = np.array([7, 2, 10, 2, 7, 4, 9, 4, 9, 8])\n",
    "Your output should contain only the distinct overlapping values. For example, if a 2 is found in both array a and array b,\n",
    "your output should contain only one 2 even if array a contains more than one 2 within it.\"\n",
    "\n",
    "For this task, I searched for built in numpy functions that provide the intersection and came across https://docs.scipy.org/doc/numpy-1.14.1/reference/generated/numpy.intersect1d.html I then passed the two arrays we had to get the intersection."
   ]
  },
  {
   "cell_type": "code",
   "execution_count": 2,
   "metadata": {},
   "outputs": [
    {
     "data": {
      "text/plain": [
       "array([2, 4])"
      ]
     },
     "execution_count": 2,
     "metadata": {},
     "output_type": "execute_result"
    }
   ],
   "source": [
    "#first import numpy\n",
    "import numpy as np\n",
    "\n",
    "#next list arrays that we have already defined above\n",
    "a = np.array([1, 2, 3, 2, 3, 4, 3, 4, 5, 6])\n",
    "b = np.array([7, 2, 10, 2, 7, 4, 9, 4, 9, 8]) \n",
    "\n",
    "#use numpy intersect1d function and pass our two arrays to get the intersection of the arrays.\n",
    "np.intersect1d(a,b)"
   ]
  },
  {
   "cell_type": "markdown",
   "metadata": {},
   "source": [
    "### Task 2\n",
    "\n",
    "\"2. Create the following 5x3 array using knowledge you have of Python’s / NumPy’s sequencing functionality so that you\n",
    "do not need to explicitly key in every integer value.\n",
    "> 1 6 11<br>\n",
    "> 2 7 12<br>\n",
    "> 3 8 13<br>\n",
    "> 4 9 14<br>\n",
    "> 5 10 15<br> \n",
    "\n",
    "For this task I will create an array with numbers 1 - 15 using numpy's arange function. I will then use the .reshape() function to make it a 3 x 5 array. Lastly I will use the transpose function to make it into a 5 x 3 array. This will give us the numbers in the correct space."
   ]
  },
  {
   "cell_type": "code",
   "execution_count": 3,
   "metadata": {},
   "outputs": [
    {
     "data": {
      "text/plain": [
       "array([[ 1,  6, 11],\n",
       "       [ 2,  7, 12],\n",
       "       [ 3,  8, 13],\n",
       "       [ 4,  9, 14],\n",
       "       [ 5, 10, 15]])"
      ]
     },
     "execution_count": 3,
     "metadata": {},
     "output_type": "execute_result"
    }
   ],
   "source": [
    "#use arange, reshape, and transpose functions to generate the array in the format desired.\n",
    "np.arange(1,16).reshape(3,5).transpose()"
   ]
  },
  {
   "cell_type": "markdown",
   "metadata": {},
   "source": [
    "### Task 3\n",
    "\"3. You are given the following two arrays:\n",
    "a = np.array([12, 5, 7, 15, 3, 1, 8])\n",
    "b = np.array([14, 6, 3, 11, 19, 12, 5])\n",
    "Write a Python/Numpy code block that removes from array a any items that are also present in array b.\"\n",
    "\n",
    "To do this I will use numpy's built in setdiff1d function which returns values that are present in array a but not in array b.\n"
   ]
  },
  {
   "cell_type": "code",
   "execution_count": 4,
   "metadata": {},
   "outputs": [
    {
     "data": {
      "text/plain": [
       "array([ 1,  7,  8, 15])"
      ]
     },
     "execution_count": 4,
     "metadata": {},
     "output_type": "execute_result"
    }
   ],
   "source": [
    "#first create the given arrays\n",
    "a = np.array([12,5,7,15,3,1,8])\n",
    "b = np.array([14,6,3,11,19,12,5])\n",
    "\n",
    "#use numpy setdiff1d function to find items that are unique to array a\n",
    "np.setdiff1d(a,b)\n"
   ]
  },
  {
   "cell_type": "markdown",
   "metadata": {},
   "source": [
    "## Task 4\n",
    "\n",
    "\"4. Suppose you have ridden a bicycle from New York City to Key West, Florida. Your bicycle odometer shows the total\n",
    "miles you have travelled thus far, which you make a note of each day with paper and pencil. Your first two entries might\n",
    "be ‘55’ and ‘120’, indicating that you rode your bike 55 miles on day 1 and 65 miles on day 2. Your task is to create a\n",
    "NumPy array wherein you can record the cumulative miles you recorded each day during your trip. Then use your\n",
    "Python skills to show the total miles that you rode each day. Assume the trip took a total of 35 days and included at\n",
    "least 4 non-consecutive days where no cycling was possible due to either weather conditions or personal\n",
    "fatigue/soreness. For the remaining 31 days, you would have covered the entire distance between NYC and Key West.\n",
    "Complete your work within your Jupyter Notebook for this assignment and be sure to include a writeup explaining your\n",
    "approach to this problem, including the ways in which you decided to make use of NumPy.\"\n",
    "\n",
    "For this task, I first used google maps to map the distance between New York, NY and Key West, FL, selecting the bicycle option. Google maps indicated that the route involved a ferry, and that the total distance by bicycle was 1,547 miles. I then created x as a variable for that amount, and set the distances traveled so far to 0. I created an empty list to which I will add the cumulative distance traveled every day (the odometer readings). I will then convert this list to an array using numpy. I will use the numpy diff function to parse out the distance traveled each day, but this will only give me the difference for days 2 - 35, not the first day. So finally I will use the numpy.insert function to insert the number of miles traveled on the first day.\n"
   ]
  },
  {
   "cell_type": "code",
   "execution_count": 29,
   "metadata": {},
   "outputs": [
    {
     "name": "stdout",
     "output_type": "stream",
     "text": [
      "[17, 68, 119, 170, 221, 272, 272, 323, 374, 425, 476, 476, 527, 578, 629, 680, 680, 731, 782, 833, 884, 935, 986, 1037, 1088, 1139, 1190, 1241, 1292, 1343, 1394, 1394, 1445, 1496, 1547]\n"
     ]
    },
    {
     "data": {
      "text/plain": [
       "array([17, 51, 51, 51, 51, 51,  0, 51, 51, 51, 51,  0, 51, 51, 51, 51,  0,\n",
       "       51, 51, 51, 51, 51, 51, 51, 51, 51, 51, 51, 51, 51, 51,  0, 51, 51,\n",
       "       51])"
      ]
     },
     "execution_count": 29,
     "metadata": {},
     "output_type": "execute_result"
    }
   ],
   "source": [
    "#set the number of miles to travel, 1,547 as x\n",
    "x = 1547\n",
    "\n",
    "#set the distance you have traveled so far as 0\n",
    "distancesofar = 0\n",
    "\n",
    "#create an empty list that we will use to store the odometer readings\n",
    "distance_traveled= []\n",
    "\n",
    "#use a for loop to add the odometer readings to the empty list created above.\n",
    "for i in range(34):\n",
    "    if i == 0: #travel 17 miles the first day so that the remainder of the days will be a nice, even distance.\n",
    "        Distancetraveledtoday = 17\n",
    "        distancesofar = Distancetraveledtoday\n",
    "        distance_traveled.append(distancesofar)\n",
    "    if i in (5,10,15,30): #set four days for which there will be 0 distance traveled\n",
    "        Distancetraveledtoday = 0\n",
    "        distancesofar = distancesofar + Distancetraveledtoday\n",
    "        distance_traveled.append(distancesofar)\n",
    "    else:\n",
    "        Distancetraveledtoday = int((x-17) /(30)) #since x was 1547 and we already traveled 17 miles, divide the remaining distance by 30 to get the miles per day\n",
    "        distancesofar = distancesofar + Distancetraveledtoday\n",
    "        distance_traveled.append(distancesofar);\n",
    "\n",
    "#check to make sure our last day is 1547.\n",
    "print(distance_traveled)\n",
    "\n",
    "#use numpy to convert our list into an array\n",
    "distance_traveled_array = np.array(distance_traveled)  \n",
    "#return the array to make sure it is correct\n",
    "distance_traveled_array\n",
    "\n",
    "#use numpy diff function to find the difference between successive elements (i.e. element 1 - element 0) in order to get the distance traveled each day\n",
    "distance_each_day = np.diff(distance_traveled_array)\n",
    "distance_each_day\n",
    "\n",
    "#use the numpy insert function to insert 17 miles for the element 0 in the new array because we know we traveled 17 miles the first day\n",
    "distance_each_day = np.insert(distance_each_day, 0,17)\n",
    "#return resulting array of distance traveled each day\n",
    "distance_each_day"
   ]
  },
  {
   "cell_type": "markdown",
   "metadata": {},
   "source": [
    "## Task 5\n",
    "\n",
    "\"5. Open the Jupyter Notebook provided to you with this assignment. The first code block within that file will load a\n",
    "small data set from a GitHub repository into a NumPy 2D array. The original source of that data contains an overview of\n",
    "its contents:\n",
    "https://data.cityofnewyork.us/Environment/Water-Consumption-In-The-New-York-City/ia2d-e54m\n",
    "Scroll down to the bottom of that page to access an interactive data viewer that includes the column headings for the\n",
    "data.\n",
    "Using the NumPy array that has been loaded for you in the Jupyter Notebook, answer the following questions using\n",
    "NumPy’s slicing, methods, and functions:\n",
    " What is the maximum yearly NYC consumption of water in millions of gallons per day?\n",
    " How many calendar years are represented within this data set? NumPy's shape command is one way to find\n",
    "out.\n",
    " What is the mean and the standard deviation of the per capita daily water consumption?\n",
    " What is the increase or decrease in population from year to year? Use NumPy's `diff` function to create an array\n",
    "of differences and save that to a variable called \"pop_diff\", then print that variable to the screen.\n",
    "Please note that it may take a bit of time for Jupyter to load the data set from the GitHub repository. You will know that\n",
    "process has finished once the results of the ‘type(nyc_water)’ command get displayed within your copy of the\n",
    "notebook.\"\n",
    "\n",
    "Immediately below I executed the code from the jupyter notebook. I split this task into subtasks based on the questions and offer further details as to how I solved those questions in markdown cells below."
   ]
  },
  {
   "cell_type": "code",
   "execution_count": 36,
   "metadata": {},
   "outputs": [
    {
     "name": "stderr",
     "output_type": "stream",
     "text": [
      "C:\\Users\\sheri\\Anaconda3\\lib\\site-packages\\ipykernel_launcher.py:8: FutureWarning: Method .as_matrix will be removed in a future version. Use .values instead.\n",
      "  \n"
     ]
    },
    {
     "data": {
      "text/plain": [
       "numpy.ndarray"
      ]
     },
     "execution_count": 36,
     "metadata": {},
     "output_type": "execute_result"
    }
   ],
   "source": [
    "import pandas\n",
    "import numpy as np\n",
    "\n",
    "# supress scientific notation\n",
    "np.set_printoptions(suppress = True)\n",
    "\n",
    "# read the data file from GitHub and convert to a NumPy ndarray object\n",
    "nyc_water = pandas.read_csv('https://raw.githubusercontent.com/jtopor/DAV-5400/master/Week4/Water_Consumption_In_The_New_York_City.csv').as_matrix()\n",
    "\n",
    "# verify you have an ndarray object\n",
    "type(nyc_water)"
   ]
  },
  {
   "cell_type": "markdown",
   "metadata": {},
   "source": [
    "### Task 5 Question 1:\n",
    "\"What is the maximum yearly NYC consumption of water in millions of gallons per day?\"\n",
    "\n",
    "For this task I will use Numpy's max function and then use indexing to get the max for only the 3rd column which contains the NYC consumption of water in millions of gallons per day."
   ]
  },
  {
   "cell_type": "code",
   "execution_count": 66,
   "metadata": {},
   "outputs": [
    {
     "name": "stdout",
     "output_type": "stream",
     "text": [
      "The maximum yearly NYC consumption of water in millions of gallons per day is  1512.0\n"
     ]
    }
   ],
   "source": [
    "#Use the numpy max function and indexing to get the element at index 2 - in the 3rd column\n",
    "maxwater = np.max(nyc_water, 0)[2]\n",
    "\n",
    "#print results\n",
    "print(\"The maximum yearly NYC consumption of water in millions of gallons per day is \", maxwater)"
   ]
  },
  {
   "cell_type": "markdown",
   "metadata": {},
   "source": [
    "### Task 5 - Question 2\n",
    "\n",
    "\"How many calendar years are represented within this data set? NumPy's shape command is one way to find out.\"\n",
    "\n",
    "For this question I will use the numpy size function which allows me to choose either the number of columns or the number of rows, rather than the shape function which returns both."
   ]
  },
  {
   "cell_type": "code",
   "execution_count": 49,
   "metadata": {},
   "outputs": [
    {
     "name": "stdout",
     "output_type": "stream",
     "text": [
      "The number of years present is  39\n"
     ]
    }
   ],
   "source": [
    "#Use the Numpy size function so that I will can choose to get only the number of rows rather than rows + columns.\n",
    "num_of_years = np.size(nyc_water,0)\n",
    "\n",
    "#print the results\n",
    "print(\"The number of years present is \", num_of_years)"
   ]
  },
  {
   "cell_type": "markdown",
   "metadata": {},
   "source": [
    "### Task 5 - Question 3\n",
    "\"What is the mean and the standard deviation of the per capita daily water consumption?\"\n",
    "\n",
    "To solve this I will use numpy's mean and standard deviation functions and then use indexing to get the result for the last column. "
   ]
  },
  {
   "cell_type": "code",
   "execution_count": 68,
   "metadata": {},
   "outputs": [
    {
     "name": "stdout",
     "output_type": "stream",
     "text": [
      "The mean per capita daily water consumption is  160.30769230769232\n",
      "The standard deviation of the per capita daily water consumption is  31.51894330370624\n"
     ]
    }
   ],
   "source": [
    "#use the numpy mean function to determine the mean of each column and slice that result for only the last column\n",
    "meanpc = np.mean(nyc_water,0)[-1]\n",
    "\n",
    "#print results\n",
    "print(\"The mean per capita daily water consumption is \", meanpc)\n",
    "\n",
    "#use the numpy .std function to find the standard deviation for each column and then slice that result for only the last column\n",
    "stdpc = np.std(nyc_water,0)[-1]\n",
    "\n",
    "#print results\n",
    "print(\"The standard deviation of the per capita daily water consumption is \", stdpc)"
   ]
  },
  {
   "cell_type": "markdown",
   "metadata": {},
   "source": [
    "### Task 5 - Question 4\n",
    "\"What is the increase or decrease in population from year to year? Use NumPy's diff function to create an array of differences and save that to a variable called \"pop_diff\", then print that variable to the screen.\"\n",
    "\n",
    "Because using the diff function on a multidimensional array makes little sense in this scenario, I first created a new array called pop, made up of the 2nd column (index 1) of the nyc_water array. Then I used the diff function to create another array with just the differences between the elements of my new array. I then returned those results."
   ]
  },
  {
   "cell_type": "code",
   "execution_count": 69,
   "metadata": {},
   "outputs": [
    {
     "data": {
      "text/plain": [
       "array([-30461. ,  17602. ,  19864. ,  72119. ,  53290. ,  39540. ,\n",
       "        45192. ,  23230. ,  11243. ,  -9544. ,  -8525. ,  38851. ,\n",
       "        54443. ,  77222. ,  64292. ,  62582. ,  64772. ,  75631. ,\n",
       "        84816. ,  89401. ,  60618. ,  16685.5,  16685.5,  16685.5,\n",
       "        16685.5,  16685.5,  16685.5,  16685.5,  16685.5,  16685.5,\n",
       "        16685.5, 108965. ,  77081. ,  61281. ,  49530. ,  44512. ,\n",
       "        21171. ,  85025. ])"
      ]
     },
     "execution_count": 69,
     "metadata": {},
     "output_type": "execute_result"
    }
   ],
   "source": [
    "#first we need to get only the population column from the array so we use Numpy's slicing features to pull column index 1.\n",
    "pop = nyc_water[:,1]\n",
    "\n",
    "#then we use numpy's diff function to find the difference between the elements and return that in a new array\n",
    "pop_diff = np.diff(pop)\n",
    "\n",
    "#return results\n",
    "pop_diff"
   ]
  },
  {
   "cell_type": "code",
   "execution_count": null,
   "metadata": {},
   "outputs": [],
   "source": []
  }
 ],
 "metadata": {
  "kernelspec": {
   "display_name": "Python 3",
   "language": "python",
   "name": "python3"
  },
  "language_info": {
   "codemirror_mode": {
    "name": "ipython",
    "version": 3
   },
   "file_extension": ".py",
   "mimetype": "text/x-python",
   "name": "python",
   "nbconvert_exporter": "python",
   "pygments_lexer": "ipython3",
   "version": "3.7.3"
  }
 },
 "nbformat": 4,
 "nbformat_minor": 2
}
