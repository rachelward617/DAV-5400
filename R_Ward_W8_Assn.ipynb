{
 "cells": [
  {
   "cell_type": "markdown",
   "metadata": {},
   "source": [
    "# Rachel Ward - DAV 5400\n",
    "\n",
    "## Week 8 Assignment\n",
    "\n",
    "In this week's assignment I will be using regular expressions \"regex\" to gather and manipulate data."
   ]
  },
  {
   "cell_type": "markdown",
   "metadata": {},
   "source": [
    "### Question 1:\n",
    "\n",
    "Given the below string, extract the names of each individual and store them in a vector:\n",
    "\n",
    "\"555-1239Moe Szyslak(636) 555-0113Burns, C. Montgomery555 -6542Rev. Timothy Lovejoy555\n",
    "8904Ned Flanders636-555-3226Simpson, Homer5553642Dr. Julius Hibbert\"\n",
    "\n",
    "To accomplish this I will use the regex findall() function to return all the strings that do not have parentheses, numbers, or dashes. This will return some strings which are just spaces, so I will then filter those out using the strip function in a list comprehension."
   ]
  },
  {
   "cell_type": "code",
   "execution_count": 224,
   "metadata": {},
   "outputs": [
    {
     "data": {
      "text/plain": [
       "['Moe Szyslak',\n",
       " 'Burns, C. Montgomery',\n",
       " 'Rev. Timothy Lovejoy',\n",
       " 'Ned Flanders',\n",
       " 'Simpson, Homer',\n",
       " 'Dr. Julius Hibbert']"
      ]
     },
     "execution_count": 224,
     "metadata": {},
     "output_type": "execute_result"
    }
   ],
   "source": [
    "#first import the regex module using import re\n",
    "import re\n",
    "\n",
    "#also import pandas\n",
    "import pandas as pd\n",
    "\n",
    "#also import numpy\n",
    "import numpy as np\n",
    "\n",
    "#Next I assign the string to a variable so that I can reference it later on\n",
    "mess = \"555-1239Moe Szyslak(636) 555-0113Burns, C. Montgomery555 -6542Rev. Timothy Lovejoy555 8904Ned Flanders636-555-3226Simpson, Homer5553642Dr. Julius Hibbert\"\n",
    "\n",
    "#I will use the regex function findall to find all strings that do not have parentheses, numbers, or dashes.\n",
    "#I will assign this to a variable\n",
    "#Note this will generate some extra items because it will pick up spaces after parentheses. I will remove those later\n",
    "listofnames = re.findall(r\"[^()0-9-]+\", mess)\n",
    "\n",
    "#use list comprehension and the strip function to get rid of the extra items which contain only spaces\n",
    "cleannames = [i.strip() for i in listofnames if i.strip()]\n",
    "\n",
    "#show the list\n",
    "cleannames"
   ]
  },
  {
   "cell_type": "markdown",
   "metadata": {},
   "source": [
    "### Question 2:\n",
    "\n",
    "Using your new vector containing only the names of the six individuals, complete the following tasks:\n",
    "* a. Use your regex skills to rearrange the vector so that all elements conform to the standard “firstname\n",
    "lastname”, preserving any titles (e.g., “Rev.”, “Dr.”, etc) or middle/second names.\n",
    "* b. Construct a logical vector indicating whether a character has a title (i.e., Rev. and Dr.).\n",
    "* c. Construct a logical vector indicating whether a character has a middle/second name.\n",
    "\n",
    "### Question 2a:\n",
    "First I will construct a new list which is empty. Then I will create a regex expression that identifies the string up to and including the comma. Then I will use a for loop to iterate through the items in the list created above, check if there is a match to my regex, and if so, split the string and remove the spaces, then create a new item and join the pieces in the correct order and add it to the empty list. Otherwise, if the item does not contain a match, the for loop will just add the item (without adjustment) to the new list. Then I will show the new list of the names in the correct order."
   ]
  },
  {
   "cell_type": "code",
   "execution_count": 187,
   "metadata": {},
   "outputs": [
    {
     "data": {
      "text/plain": [
       "['Moe Szyslak',\n",
       " 'C. Montgomery Burns',\n",
       " 'Rev. Timothy Lovejoy',\n",
       " 'Ned Flanders',\n",
       " 'Homer Simpson',\n",
       " 'Dr. Julius Hibbert']"
      ]
     },
     "execution_count": 187,
     "metadata": {},
     "output_type": "execute_result"
    }
   ],
   "source": [
    "#create an empty list to which items will be appended using the for loop below\n",
    "newlist = []\n",
    "\n",
    "#create a regex to get any text up to the first comma and assign it to a variable for ease of use\n",
    "commaexp = '^(.+?),'\n",
    "\n",
    "#create a for loop which cycles through the items in the cleannames list from above\n",
    "for i in cleannames:\n",
    "    #look to see if the list item has a match to my regex\n",
    "    if re.match(commaexp,i):\n",
    "        #if there is a match, split the item into sub strings by the comma and strip the extra spaces\n",
    "        changed = [x.strip() for x in i.split(',')]\n",
    "        #create a new item that concatenates the item from changed at index 1, a space, and the item at index 0\n",
    "        newitem = changed[1]+ ' ' + changed[0]\n",
    "        #append the new item to the list\n",
    "        newlist.append(newitem)\n",
    "    else:\n",
    "        #if there is not a match, just add the item as it was, no change necessary\n",
    "        newlist.append(i)\n",
    "\n",
    "#show the new list\n",
    "newlist\n"
   ]
  },
  {
   "cell_type": "markdown",
   "metadata": {},
   "source": [
    "### Question 2b:\n",
    "\n",
    "\"Construct a logical vector indicating whether a character has a title (i.e. Rev and Dr.).\"\n",
    "\n",
    "To accomplish this I will first create a Pandas Series using the new list I created above with the names in the correct order. Then I will use the built in Pandas string function contains() on my Series to search for the strings Dr. or Rev. This will generate a boolean vector. I will make this it's own Series, and then add it to the original Series so the results will be easier to interpret."
   ]
  },
  {
   "cell_type": "code",
   "execution_count": 225,
   "metadata": {},
   "outputs": [
    {
     "data": {
      "text/html": [
       "<div>\n",
       "<style scoped>\n",
       "    .dataframe tbody tr th:only-of-type {\n",
       "        vertical-align: middle;\n",
       "    }\n",
       "\n",
       "    .dataframe tbody tr th {\n",
       "        vertical-align: top;\n",
       "    }\n",
       "\n",
       "    .dataframe thead th {\n",
       "        text-align: right;\n",
       "    }\n",
       "</style>\n",
       "<table border=\"1\" class=\"dataframe\">\n",
       "  <thead>\n",
       "    <tr style=\"text-align: right;\">\n",
       "      <th></th>\n",
       "      <th>Characters</th>\n",
       "      <th>Has Title?</th>\n",
       "    </tr>\n",
       "  </thead>\n",
       "  <tbody>\n",
       "    <tr>\n",
       "      <th>0</th>\n",
       "      <td>Moe Szyslak</td>\n",
       "      <td>False</td>\n",
       "    </tr>\n",
       "    <tr>\n",
       "      <th>1</th>\n",
       "      <td>C. Montgomery Burns</td>\n",
       "      <td>False</td>\n",
       "    </tr>\n",
       "    <tr>\n",
       "      <th>2</th>\n",
       "      <td>Rev. Timothy Lovejoy</td>\n",
       "      <td>True</td>\n",
       "    </tr>\n",
       "    <tr>\n",
       "      <th>3</th>\n",
       "      <td>Ned Flanders</td>\n",
       "      <td>False</td>\n",
       "    </tr>\n",
       "    <tr>\n",
       "      <th>4</th>\n",
       "      <td>Homer Simpson</td>\n",
       "      <td>False</td>\n",
       "    </tr>\n",
       "    <tr>\n",
       "      <th>5</th>\n",
       "      <td>Dr. Julius Hibbert</td>\n",
       "      <td>True</td>\n",
       "    </tr>\n",
       "  </tbody>\n",
       "</table>\n",
       "</div>"
      ],
      "text/plain": [
       "             Characters  Has Title?\n",
       "0           Moe Szyslak       False\n",
       "1   C. Montgomery Burns       False\n",
       "2  Rev. Timothy Lovejoy        True\n",
       "3          Ned Flanders       False\n",
       "4         Homer Simpson       False\n",
       "5    Dr. Julius Hibbert        True"
      ]
     },
     "execution_count": 225,
     "metadata": {},
     "output_type": "execute_result"
    }
   ],
   "source": [
    "#make the list \"newlist\" created in part 2a into a series in pandas\n",
    "namesframe = pd.Series(newlist)\n",
    "\n",
    "#use the str.contains() function and an or to create a boolean vector which tells whether or not each character has a title\n",
    "#note: searches only for Dr. or Rev.\n",
    "addcolumn = namesframe.str.contains('Dr.|Rev.')\n",
    "\n",
    "#create new Pandas Series with the boolean results\n",
    "addcolumn=pd.Series(addcolumn)\n",
    "\n",
    "#make a list of the series to concatenate\n",
    "newframe = [namesframe,addcolumn]\n",
    "\n",
    "#concatenate the two series into a data frame with the names in one column and the boolean results in another column\n",
    "result = pd.concat(newframe, axis =1)\n",
    "\n",
    "#rename columns to make results legible\n",
    "result = result.rename(columns={0: \"Characters\", 1: \"Has Title?\"})\n",
    "\n",
    "#show the results\n",
    "result"
   ]
  },
  {
   "cell_type": "markdown",
   "metadata": {},
   "source": [
    "### Question 2c:\n",
    "\"Construct a logical vector indicating whether a character has a middle/second name.\"\n",
    "\n",
    "For this task I will first create a regex which will determine whether a character has a title. If the character has a title, I will replace the title with a \"\".\n",
    "Then I will create another regex which looks for patterns that are a string of letters. I will use this regex to count the number of pattern matches this has, to determine if someone has three names. \n",
    "I will make this into a dataframe so the results are more easily understood.\n",
    "\n",
    "Lastly, I will add a boolean column to this new data frame which says \"True\" only when there are 3 pattern matches for the character."
   ]
  },
  {
   "cell_type": "code",
   "execution_count": 212,
   "metadata": {},
   "outputs": [
    {
     "data": {
      "text/plain": [
       "0            Moe Szyslak\n",
       "1    C. Montgomery Burns\n",
       "2        Timothy Lovejoy\n",
       "3           Ned Flanders\n",
       "4          Homer Simpson\n",
       "5         Julius Hibbert\n",
       "dtype: object"
      ]
     },
     "execution_count": 212,
     "metadata": {},
     "output_type": "execute_result"
    }
   ],
   "source": [
    "#create a regex string to detect the two titles\n",
    "title = r\"Rev.|Dr.\"\n",
    "\n",
    "#create a new series where the titles are replaced with \"\" \n",
    "removedtitles = namesframe.str.replace(title, repl=\"\")\n",
    "\n",
    "#show this new series\n",
    "removedtitles"
   ]
  },
  {
   "cell_type": "code",
   "execution_count": 221,
   "metadata": {},
   "outputs": [
    {
     "data": {
      "text/html": [
       "<div>\n",
       "<style scoped>\n",
       "    .dataframe tbody tr th:only-of-type {\n",
       "        vertical-align: middle;\n",
       "    }\n",
       "\n",
       "    .dataframe tbody tr th {\n",
       "        vertical-align: top;\n",
       "    }\n",
       "\n",
       "    .dataframe thead th {\n",
       "        text-align: right;\n",
       "    }\n",
       "</style>\n",
       "<table border=\"1\" class=\"dataframe\">\n",
       "  <thead>\n",
       "    <tr style=\"text-align: right;\">\n",
       "      <th></th>\n",
       "      <th>Characters w/o Titles</th>\n",
       "      <th># of pattern matches</th>\n",
       "    </tr>\n",
       "  </thead>\n",
       "  <tbody>\n",
       "    <tr>\n",
       "      <th>0</th>\n",
       "      <td>Moe Szyslak</td>\n",
       "      <td>2</td>\n",
       "    </tr>\n",
       "    <tr>\n",
       "      <th>1</th>\n",
       "      <td>C. Montgomery Burns</td>\n",
       "      <td>3</td>\n",
       "    </tr>\n",
       "    <tr>\n",
       "      <th>2</th>\n",
       "      <td>Timothy Lovejoy</td>\n",
       "      <td>2</td>\n",
       "    </tr>\n",
       "    <tr>\n",
       "      <th>3</th>\n",
       "      <td>Ned Flanders</td>\n",
       "      <td>2</td>\n",
       "    </tr>\n",
       "    <tr>\n",
       "      <th>4</th>\n",
       "      <td>Homer Simpson</td>\n",
       "      <td>2</td>\n",
       "    </tr>\n",
       "    <tr>\n",
       "      <th>5</th>\n",
       "      <td>Julius Hibbert</td>\n",
       "      <td>2</td>\n",
       "    </tr>\n",
       "  </tbody>\n",
       "</table>\n",
       "</div>"
      ],
      "text/plain": [
       "  Characters w/o Titles  # of pattern matches\n",
       "0           Moe Szyslak                     2\n",
       "1   C. Montgomery Burns                     3\n",
       "2       Timothy Lovejoy                     2\n",
       "3          Ned Flanders                     2\n",
       "4         Homer Simpson                     2\n",
       "5        Julius Hibbert                     2"
      ]
     },
     "execution_count": 221,
     "metadata": {},
     "output_type": "execute_result"
    }
   ],
   "source": [
    "#create a regex for strings of letters\n",
    "letters = r\"[A-Za-z]+\"\n",
    "\n",
    "#count the number of occurrences of the letters pattern as described above\n",
    "#any item with three pattern matches will have a middle name\n",
    "threenames = removedtitles.str.count(letters)\n",
    "\n",
    "#create new Pandas Series with the boolean results\n",
    "threenames=pd.Series(threenames)\n",
    "\n",
    "#make a list of the series to concatenate\n",
    "cframe = [removedtitles,threenames]\n",
    "\n",
    "#concatenate the two series into a data frame with the names with titles removed in one column\n",
    "#and the boolean results in another column\n",
    "cresult = pd.concat(cframe, axis =1)\n",
    "\n",
    "#rename columns to make results legible\n",
    "cresult = cresult.rename(columns={0: \"Characters w/o Titles\", 1: \"# of pattern matches\"})\n",
    "\n",
    "#show the results\n",
    "cresult\n"
   ]
  },
  {
   "cell_type": "code",
   "execution_count": 226,
   "metadata": {},
   "outputs": [
    {
     "data": {
      "text/html": [
       "<div>\n",
       "<style scoped>\n",
       "    .dataframe tbody tr th:only-of-type {\n",
       "        vertical-align: middle;\n",
       "    }\n",
       "\n",
       "    .dataframe tbody tr th {\n",
       "        vertical-align: top;\n",
       "    }\n",
       "\n",
       "    .dataframe thead th {\n",
       "        text-align: right;\n",
       "    }\n",
       "</style>\n",
       "<table border=\"1\" class=\"dataframe\">\n",
       "  <thead>\n",
       "    <tr style=\"text-align: right;\">\n",
       "      <th></th>\n",
       "      <th>Characters w/o Titles</th>\n",
       "      <th># of pattern matches</th>\n",
       "      <th>Has Three Names?</th>\n",
       "    </tr>\n",
       "  </thead>\n",
       "  <tbody>\n",
       "    <tr>\n",
       "      <th>0</th>\n",
       "      <td>Moe Szyslak</td>\n",
       "      <td>2</td>\n",
       "      <td>False</td>\n",
       "    </tr>\n",
       "    <tr>\n",
       "      <th>1</th>\n",
       "      <td>C. Montgomery Burns</td>\n",
       "      <td>3</td>\n",
       "      <td>True</td>\n",
       "    </tr>\n",
       "    <tr>\n",
       "      <th>2</th>\n",
       "      <td>Timothy Lovejoy</td>\n",
       "      <td>2</td>\n",
       "      <td>False</td>\n",
       "    </tr>\n",
       "    <tr>\n",
       "      <th>3</th>\n",
       "      <td>Ned Flanders</td>\n",
       "      <td>2</td>\n",
       "      <td>False</td>\n",
       "    </tr>\n",
       "    <tr>\n",
       "      <th>4</th>\n",
       "      <td>Homer Simpson</td>\n",
       "      <td>2</td>\n",
       "      <td>False</td>\n",
       "    </tr>\n",
       "    <tr>\n",
       "      <th>5</th>\n",
       "      <td>Julius Hibbert</td>\n",
       "      <td>2</td>\n",
       "      <td>False</td>\n",
       "    </tr>\n",
       "  </tbody>\n",
       "</table>\n",
       "</div>"
      ],
      "text/plain": [
       "  Characters w/o Titles  # of pattern matches  Has Three Names?\n",
       "0           Moe Szyslak                     2             False\n",
       "1   C. Montgomery Burns                     3              True\n",
       "2       Timothy Lovejoy                     2             False\n",
       "3          Ned Flanders                     2             False\n",
       "4         Homer Simpson                     2             False\n",
       "5        Julius Hibbert                     2             False"
      ]
     },
     "execution_count": 226,
     "metadata": {},
     "output_type": "execute_result"
    }
   ],
   "source": [
    "#create a new column which returns True if the number of pattern matches is 3\n",
    "cresult['Has Three Names?'] = cresult['# of pattern matches'] ==3\n",
    "\n",
    "#show the results\n",
    "cresult"
   ]
  },
  {
   "cell_type": "markdown",
   "metadata": {},
   "source": [
    "### Question 3\n",
    "\n",
    "\"Consider the HTML string < title > +++BREAKING NEWS +++ < title >. We would like to extract the first HTML tag (i.e.,\n",
    "“< title >”). To do so we write the regular expression “<.+>”. Explain why this fails and correct the expression.\"\n",
    "\n",
    "First I will demonstrate that the given regular expression does not work. Then I will explain the reasons that it doesn't work. Finally, I will correct the expression to extract the appropriate tag from the HTML string.\n"
   ]
  },
  {
   "cell_type": "code",
   "execution_count": 48,
   "metadata": {},
   "outputs": [
    {
     "data": {
      "text/plain": [
       "'<title>+++BREAKING NEWS+++<title>'"
      ]
     },
     "execution_count": 48,
     "metadata": {},
     "output_type": "execute_result"
    }
   ],
   "source": [
    "#first copy in the given expression that we are to test and assign a variable so it's easier to use later on\n",
    "givenpattern = \"<.+>\"\n",
    "\n",
    "#give the HTML string a variable as well that we will pass in to the search regex function\n",
    "htmlstring = \"<title>+++BREAKING NEWS+++<title>\"\n",
    "\n",
    "#use regex search function and .group to extract the string based on the pattern we were given to see the results\n",
    "re.search(givenpattern, htmlstring).group()"
   ]
  },
  {
   "cell_type": "markdown",
   "metadata": {},
   "source": [
    "**Explanation:** \n",
    "* \"<\" indicates that a string that matches will begin with a < \n",
    "* \">\" indicates that the string will end with a >\n",
    "* .+ will return any non-empty string within a single line and the + matches one or more occurrence of the pattern\n",
    "\n",
    "In simpler words, the given expression does not work because of the second \"< title >\" in the HTML string. The expression recognizes the second \"< title >\" as another occurrence of the pattern. If we were to remove this second \"< title >\", the given expression would work, as shown in the code below. "
   ]
  },
  {
   "cell_type": "code",
   "execution_count": 46,
   "metadata": {},
   "outputs": [
    {
     "data": {
      "text/plain": [
       "'<title>'"
      ]
     },
     "execution_count": 46,
     "metadata": {},
     "output_type": "execute_result"
    }
   ],
   "source": [
    "#copy the HTML string from above but remove the last <title> to illustrate point\n",
    "htmlaltered = \"<title>+++BREAKING NEWS+++\"\n",
    "\n",
    "#use the same expression as before but sub in the new altered html string variable\n",
    "re.search(givenpattern, htmlaltered).group()"
   ]
  },
  {
   "cell_type": "markdown",
   "metadata": {},
   "source": [
    "Now that I have verified that this is what is happening, I will correct the expression to extract the desired HTML tag."
   ]
  },
  {
   "cell_type": "code",
   "execution_count": 231,
   "metadata": {},
   "outputs": [
    {
     "data": {
      "text/plain": [
       "'<title>'"
      ]
     },
     "execution_count": 231,
     "metadata": {},
     "output_type": "execute_result"
    }
   ],
   "source": [
    "#I will use one of the regular expressions from the DAV 5400 Week 8 Discussion Board to correct the expression\n",
    "#this expression looks for a string starting with < then containing anything except > before closing with a >\n",
    "#this expression will stop searching after one match so it will stop after the first \"<title>\"\n",
    "pattern = \"<[^>]+>\"\n",
    "\n",
    "#use the regex search function and pass the expression pattern above and the HTML string from above\n",
    "#use the group function to extract the HTML tag\n",
    "re.search(pattern, htmlstring).group()"
   ]
  },
  {
   "cell_type": "markdown",
   "metadata": {},
   "source": [
    "### Question 4\n",
    "\n",
    "\"Consider the string “(5-3)^2=5^2-2x5x3+3^2” conforms to the binomial theorem. We would like to extract the\n",
    "formula in the string. To do so we write the regular expression “[^0-9=+*()]+”. Explain why this fails and correct the\n",
    "expression.\"\n",
    "\n",
    "First I will test the given expression to see what happens and confirm that it does not work, then I will explain why it doesn't work. Lastly, I will correct the exression. "
   ]
  },
  {
   "cell_type": "code",
   "execution_count": 65,
   "metadata": {},
   "outputs": [
    {
     "data": {
      "text/plain": [
       "'-'"
      ]
     },
     "execution_count": 65,
     "metadata": {},
     "output_type": "execute_result"
    }
   ],
   "source": [
    "#first copy the string from above and assign it to a variable to make it easier to use\n",
    "binomial = \"(5-3)^2=5^2-2*5*3+3^2\"\n",
    "\n",
    "#next copy the given expression and assign it to a variable for easy of use\n",
    "givenexp = \"[^0-9=+*()]+\"\n",
    "\n",
    "#use the regex search function and pass the given expression and the binomial string from above\n",
    "#use the group function to extract the formula\n",
    "re.search(givenexp, binomial).group()"
   ]
  },
  {
   "cell_type": "markdown",
   "metadata": {},
   "source": [
    "**Explanation**\n",
    "[^ will return anything EXCEPT for what follows the ^ symbol. So the expression as it stands will exclude any numbers (ex. 5 and 3), as well as parentheses, asterisks, + and = symbols. \n",
    "To correct this expression I simply need to add a - to the equation immediately following the 0-9 and move the ^ to anywhere in the expression after the new - symbol."
   ]
  },
  {
   "cell_type": "code",
   "execution_count": 96,
   "metadata": {},
   "outputs": [
    {
     "data": {
      "text/plain": [
       "'(5-3)^2=5^2-2*5*3+3^2'"
      ]
     },
     "execution_count": 96,
     "metadata": {},
     "output_type": "execute_result"
    }
   ],
   "source": [
    "#create a new variable with the modified expression as described immediately above\n",
    "newbinomexp = \"[0-9-^=+*()]+\"\n",
    "\n",
    "#use the regex search function and pass the new expression and the binomial string from above\n",
    "#use the group function to extract the formula\n",
    "re.search(newbinomexp, binomial).group()"
   ]
  },
  {
   "cell_type": "markdown",
   "metadata": {},
   "source": [
    "Now I will test another formula that adheres to the binomial theorem to make sure the new expression will successfully extract the new formula. "
   ]
  },
  {
   "cell_type": "code",
   "execution_count": 97,
   "metadata": {},
   "outputs": [
    {
     "data": {
      "text/plain": [
       "'(5-2)^3=5^3-3*5*2*2-3*5*2-2^3'"
      ]
     },
     "execution_count": 97,
     "metadata": {},
     "output_type": "execute_result"
    }
   ],
   "source": [
    "#creates a new formula that adheres to the binomial theorem and assign it to the variable newbinomial\n",
    "newbinomial = \"(5-2)^3=5^3-3*5*2*2-3*5*2-2^3\"\n",
    "\n",
    "#test the new binomial using the regex search and group functions\n",
    "re.search(newbinomexp, newbinomial).group()"
   ]
  },
  {
   "cell_type": "markdown",
   "metadata": {},
   "source": []
  }
 ],
 "metadata": {
  "kernelspec": {
   "display_name": "Python 3",
   "language": "python",
   "name": "python3"
  },
  "language_info": {
   "codemirror_mode": {
    "name": "ipython",
    "version": 3
   },
   "file_extension": ".py",
   "mimetype": "text/x-python",
   "name": "python",
   "nbconvert_exporter": "python",
   "pygments_lexer": "ipython3",
   "version": "3.7.3"
  }
 },
 "nbformat": 4,
 "nbformat_minor": 2
}
